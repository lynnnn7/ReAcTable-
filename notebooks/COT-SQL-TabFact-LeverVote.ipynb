{
 "cells": [
  {
   "cell_type": "code",
   "execution_count": 1,
   "id": "c7fa0fb0-dbd8-4ec5-8b5d-b9c237455edd",
   "metadata": {},
   "outputs": [],
   "source": [
    "# %load_ext autoreload\n",
    "# %autoreload 2"
   ]
  },
  {
   "cell_type": "code",
   "execution_count": 4,
   "id": "c54b74f4-099c-4f47-89f2-305d54d6c866",
   "metadata": {},
   "outputs": [],
   "source": [
    "import re\n",
    "import pandas as pd\n",
    "import openai\n",
    "import os\n",
    "import json\n",
    "# from gpt3_sandbox.api.gpt import GPT\n",
    "# from gpt3_sandbox.api.gpt import Example\n",
    "from pandasql import sqldf\n",
    "from tqdm import tqdm\n",
    "import numpy as np\n",
    "from GptPrompter import *\n",
    "from GptCOTPrompter import *\n",
    "from GptCOTPrompter_BeamSeach import *\n",
    "from AutoReasoner import *\n",
    "import dotenv\n",
    "\n",
    "config = dotenv.dotenv_values(\".env\")\n",
    "openai.api_type = 'azure'\n",
    "openai.api_base = 'https://meta-prompter-az-openai.openai.azure.com'\n",
    "openai.api_version = '2022-12-01'\n",
    "openai.api_key = config['OPENAI_API_KEY_ms']\n",
    "\n",
    "dataset = pd.read_csv('./dataset/Table-Fact-Checking/small_test.csv', sep=',')\n",
    "# dataset = pd.read_csv('./dataset/Table-Fact-Checking/train_sample.csv', sep=',')\n",
    "# dataset = pd.read_csv('./dataset/WikiTableQuestions/data/training.tsv', sep='\\t')\n",
    "\n",
    "ft=None"
   ]
  },
  {
   "cell_type": "code",
   "execution_count": 5,
   "id": "d06372ed-62f4-432d-b52a-2d5fe319bf41",
   "metadata": {},
   "outputs": [],
   "source": [
    "# import fasttext\n",
    "# ft = fasttext.load_model('/mnt/idm_automapping/cc.en.300.bin')"
   ]
  },
  {
   "cell_type": "code",
   "execution_count": 10,
   "id": "a7f7e375-ef7d-40ae-b0c8-0551d93e6c41",
   "metadata": {
    "tags": []
   },
   "outputs": [
    {
     "name": "stderr",
     "output_type": "stream",
     "text": [
      "100%|███████████████████████████████████████████████████████████████████████████████████████████████████████████████████████████████████████████████████████████████████████████████████████████████████████████████████████████████████████████████| 10/10 [00:16<00:00,  1.69s/it]"
     ]
    },
    {
     "name": "stdout",
     "output_type": "stream",
     "text": [
      "Acc = 8 / 10 = 0.8\n"
     ]
    },
    {
     "name": "stderr",
     "output_type": "stream",
     "text": [
      "\n"
     ]
    }
   ],
   "source": [
    "NNDemo = False\n",
    "max_demo = 7\n",
    "template = 'original-sql'\n",
    "# template = 'formatv1'\n",
    "gpt_model = 'mp-aoi-codex'\n",
    "\n",
    "def parallel_codex_func(i):\n",
    "    max_retry = 3\n",
    "    while max_retry>0:\n",
    "        try:\n",
    "            codex_prompter = CodexAnswerCOTExecutor_LeverVote(\n",
    "                                              f'./prompt_template/{template}.json',\n",
    "                                              # '/mnt/text2sql/dataset/Table-Fact-Checking/prompt_template/formatv1.json',\n",
    "                                              dataset.iloc[i]['id'], \n",
    "                                              dataset.iloc[i]['utterance'], \n",
    "                                              './data/all_csv/' + dataset.iloc[i]['context'], \n",
    "                                              dataset.iloc[i]['targetValue'], \n",
    "                                              base_path='./dataset/Table-Fact-Checking/',\n",
    "                                              demo_file=f'few-shot-demo/TabFact-formatv1.json',\n",
    "                                             sep='#'\n",
    "                                             )\n",
    "            codex_prompter.model = gpt_model\n",
    "            codex_prompter.max_demo = max_demo\n",
    "            \n",
    "            codex_prompter._gen_gpt_prompt()\n",
    "            codex_prompter._get_gpt_prediction()\n",
    "            log = codex_prompter._log_dict()\n",
    "            break\n",
    "        except Exception as e:\n",
    "            log = {\n",
    "                'id': dataset.iloc[i]['id'],\n",
    "                'uncaught_err': str(e)\n",
    "            }\n",
    "            max_retry -= 1\n",
    "    return log\n",
    "\n",
    "for program in [ 'sql', ]:\n",
    "    n_threads = 1\n",
    "    maxLimit = float('inf')\n",
    "    # maxLimit = 10\n",
    "    from joblib import Parallel, delayed\n",
    "    logs = Parallel(n_jobs=n_threads, require='sharedmem')(delayed(parallel_codex_func)(i) for i in tqdm(range(min(maxLimit, dataset.shape[0]))))\n",
    "    json.dump(logs, open(f'./dataset/Table-Fact-Checking/results/CodexAnswerCOTExecutor_LeverVote_{template}_{program}_NNDemo={NNDemo}_results_test_small_limit{maxLimit}_model{gpt_model}.json', 'w'), indent=4)\n",
    "    correct_cnt = 0\n",
    "    for l in logs:\n",
    "        if 'predicted_value' in l and l['target_value'] == l['predicted_value']:\n",
    "            correct_cnt += 1\n",
    "    print(f\"Acc = {correct_cnt} / {len(logs)} = {correct_cnt / len(logs)}\")"
   ]
  },
  {
   "cell_type": "code",
   "execution_count": 9,
   "id": "f0f86fef-6a4d-4ef2-967f-9e3bd9d147ba",
   "metadata": {
    "tags": []
   },
   "outputs": [
    {
     "data": {
      "text/plain": [
       "{'id': 'nt-17418',\n",
       " 'utterance': 'neil labute be nominate for best play in 2009. yes or no?',\n",
       " 'source_csv': './dataset/Table-Fact-Checking/./data/all_csv/2-18963715-1.html.csv',\n",
       " 'target_value': 'yes',\n",
       " 'predicted_value': 'yes',\n",
       " 'prompt': 'The database table DF is shown as follows:\\n[HEAD]: year|venue|winner|country|score\\n---\\n[ROW] 1: 2005|arlandastad|david patrick|scotland|272\\n[ROW] 2: 2004|arlandastad|matthew king|england|270\\n[ROW] 3: 2003|falsterbo|titch moore|south africa|273\\n[ROW] 4: 2002|halmstad|thomas besancenez|france|279\\n[ROW] 5: 2001|bokskogens|cristophe pottier|france|272\\n\\nJudge whether the following statement is correct or not: \"in 2004 the score be less than 270. yes or no?\". Generate SQL or Python code step-by-step given the question and table to answer the question correctly. For each step, generate SQL code to process the query or Python code to reformat the data. Output the code braced by \"```\" and an external executor will process the code generated and feed an intermediate table back to you. Answer the question directly (yes or no) if confident.\\n\\nSQL: ```SELECT score FROM DF WHERE year=2004;```.\\n\\nIntermediate table: [HEAD]: score\\n---\\n[ROW] 1: 270\\n\\nAnswer: ```no```.\\n\\nThe database table DF is shown as follows:\\n[HEAD]: nat|name|moving_from|type|transfer_window|transfer_fee\\n---\\n[ROW] 1: esp|mikel arteta|barcelona|transfer|summer|5.8 m\\n[ROW] 2: aus|kevin muscat|wolverhampton wanderers|transfer|summer|free\\n[ROW] 3: sco|steven thompson|dundee united|transfer|winter|0.2 m\\n[ROW] 4: fra|jerome bonnissel|bordeaux|transfer|winter|free\\n[ROW] 5: nor|dan eggen|deportivo alavés|transfer|winter|free\\n\\nJudge whether the following statement is correct or not: \"there be 3 total transfer in the winter. yes or no?\". Generate SQL or Python code step-by-step given the question and table to answer the question correctly. For each step, generate SQL code to process the query or Python code to reformat the data. Output the code braced by \"```\" and an external executor will process the code generated and feed an intermediate table back to you. Answer the question directly (yes or no) if confident.\\n\\nSQL: ```SELECT * FROM DF WHERE transfer_window=\"winter\";```.\\n\\nIntermediate table: [HEAD]: nat|name|moving_from|type|transfer_window|transfer_fee\\n---\\n[ROW] 1: sco|steven thompson|dundee united|transfer|winter|0.2 m\\n[ROW] 2: fra|jerome bonnissel|bordeaux|transfer|winter|free\\n[ROW] 3: nor|dan eggen|deportivo alavés|transfer|winter|free\\n\\nSQL: ```SELECT COUNT(*) FROM DF;```.\\n\\nIntermediate table: [HEAD]: COUNT(*)\\n---\\n[ROW] 1: 3\\n\\nAnswer: ```yes```.\\n\\nThe database table DF is shown as follows:\\n[HEAD]: opposing_team|against|date|venue|round\\n---\\n[ROW] 1: gillingham|1|1991 - aug - 20|fratton park|1st round 1st leg\\n[ROW] 2: gillingham|3|1991 - aug - 27|priestfield stadium|1st round 2nd leg\\n[ROW] 3: oxford united|0|1991 - sep - 24|fratton park|2nd round 1st leg\\n[ROW] 4: oxford united|0|1991 - oct - 09|manor ground|2nd round 2nd leg\\n[ROW] 5: manchester united|3|1991 - oct - 30|old trafford|3rd round\\n\\nJudge whether the following statement is correct or not: \"there be 1 game play oppose to gillingham in august. yes or no?\". Generate SQL or Python code step-by-step given the question and table to answer the question correctly. For each step, generate SQL code to process the query or Python code to reformat the data. Output the code braced by \"```\" and an external executor will process the code generated and feed an intermediate table back to you. Answer the question directly (yes or no) if confident.\\n\\nSQL: ```SELECT * FROM DF where date LIKE \"%- aug -%\" AND opposing_team=\"gillingham\";```.\\n\\nIntermediate table: [HEAD]: opposing_team|against|date|venue|round\\n---\\n[ROW] 1: gillingham|1|1991 - aug - 20|fratton park|1st round 1st leg\\n[ROW] 2: gillingham|3|1991 - aug - 27|priestfield stadium|1st round 2nd leg\\n\\nSQL: ```SELECT COUNT(*) FROM DF;```.\\n\\nIntermediate table: [HEAD]: COUNT(*)\\n---\\n[ROW] 1: 2\\n\\nAnswer: ```no```.\\n\\nThe database table DF is shown as follows:\\n[HEAD]: date|opponent|home_away|field|result\\n---\\n[ROW] 1: may 31, 1998|rattlers|away|bishop kearney field|l 13 - 23\\n[ROW] 2: june 6, 2019|cannons|home|the ballpark at harbor yard|l 17 - 23\\n[ROW] 3: june 12, 2017|bayhawks|home|the ballpark at harbor yard|l 14 - 21\\n[ROW] 4: june 14, 2020|pride|away|commerce bank ballpark|l 9 - 16\\n[ROW] 5: june 27, 1988|lizards|away|mitchel athletic complex|l 19 - 23\\n[ROW] 6: july 12, 1977|lizards|home|the ballpark at harbor yard|l 16 - 17\\n[ROW] 7: july 19, 1992|bayhawks|away|homewood field|w 22 - 17\\n[ROW] 8: july 24, 1993|rattlers|home|the ballpark at harbor yard|l 19 - 21\\n...\\n[ROW] 11: august 7, 1994|cannons|away|cawley memorial stadium|l 15 - 21\\n[ROW] 12: august 14, 1994|rattlers|home|the ballpark at harbor yard|l 18 - 23\\n\\nJudge whether the following statement is correct or not: \"on jul 19 , the bayhawks play a game at homewood field. yes or no?\". Generate SQL or Python code step-by-step given the question and table to answer the question correctly. For each step, generate SQL code to process the query or Python code to reformat the data. Output the code braced by \"```\" and an external executor will process the code generated and feed an intermediate table back to you. Answer the question directly (yes or no) if confident.\\n\\nSQL: ```SELECT field FROM DF WHERE date LIKE \"july 19%\";```.\\n\\nIntermediate table: [HEAD]: field\\n---\\n[ROW] 1: homewood field\\n\\nAnswer: ```yes```.\\n\\nThe database table DF is shown as follows:\\n[HEAD]: date|course|distance|type|winner\\n---\\n[ROW] 1: 18 may|athens ( greece ) to athens ( greece )|-|plain stage|silvio martinello ( ita )\\n[ROW] 2: 19 may|eleusis ( greece ) to naupactus ( greece )|-|plain stage|glenn magnusson ( swe )\\n[ROW] 3: 20 may|missolonghi ( greece ) to ioannina ( greece )|-|plain stage|giovanni lombardi ( ita )\\n[ROW] 4: 21 may|rest day|rest day|rest day|rest day\\n[ROW] 5: 22 may|ostuni to ostuni|-|plain stage|mario cipollini ( ita )\\n[ROW] 6: 23 may|metaponto to crotone|-|plain stage|ángel edo ( esp )\\n[ROW] 7: 24 may|crotone to catanzaro|-|hilly stage|pascal hervé ( fra )\\n[ROW] 8: 25 may|amantea to massiccio del sirino|-|stage with mountain (s)|davide rebellin ( ita )\\n...\\n[ROW] 23: 9 june|sondrio to milan|-|plain stage|serguei outschakov ( ukr )\\n[ROW] 24: total|total|-|km (mi)|km (mi)\\n\\nJudge whether the following statement is correct or not: \"mario cipollini (ita) be the only winner from italy in 7 of the race from 18 may to 9 june. yes or no?\". Generate SQL or Python code step-by-step given the question and table to answer the question correctly. For each step, generate SQL code to process the query or Python code to reformat the data. Output the code braced by \"```\" and an external executor will process the code generated and feed an intermediate table back to you. Answer the question directly (yes or no) if confident.\\n\\nSQL: ```SELECT * FROM DF WHERE winner LIKE \"%( ita )\";```.\\n\\nIntermediate table: [HEAD]: date|course|distance|type|winner\\n---\\n[ROW] 1: 18 may|athens ( greece ) to athens ( greece )|-|plain stage|silvio martinello ( ita )\\n[ROW] 2: 20 may|missolonghi ( greece ) to ioannina ( greece )|-|plain stage|giovanni lombardi ( ita )\\n[ROW] 3: 22 may|ostuni to ostuni|-|plain stage|mario cipollini ( ita )\\n[ROW] 4: 25 may|amantea to massiccio del sirino|-|stage with mountain (s)|davide rebellin ( ita )\\n[ROW] 5: 26 may|polla to naples|-|plain stage|mario cipollini ( ita )\\n[ROW] 6: 27 may|naples to fiuggi|-|hilly stage|enrico zaina ( ita )\\n[ROW] 7: 28 may|arezzo to prato|-|hilly stage|rodolfo massi ( ita )\\n[ROW] 8: 29 may|prato to marina di massa|-|plain stage|mario cipollini ( ita )\\n...\\n[ROW] 12: 7 june|marostica to passo pordoi|-|stage with mountain (s)|enrico zaina ( ita )\\n[ROW] 13: 8 june|cavalese to aprica|-|stage with mountain (s)|ivan gotti ( ita )\\n\\nSQL: ```SELECT winner, COUNT(*) FROM DF GROUP BY winner;```.\\n\\nIntermediate table: [HEAD]: winner|count(*)\\n---\\n[ROW] 1: davide rebellin ( ita )|1\\n[ROW] 2: enrico zaina ( ita )|2\\n[ROW] 3: fabiano fontanelli ( ita )|1\\n[ROW] 4: gianni bugno ( ita )|1\\n[ROW] 5: giovanni lombardi ( ita )|1\\n[ROW] 6: ivan gotti ( ita )|1\\n[ROW] 7: mario cipollini ( ita )|4\\n[ROW] 8: rodolfo massi ( ita )|1\\n[ROW] 9: silvio martinello ( ita )|1\\n\\nAnswer: ```no```.\\n\\nThe database table DF is shown as follows:\\n[HEAD]: year|tournament|venue|result|event\\n---\\n[ROW] 1: 1997|world cross country championships|turin , italy|25th|long race\\n[ROW] 2: 1998|world cross country championships|marrakech , morocco|26th|long race\\n[ROW] 3: 1998|world cross country championships|marrakech , morocco|6th|team competition\\n[ROW] 4: 2001|world half marathon championships|bristol , england|22nd|half marathon\\n[ROW] 5: 2001|world half marathon championships|bristol , england|3rd|team competition\\n\\nJudge whether the following statement is correct or not: \"in 2001 , benedict ako participate in 2 race , the half marathon and the team competition. yes or no?\". Generate SQL or Python code step-by-step given the question and table to answer the question correctly. For each step, generate SQL code to process the query or Python code to reformat the data. Output the code braced by \"```\" and an external executor will process the code generated and feed an intermediate table back to you. Answer the question directly (yes or no) if confident.\\n\\nSQL: ```SELECT year, event FROM DF WHERE year=2001;```.\\n\\nIntermediate table: [HEAD]: year|event\\n---\\n[ROW] 1: 2001|half marathon\\n[ROW] 2: 2001|team competition\\n\\nSQL: ```SELECT event, COUNT(*) FROM DF WHERE event=\"half marathon\" or event=\"team competition\" GROUP BY event;```.\\n\\nIntermediate table: [HEAD]: event|count(*)\\n---\\n[ROW] 1: half marathon|1\\n[ROW] 2: team competition|1\\n\\nAnswer: ```yes```.\\n\\nThe database table DF is shown as follows:\\n[HEAD]: species|strain|type|base_pairs|genes\\n---\\n[ROW] 1: borrelia burgdorferi|b31|spirochaetes|910724|850\\n[ROW] 2: borrelia garinii|pbi|spirochaetes|904246|832\\n[ROW] 3: leptospira interrogans|56601|spirochaetes|4332241|4358\\n[ROW] 4: unspecified|unspecified|spirochaetes|358943|367\\n[ROW] 5: leptospira interrogans|fiocruzl1130|spirochaetes|4277185|3394\\n[ROW] 6: unspecified|unspecified|spirochaetes|350181|264\\n[ROW] 7: treponema denticola|atcc35405|spirochaetes|2843201|2767\\n[ROW] 8: treponema pallidum|nichols|spirochaetes|1138011|1031\\n\\nJudge whether the following statement is correct or not: \"the base pair be 358943 when strain be unspecified. yes or no?\". Generate SQL or Python code step-by-step given the question and table to answer the question correctly. For each step, generate SQL code to process the query or Python code to reformat the data. Output the code braced by \"```\" and an external executor will process the code generated and feed an intermediate table back to you. Answer the question directly (yes or no) if confident.\\n\\nSQL: ```SELECT strain FROM DF WHERE base_pairs=358943;```.\\n\\nIntermediate table: [HEAD]: strain\\n---\\n[ROW] 1: unspecified\\n\\nAnswer: ```yes```.\\n\\nThe database table DF is shown as follows:\\n[HEAD]: year|award_ceremony|category|nominee|result\\n---\\n[ROW] 1: 2009|tony award|best play|neil labute|nominated\\n[ROW] 2: 2009|tony award|best performance by a leading actor in a play|thomas sadoski|nominated\\n[ROW] 3: 2009|tony award|best performance by a featured actress in a play|marin ireland|nominated\\n[ROW] 4: 2009|drama desk award|outstanding play|outstanding play|nominated\\n[ROW] 5: 2009|drama desk award|outstanding actor in a play|thomas sadoski|nominated\\n[ROW] 6: 2009|drama desk award|outstanding director of a play|terry kinney|nominated\\n[ROW] 7: 2009|theatre world award|theatre world award|marin ireland|won\\n\\nJudge whether the following statement is correct or not: \"neil labute be nominate for best play in 2009. yes or no?\". Generate SQL or Python code step-by-step given the question and table to answer the question correctly. For each step, generate SQL code to process the query or Python code to reformat the data. Output the code braced by \"```\" and an external executor will process the code generated and feed an intermediate table back to you. Answer the question directly (yes or no) if confident.\\n\\nSQL: ```SELECT * FROM DF WHERE year=2009 AND category=\"best play\";```.\\n\\nIntermediate table: [HEAD]: year|award_ceremony|category|nominee|result\\n---\\n[ROW] 1: 2009|tony award|best play|neil labute|nominated\\n\\nAnswer: ```yes```.',\n",
       " 'execution_match': None,\n",
       " 'gpt_error': None,\n",
       " 'execution_err': None,\n",
       " 'predicted_sql': None,\n",
       " 'df_reformat_sql': None,\n",
       " 'gpt_original_output': [[],\n",
       "  [(-2.4413406503980837,\n",
       "    'SELECT * FROM DF WHERE year=2009 AND category=\"best play\";'),\n",
       "   (1, 'SELECT * FROM DF WHERE year=2009 AND category=\"best play\";')],\n",
       "  [],\n",
       "  [(1.1239083467932947, 'yes'), (1, 'yes')]],\n",
       " 'all_predictions': [],\n",
       " 'training_demo_ids': []}"
      ]
     },
     "execution_count": 9,
     "metadata": {},
     "output_type": "execute_result"
    }
   ],
   "source": [
    "logs[0]"
   ]
  },
  {
   "cell_type": "code",
   "execution_count": 7,
   "id": "98bdb938-542d-4c23-b91e-06762e870a37",
   "metadata": {},
   "outputs": [
    {
     "data": {
      "text/plain": [
       "{'id': 'nt-17418',\n",
       " 'utterance': 'neil labute be nominate for best play in 2009. yes or no?',\n",
       " 'source_csv': './dataset/Table-Fact-Checking/./data/all_csv/2-18963715-1.html.csv',\n",
       " 'target_value': 'yes',\n",
       " 'predicted_value': 'yes',\n",
       " 'prompt': 'The database table DF is shown as follows:\\n[HEAD]: year|venue|winner|country|score\\n---\\n[ROW] 1: 2005|arlandastad|david patrick|scotland|272\\n[ROW] 2: 2004|arlandastad|matthew king|england|270\\n[ROW] 3: 2003|falsterbo|titch moore|south africa|273\\n[ROW] 4: 2002|halmstad|thomas besancenez|france|279\\n[ROW] 5: 2001|bokskogens|cristophe pottier|france|272\\n\\nAnswer the following question based on the data above: \"in 2004 the score be less than 270. yes or no?\". Execute SQL  code step-by-step and finally answer the question. Choose from generating a SQL code or directly answering the question.\\n\\nSQL: ```SELECT score FROM DF WHERE year=2004;```.\\n\\nThe database table DF is shown as follows:\\n[HEAD]: score\\n---\\n[ROW] 1: 270\\n\\nAnswer the following question based on the data above: \"in 2004 the score be less than 270. yes or no?\". Execute SQL code step-by-step and finally answer the question. Choose from generating a SQL code or directly answering the question.\\n\\nAnswer: ```no```.\\n\\nThe database table DF is shown as follows:\\n[HEAD]: nat|name|moving_from|type|transfer_window|transfer_fee\\n---\\n[ROW] 1: esp|mikel arteta|barcelona|transfer|summer|5.8 m\\n[ROW] 2: aus|kevin muscat|wolverhampton wanderers|transfer|summer|free\\n[ROW] 3: sco|steven thompson|dundee united|transfer|winter|0.2 m\\n[ROW] 4: fra|jerome bonnissel|bordeaux|transfer|winter|free\\n[ROW] 5: nor|dan eggen|deportivo alavés|transfer|winter|free\\n\\nAnswer the following question based on the data above: \"there be 3 total transfer in the winter. yes or no?\". Execute SQL  code step-by-step and finally answer the question. Choose from generating a SQL code or directly answering the question.\\n\\nSQL: ```SELECT * FROM DF WHERE transfer_window=\"winter\";```.\\n\\nThe database table DF is shown as follows:\\n[HEAD]: nat|name|moving_from|type|transfer_window|transfer_fee\\n---\\n[ROW] 1: sco|steven thompson|dundee united|transfer|winter|0.2 m\\n[ROW] 2: fra|jerome bonnissel|bordeaux|transfer|winter|free\\n[ROW] 3: nor|dan eggen|deportivo alavés|transfer|winter|free\\n\\nAnswer the following question based on the data above: \"there be 3 total transfer in the winter. yes or no?\". Execute SQL code step-by-step and finally answer the question. Choose from generating a SQL code or directly answering the question.\\n\\nSQL: ```SELECT COUNT(*) FROM DF;```.\\n\\nThe database table DF is shown as follows:\\n[HEAD]: COUNT(*)\\n---\\n[ROW] 1: 3\\n\\nAnswer the following question based on the data above: \"there be 3 total transfer in the winter. yes or no?\". Execute SQL code step-by-step and finally answer the question. Choose from generating a SQL code or directly answering the question.\\n\\nAnswer: ```yes```.\\n\\nThe database table DF is shown as follows:\\n[HEAD]: opposing_team|against|date|venue|round\\n---\\n[ROW] 1: gillingham|1|1991 - aug - 20|fratton park|1st round 1st leg\\n[ROW] 2: gillingham|3|1991 - aug - 27|priestfield stadium|1st round 2nd leg\\n[ROW] 3: oxford united|0|1991 - sep - 24|fratton park|2nd round 1st leg\\n[ROW] 4: oxford united|0|1991 - oct - 09|manor ground|2nd round 2nd leg\\n[ROW] 5: manchester united|3|1991 - oct - 30|old trafford|3rd round\\n\\nAnswer the following question based on the data above: \"there be 1 game play oppose to gillingham in august. yes or no?\". Execute SQL  code step-by-step and finally answer the question. Choose from generating a SQL code or directly answering the question.\\n\\nSQL: ```SELECT * FROM DF where date LIKE \"%- aug -%\" AND opposing_team=\"gillingham\";```.\\n\\nThe database table DF is shown as follows:\\n[HEAD]: opposing_team|against|date|venue|round\\n---\\n[ROW] 1: gillingham|1|1991 - aug - 20|fratton park|1st round 1st leg\\n[ROW] 2: gillingham|3|1991 - aug - 27|priestfield stadium|1st round 2nd leg\\n\\nAnswer the following question based on the data above: \"there be 1 game play oppose to gillingham in august. yes or no?\". Execute SQL code step-by-step and finally answer the question. Choose from generating a SQL code or directly answering the question.\\n\\nSQL: ```SELECT COUNT(*) FROM DF;```.\\n\\nThe database table DF is shown as follows:\\n[HEAD]: COUNT(*)\\n---\\n[ROW] 1: 2\\n\\nAnswer the following question based on the data above: \"there be 1 game play oppose to gillingham in august. yes or no?\". Execute SQL code step-by-step and finally answer the question. Choose from generating a SQL code or directly answering the question.\\n\\nAnswer: ```no```.\\n\\nThe database table DF is shown as follows:\\n[HEAD]: date|opponent|home_away|field|result\\n---\\n[ROW] 1: may 31, 1998|rattlers|away|bishop kearney field|l 13 - 23\\n[ROW] 2: june 6, 2019|cannons|home|the ballpark at harbor yard|l 17 - 23\\n[ROW] 3: june 12, 2017|bayhawks|home|the ballpark at harbor yard|l 14 - 21\\n[ROW] 4: june 14, 2020|pride|away|commerce bank ballpark|l 9 - 16\\n[ROW] 5: june 27, 1988|lizards|away|mitchel athletic complex|l 19 - 23\\n[ROW] 6: july 12, 1977|lizards|home|the ballpark at harbor yard|l 16 - 17\\n[ROW] 7: july 19, 1992|bayhawks|away|homewood field|w 22 - 17\\n[ROW] 8: july 24, 1993|rattlers|home|the ballpark at harbor yard|l 19 - 21\\n...\\n[ROW] 11: august 7, 1994|cannons|away|cawley memorial stadium|l 15 - 21\\n[ROW] 12: august 14, 1994|rattlers|home|the ballpark at harbor yard|l 18 - 23\\n\\nAnswer the following question based on the data above: \"on jul 19 , the bayhawks play a game at homewood field. yes or no?\". Execute SQL  code step-by-step and finally answer the question. Choose from generating a SQL code or directly answering the question.\\n\\nSQL: ```SELECT field FROM DF WHERE date LIKE \"july 19%\";```.\\n\\nThe database table DF is shown as follows:\\n[HEAD]: field\\n---\\n[ROW] 1: homewood field\\n\\nAnswer the following question based on the data above: \"on jul 19 , the bayhawks play a game at homewood field. yes or no?\". Execute SQL code step-by-step and finally answer the question. Choose from generating a SQL code or directly answering the question.\\n\\nAnswer: ```yes```.\\n\\nThe database table DF is shown as follows:\\n[HEAD]: date|course|distance|type|winner\\n---\\n[ROW] 1: 18 may|athens ( greece ) to athens ( greece )|-|plain stage|silvio martinello ( ita )\\n[ROW] 2: 19 may|eleusis ( greece ) to naupactus ( greece )|-|plain stage|glenn magnusson ( swe )\\n[ROW] 3: 20 may|missolonghi ( greece ) to ioannina ( greece )|-|plain stage|giovanni lombardi ( ita )\\n[ROW] 4: 21 may|rest day|rest day|rest day|rest day\\n[ROW] 5: 22 may|ostuni to ostuni|-|plain stage|mario cipollini ( ita )\\n[ROW] 6: 23 may|metaponto to crotone|-|plain stage|ángel edo ( esp )\\n[ROW] 7: 24 may|crotone to catanzaro|-|hilly stage|pascal hervé ( fra )\\n[ROW] 8: 25 may|amantea to massiccio del sirino|-|stage with mountain (s)|davide rebellin ( ita )\\n...\\n[ROW] 23: 9 june|sondrio to milan|-|plain stage|serguei outschakov ( ukr )\\n[ROW] 24: total|total|-|km (mi)|km (mi)\\n\\nAnswer the following question based on the data above: \"mario cipollini (ita) be the only winner from italy in 7 of the race from 18 may to 9 june. yes or no?\". Execute SQL  code step-by-step and finally answer the question. Choose from generating a SQL code or directly answering the question.\\n\\nSQL: ```SELECT * FROM DF WHERE winner LIKE \"%( ita )\";```.\\n\\nThe database table DF is shown as follows:\\n[HEAD]: date|course|distance|type|winner\\n---\\n[ROW] 1: 18 may|athens ( greece ) to athens ( greece )|-|plain stage|silvio martinello ( ita )\\n[ROW] 2: 20 may|missolonghi ( greece ) to ioannina ( greece )|-|plain stage|giovanni lombardi ( ita )\\n[ROW] 3: 22 may|ostuni to ostuni|-|plain stage|mario cipollini ( ita )\\n[ROW] 4: 25 may|amantea to massiccio del sirino|-|stage with mountain (s)|davide rebellin ( ita )\\n[ROW] 5: 26 may|polla to naples|-|plain stage|mario cipollini ( ita )\\n[ROW] 6: 27 may|naples to fiuggi|-|hilly stage|enrico zaina ( ita )\\n[ROW] 7: 28 may|arezzo to prato|-|hilly stage|rodolfo massi ( ita )\\n[ROW] 8: 29 may|prato to marina di massa|-|plain stage|mario cipollini ( ita )\\n...\\n[ROW] 12: 7 june|marostica to passo pordoi|-|stage with mountain (s)|enrico zaina ( ita )\\n[ROW] 13: 8 june|cavalese to aprica|-|stage with mountain (s)|ivan gotti ( ita )\\n\\nAnswer the following question based on the data above: \"mario cipollini (ita) be the only winner from italy in 7 of the race from 18 may to 9 june. yes or no?\". Execute SQL code step-by-step and finally answer the question. Choose from generating a SQL code or directly answering the question.\\n\\nSQL: ```SELECT winner, COUNT(*) FROM DF GROUP BY winner;```.\\n\\nThe database table DF is shown as follows:\\n[HEAD]: winner|count(*)\\n---\\n[ROW] 1: davide rebellin ( ita )|1\\n[ROW] 2: enrico zaina ( ita )|2\\n[ROW] 3: fabiano fontanelli ( ita )|1\\n[ROW] 4: gianni bugno ( ita )|1\\n[ROW] 5: giovanni lombardi ( ita )|1\\n[ROW] 6: ivan gotti ( ita )|1\\n[ROW] 7: mario cipollini ( ita )|4\\n[ROW] 8: rodolfo massi ( ita )|1\\n[ROW] 9: silvio martinello ( ita )|1\\n\\nAnswer the following question based on the data above: \"mario cipollini (ita) be the only winner from italy in 7 of the race from 18 may to 9 june. yes or no?\". Execute SQL code step-by-step and finally answer the question. Choose from generating a SQL code or directly answering the question.\\n\\nAnswer: ```no```.\\n\\nThe database table DF is shown as follows:\\n[HEAD]: year|tournament|venue|result|event\\n---\\n[ROW] 1: 1997|world cross country championships|turin , italy|25th|long race\\n[ROW] 2: 1998|world cross country championships|marrakech , morocco|26th|long race\\n[ROW] 3: 1998|world cross country championships|marrakech , morocco|6th|team competition\\n[ROW] 4: 2001|world half marathon championships|bristol , england|22nd|half marathon\\n[ROW] 5: 2001|world half marathon championships|bristol , england|3rd|team competition\\n\\nAnswer the following question based on the data above: \"in 2001 , benedict ako participate in 2 race , the half marathon and the team competition. yes or no?\". Execute SQL  code step-by-step and finally answer the question. Choose from generating a SQL code or directly answering the question.\\n\\nSQL: ```SELECT year, event FROM DF WHERE year=2001;```.\\n\\nThe database table DF is shown as follows:\\n[HEAD]: year|event\\n---\\n[ROW] 1: 2001|half marathon\\n[ROW] 2: 2001|team competition\\n\\nAnswer the following question based on the data above: \"in 2001 , benedict ako participate in 2 race , the half marathon and the team competition. yes or no?\". Execute SQL code step-by-step and finally answer the question. Choose from generating a SQL code or directly answering the question.\\n\\nSQL: ```SELECT event, COUNT(*) FROM DF WHERE event=\"half marathon\" or event=\"team competition\" GROUP BY event;```.\\n\\nThe database table DF is shown as follows:\\n[HEAD]: event|count(*)\\n---\\n[ROW] 1: half marathon|1\\n[ROW] 2: team competition|1\\n\\nAnswer the following question based on the data above: \"in 2001 , benedict ako participate in 2 race , the half marathon and the team competition. yes or no?\". Execute SQL code step-by-step and finally answer the question. Choose from generating a SQL code or directly answering the question.\\n\\nAnswer: ```yes```.\\n\\nThe database table DF is shown as follows:\\n[HEAD]: species|strain|type|base_pairs|genes\\n---\\n[ROW] 1: borrelia burgdorferi|b31|spirochaetes|910724|850\\n[ROW] 2: borrelia garinii|pbi|spirochaetes|904246|832\\n[ROW] 3: leptospira interrogans|56601|spirochaetes|4332241|4358\\n[ROW] 4: unspecified|unspecified|spirochaetes|358943|367\\n[ROW] 5: leptospira interrogans|fiocruzl1130|spirochaetes|4277185|3394\\n[ROW] 6: unspecified|unspecified|spirochaetes|350181|264\\n[ROW] 7: treponema denticola|atcc35405|spirochaetes|2843201|2767\\n[ROW] 8: treponema pallidum|nichols|spirochaetes|1138011|1031\\n\\nAnswer the following question based on the data above: \"the base pair be 358943 when strain be unspecified. yes or no?\". Execute SQL  code step-by-step and finally answer the question. Choose from generating a SQL code or directly answering the question.\\n\\nSQL: ```SELECT strain FROM DF WHERE base_pairs=358943;```.\\n\\nThe database table DF is shown as follows:\\n[HEAD]: strain\\n---\\n[ROW] 1: unspecified\\n\\nAnswer the following question based on the data above: \"the base pair be 358943 when strain be unspecified. yes or no?\". Execute SQL code step-by-step and finally answer the question. Choose from generating a SQL code or directly answering the question.\\n\\nAnswer: ```yes```.\\n\\nThe database table DF is shown as follows:\\n[HEAD]: year|award_ceremony|category|nominee|result\\n---\\n[ROW] 1: 2009|tony award|best play|neil labute|nominated\\n[ROW] 2: 2009|tony award|best performance by a leading actor in a play|thomas sadoski|nominated\\n[ROW] 3: 2009|tony award|best performance by a featured actress in a play|marin ireland|nominated\\n[ROW] 4: 2009|drama desk award|outstanding play|outstanding play|nominated\\n[ROW] 5: 2009|drama desk award|outstanding actor in a play|thomas sadoski|nominated\\n[ROW] 6: 2009|drama desk award|outstanding director of a play|terry kinney|nominated\\n[ROW] 7: 2009|theatre world award|theatre world award|marin ireland|won\\n\\nAnswer the following question based on the data above: \"neil labute be nominate for best play in 2009. yes or no?\". Execute SQL  code step-by-step and finally answer the question. Choose from generating a SQL code or directly answering the question.\\n\\nSQL: ```SELECT * FROM DF WHERE year=2009 AND category=\"best play\";```.\\n\\nThe database table DF is shown as follows:\\n[HEAD]: year|award_ceremony|category|nominee|result\\n---\\n[ROW] 1: 2009|tony award|best play|neil labute|nominated\\n\\nAnswer the following question based on the data above: \"neil labute be nominate for best play in 2009. yes or no?\". Execute SQL code step-by-step and finally answer the question. Choose from generating a SQL code or directly answering the question.',\n",
       " 'execution_match': None,\n",
       " 'gpt_error': None,\n",
       " 'execution_err': None,\n",
       " 'predicted_sql': None,\n",
       " 'df_reformat_sql': None,\n",
       " 'gpt_original_output': ['SQL: ```SELECT * FROM DF WHERE year=2009 AND category=\"best play\";',\n",
       "  'Answer: ```yes'],\n",
       " 'training_demo_ids': []}"
      ]
     },
     "execution_count": 7,
     "metadata": {},
     "output_type": "execute_result"
    }
   ],
   "source": [
    "def parallel_codex_func(i):\n",
    "\n",
    "    codex_prompter = CodexAnswerCOTExecutor_template(\n",
    "                                      f'/mnt/text2sql/dataset/Table-Fact-Checking/prompt_template/{template}.json',\n",
    "                                      # '/mnt/text2sql/dataset/Table-Fact-Checking/prompt_template/formatv1.json',\n",
    "                                      dataset.iloc[i]['id'], \n",
    "                                      dataset.iloc[i]['utterance'], \n",
    "                                      './data/all_csv/' + dataset.iloc[i]['context'], \n",
    "                                      dataset.iloc[i]['targetValue'], \n",
    "                                      base_path='./dataset/Table-Fact-Checking/',\n",
    "                                      demo_file=f'few-shot-demo/TabFact-formatv1.json',\n",
    "                                     sep='#'\n",
    "                                     )\n",
    "    codex_prompter.model = gpt_model\n",
    "    codex_prompter.max_demo = max_demo\n",
    "    # codex_prompter._gen_gpt_prompt()\n",
    "    codex_prompter._gen_gpt_prompt()\n",
    "    codex_prompter._get_gpt_prediction()\n",
    "    log = codex_prompter._log_dict()\n",
    "    return log\n",
    "parallel_codex_func(0)"
   ]
  },
  {
   "cell_type": "code",
   "execution_count": null,
   "id": "8acf3f80-0eae-4afd-8876-ff68c4eb9d66",
   "metadata": {},
   "outputs": [],
   "source": []
  }
 ],
 "metadata": {
  "kernelspec": {
   "display_name": "Python 3 (ipykernel)",
   "language": "python",
   "name": "python3"
  },
  "language_info": {
   "codemirror_mode": {
    "name": "ipython",
    "version": 3
   },
   "file_extension": ".py",
   "mimetype": "text/x-python",
   "name": "python",
   "nbconvert_exporter": "python",
   "pygments_lexer": "ipython3",
   "version": "3.8.10"
  }
 },
 "nbformat": 4,
 "nbformat_minor": 5
}
