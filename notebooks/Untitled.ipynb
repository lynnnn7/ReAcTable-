{
 "cells": [
  {
   "cell_type": "code",
   "execution_count": 1,
   "id": "139de102-49f6-4390-9e36-f5184b234d5c",
   "metadata": {},
   "outputs": [],
   "source": [
    "def dataframe_is_subset(df1, df2):\n",
    "    column_set1 = set(df1.columns)\n",
    "    column_set2 = set(df1.columns)\n",
    "    if not column_set1.issubset(column_set2):\n",
    "        return False\n",
    "\n",
    "    trans_column_set2 = df2[df1.columns]\n",
    "    sentence_set1 = set()\n",
    "    sentence_set2 = set()\n",
    "\n",
    "    for index, row in df1.iterrows():\n",
    "        sentence = ''\n",
    "        for c in df1.columns:\n",
    "            sentence += f'{row[c]}'\n",
    "        sentence_set1.add(sentence)\n",
    "\n",
    "    for index, row in trans_column_set2.iterrows():\n",
    "        sentence = ''\n",
    "        for c in df1.columns:\n",
    "            sentence += f'{row[c]}'\n",
    "        sentence_set2.add(sentence)\n",
    "\n",
    "    return sentence_set1 == sentence_set2"
   ]
  },
  {
   "cell_type": "code",
   "execution_count": 10,
   "id": "dc5c8087-4a32-4552-87b7-f89842907ca8",
   "metadata": {},
   "outputs": [],
   "source": [
    "import pandas as pd\n",
    "\n",
    "df1 = pd.DataFrame({\n",
    "    'Name': ['Alice', 'Bob', 'Charlie', 'David', 'Eva'],\n",
    "    'Age': [25, 33, 41, 29, 27],\n",
    "    'Gender': ['F', 'M', 'M', 'M', 'F'],\n",
    "    'Salary': [50000, 60000, 70000, 55000, 65000]\n",
    "})\n",
    "\n",
    "df2 = df1.sample(frac=1).reset_index(drop=True)[ ['Name',  'Age']]"
   ]
  },
  {
   "cell_type": "code",
   "execution_count": 15,
   "id": "bfe2090d-4814-4cd9-8e66-479af832cb53",
   "metadata": {},
   "outputs": [
    {
     "data": {
      "text/plain": [
       "False"
      ]
     },
     "execution_count": 15,
     "metadata": {},
     "output_type": "execute_result"
    }
   ],
   "source": [
    "type(df1) == str"
   ]
  },
  {
   "cell_type": "code",
   "execution_count": 12,
   "id": "2599f2a8-0043-419e-aa41-714bce429b04",
   "metadata": {},
   "outputs": [
    {
     "data": {
      "text/html": [
       "<div>\n",
       "<style scoped>\n",
       "    .dataframe tbody tr th:only-of-type {\n",
       "        vertical-align: middle;\n",
       "    }\n",
       "\n",
       "    .dataframe tbody tr th {\n",
       "        vertical-align: top;\n",
       "    }\n",
       "\n",
       "    .dataframe thead th {\n",
       "        text-align: right;\n",
       "    }\n",
       "</style>\n",
       "<table border=\"1\" class=\"dataframe\">\n",
       "  <thead>\n",
       "    <tr style=\"text-align: right;\">\n",
       "      <th></th>\n",
       "      <th>Name</th>\n",
       "      <th>Age</th>\n",
       "    </tr>\n",
       "  </thead>\n",
       "  <tbody>\n",
       "    <tr>\n",
       "      <th>0</th>\n",
       "      <td>Alice</td>\n",
       "      <td>25</td>\n",
       "    </tr>\n",
       "    <tr>\n",
       "      <th>1</th>\n",
       "      <td>Bob</td>\n",
       "      <td>33</td>\n",
       "    </tr>\n",
       "    <tr>\n",
       "      <th>2</th>\n",
       "      <td>David</td>\n",
       "      <td>29</td>\n",
       "    </tr>\n",
       "    <tr>\n",
       "      <th>3</th>\n",
       "      <td>Charlie</td>\n",
       "      <td>41</td>\n",
       "    </tr>\n",
       "    <tr>\n",
       "      <th>4</th>\n",
       "      <td>Eva</td>\n",
       "      <td>27</td>\n",
       "    </tr>\n",
       "  </tbody>\n",
       "</table>\n",
       "</div>"
      ],
      "text/plain": [
       "      Name  Age\n",
       "0    Alice   25\n",
       "1      Bob   33\n",
       "2    David   29\n",
       "3  Charlie   41\n",
       "4      Eva   27"
      ]
     },
     "execution_count": 12,
     "metadata": {},
     "output_type": "execute_result"
    }
   ],
   "source": [
    "df2"
   ]
  },
  {
   "cell_type": "code",
   "execution_count": 13,
   "id": "93c3d1c2-7513-4fdc-b85a-b838cc5918e2",
   "metadata": {},
   "outputs": [
    {
     "data": {
      "text/plain": [
       "True"
      ]
     },
     "execution_count": 13,
     "metadata": {},
     "output_type": "execute_result"
    }
   ],
   "source": [
    "dataframe_is_subset(df2, df1)"
   ]
  },
  {
   "cell_type": "code",
   "execution_count": 17,
   "id": "69e06fc1-ecde-4cd1-b3c4-5be4af847360",
   "metadata": {},
   "outputs": [
    {
     "data": {
      "text/plain": [
       "True"
      ]
     },
     "execution_count": 17,
     "metadata": {},
     "output_type": "execute_result"
    }
   ],
   "source": [
    "import re\n",
    "def contains_sqlite_functions(sql):\n",
    "    sqlite_functions = [\n",
    "        \"SUBSTR\", \"SUBSTRING\", \"TRIM\", \"REPLACE\", \"ROUND\", \n",
    "        \"ABS\", \"LENGTH\", \"LOWER\", \"UPPER\", \"JULIANDAY\", \n",
    "        \"STRFTIME\", \"strftime\", \"CAST\", \"COALESCE\", \"IFNULL\", \n",
    "        \"NULLIF\", \"GROUP_CONCAT\", \"SUBSTRING_INDEX\",\n",
    "        # \"DATE\", \"TIME\", \"DATETIME\",\n",
    "    ]\n",
    "    pattern = \"|\".join(sqlite_functions)\n",
    "    return bool(re.search(pattern, sql))\n",
    "contains_sqlite_functions(\"SELECT cyclist, SUBSTRING_INDEX(cyclist, \\\" (\\\", 1) AS country FROM DF WHERE rank<=10;\")                    \n"
   ]
  },
  {
   "cell_type": "code",
   "execution_count": null,
   "id": "d892f13c-e32d-42e4-b765-cec7b2b58142",
   "metadata": {},
   "outputs": [],
   "source": []
  }
 ],
 "metadata": {
  "kernelspec": {
   "display_name": "Python 3 (ipykernel)",
   "language": "python",
   "name": "python3"
  },
  "language_info": {
   "codemirror_mode": {
    "name": "ipython",
    "version": 3
   },
   "file_extension": ".py",
   "mimetype": "text/x-python",
   "name": "python",
   "nbconvert_exporter": "python",
   "pygments_lexer": "ipython3",
   "version": "3.8.10"
  }
 },
 "nbformat": 4,
 "nbformat_minor": 5
}
