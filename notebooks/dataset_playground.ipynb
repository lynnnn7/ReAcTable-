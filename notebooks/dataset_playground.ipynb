{
 "cells": [
  {
   "cell_type": "code",
   "execution_count": 2,
   "id": "c7fa0fb0-dbd8-4ec5-8b5d-b9c237455edd",
   "metadata": {},
   "outputs": [],
   "source": [
    "%load_ext autoreload\n",
    "%autoreload 2"
   ]
  },
  {
   "cell_type": "code",
   "execution_count": 3,
   "id": "c54b74f4-099c-4f47-89f2-305d54d6c866",
   "metadata": {},
   "outputs": [],
   "source": [
    "import re\n",
    "import pandas as pd\n",
    "import openai\n",
    "import os\n",
    "import json\n",
    "# from gpt3_sandbox.api.gpt import GPT\n",
    "# from gpt3_sandbox.api.gpt import Example\n",
    "from pandasql import sqldf\n",
    "from tqdm import tqdm\n",
    "import numpy as np\n",
    "from GptPrompter import *\n",
    "from AutoReasoner import *\n",
    "\n",
    "df = pd.read_csv('./dataset/WikiTableQuestions/data/pristine-unseen-tables.tsv', sep='\\t')"
   ]
  },
  {
   "cell_type": "code",
   "execution_count": 23,
   "id": "666a1077-5abc-49ae-823d-9821858c0080",
   "metadata": {
    "tags": []
   },
   "outputs": [
    {
     "data": {
      "text/html": [
       "<div>\n",
       "<style scoped>\n",
       "    .dataframe tbody tr th:only-of-type {\n",
       "        vertical-align: middle;\n",
       "    }\n",
       "\n",
       "    .dataframe tbody tr th {\n",
       "        vertical-align: top;\n",
       "    }\n",
       "\n",
       "    .dataframe thead th {\n",
       "        text-align: right;\n",
       "    }\n",
       "</style>\n",
       "<table border=\"1\" class=\"dataframe\">\n",
       "  <thead>\n",
       "    <tr style=\"text-align: right;\">\n",
       "      <th></th>\n",
       "      <th>Series #</th>\n",
       "      <th>Season #</th>\n",
       "      <th>Title</th>\n",
       "      <th>Notes</th>\n",
       "      <th>Original air date</th>\n",
       "    </tr>\n",
       "  </thead>\n",
       "  <tbody>\n",
       "    <tr>\n",
       "      <th>0</th>\n",
       "      <td>1</td>\n",
       "      <td>1</td>\n",
       "      <td>\\The Charity\\\"\"</td>\n",
       "      <td>Alfie, Dee Dee, and Melanie are supposed to be...</td>\n",
       "      <td>October 15, 1994</td>\n",
       "    </tr>\n",
       "    <tr>\n",
       "      <th>1</th>\n",
       "      <td>2</td>\n",
       "      <td>1</td>\n",
       "      <td>\\The Practical Joke War\\\"\"</td>\n",
       "      <td>Alfie and Goo unleash harsh practical jokes on...</td>\n",
       "      <td>October 22, 1994</td>\n",
       "    </tr>\n",
       "    <tr>\n",
       "      <th>2</th>\n",
       "      <td>3</td>\n",
       "      <td>1</td>\n",
       "      <td>\\The Weekend Aunt Helen Came\\\"\"</td>\n",
       "      <td>The boy's mother, Jennifer, leaves for the wee...</td>\n",
       "      <td>November 1, 1994</td>\n",
       "    </tr>\n",
       "    <tr>\n",
       "      <th>3</th>\n",
       "      <td>4</td>\n",
       "      <td>1</td>\n",
       "      <td>\\Robin Hood Play\\\"\"</td>\n",
       "      <td>Alfie's school is performing the play Robin Ho...</td>\n",
       "      <td>November 9, 1994</td>\n",
       "    </tr>\n",
       "    <tr>\n",
       "      <th>4</th>\n",
       "      <td>5</td>\n",
       "      <td>1</td>\n",
       "      <td>\\Basketball Tryouts\\\"\"</td>\n",
       "      <td>Alfie tries out for the basketball team and do...</td>\n",
       "      <td>November 30, 1994</td>\n",
       "    </tr>\n",
       "    <tr>\n",
       "      <th>5</th>\n",
       "      <td>6</td>\n",
       "      <td>1</td>\n",
       "      <td>\\Where's the Snake?\\\"\"</td>\n",
       "      <td>Dee Dee gets a snake, but he doesn't want his ...</td>\n",
       "      <td>December 6, 1994</td>\n",
       "    </tr>\n",
       "    <tr>\n",
       "      <th>6</th>\n",
       "      <td>7</td>\n",
       "      <td>1</td>\n",
       "      <td>\\Dee Dee's Girlfriend\\\"\"</td>\n",
       "      <td>A girl kisses Dee Dee in front of Harry and Do...</td>\n",
       "      <td>December 15, 1994</td>\n",
       "    </tr>\n",
       "    <tr>\n",
       "      <th>7</th>\n",
       "      <td>8</td>\n",
       "      <td>1</td>\n",
       "      <td>\\Dee Dee's Haircut\\\"\"</td>\n",
       "      <td>Dee Dee wants to get a hair cut by Cool Doctor...</td>\n",
       "      <td>December 20, 1994</td>\n",
       "    </tr>\n",
       "    <tr>\n",
       "      <th>8</th>\n",
       "      <td>9</td>\n",
       "      <td>1</td>\n",
       "      <td>\\Dee Dee Runs Away\\\"\"</td>\n",
       "      <td>Dee Dee has been waiting to go to a monster tr...</td>\n",
       "      <td>December 28, 1994</td>\n",
       "    </tr>\n",
       "    <tr>\n",
       "      <th>9</th>\n",
       "      <td>10</td>\n",
       "      <td>1</td>\n",
       "      <td>'\\Donnell's Birthday Party\\\"\"</td>\n",
       "      <td>Donnell is having a birthday party and brags a...</td>\n",
       "      <td>January 5, 1995</td>\n",
       "    </tr>\n",
       "    <tr>\n",
       "      <th>10</th>\n",
       "      <td>11</td>\n",
       "      <td>1</td>\n",
       "      <td>\\Alfie's Birthday Party\\\"\"</td>\n",
       "      <td>Goo and Melanie pretend they are dating and th...</td>\n",
       "      <td>January 19, 1995</td>\n",
       "    </tr>\n",
       "    <tr>\n",
       "      <th>11</th>\n",
       "      <td>12</td>\n",
       "      <td>1</td>\n",
       "      <td>\\Candy Sale\\\"\"</td>\n",
       "      <td>Alfie and Goo are selling candy to make money ...</td>\n",
       "      <td>January 26, 1995</td>\n",
       "    </tr>\n",
       "    <tr>\n",
       "      <th>12</th>\n",
       "      <td>13</td>\n",
       "      <td>1</td>\n",
       "      <td>\\The Big Bully\\\"\"</td>\n",
       "      <td>Dee Dee gets beat up at school and his friends...</td>\n",
       "      <td>February 2, 1995</td>\n",
       "    </tr>\n",
       "  </tbody>\n",
       "</table>\n",
       "</div>"
      ],
      "text/plain": [
       "    Series #  Season #                            Title  \\\n",
       "0          1         1                  \\The Charity\\\"\"   \n",
       "1          2         1       \\The Practical Joke War\\\"\"   \n",
       "2          3         1  \\The Weekend Aunt Helen Came\\\"\"   \n",
       "3          4         1              \\Robin Hood Play\\\"\"   \n",
       "4          5         1           \\Basketball Tryouts\\\"\"   \n",
       "5          6         1           \\Where's the Snake?\\\"\"   \n",
       "6          7         1         \\Dee Dee's Girlfriend\\\"\"   \n",
       "7          8         1            \\Dee Dee's Haircut\\\"\"   \n",
       "8          9         1            \\Dee Dee Runs Away\\\"\"   \n",
       "9         10         1    '\\Donnell's Birthday Party\\\"\"   \n",
       "10        11         1       \\Alfie's Birthday Party\\\"\"   \n",
       "11        12         1                   \\Candy Sale\\\"\"   \n",
       "12        13         1                \\The Big Bully\\\"\"   \n",
       "\n",
       "                                                Notes  Original air date  \n",
       "0   Alfie, Dee Dee, and Melanie are supposed to be...   October 15, 1994  \n",
       "1   Alfie and Goo unleash harsh practical jokes on...   October 22, 1994  \n",
       "2   The boy's mother, Jennifer, leaves for the wee...   November 1, 1994  \n",
       "3   Alfie's school is performing the play Robin Ho...   November 9, 1994  \n",
       "4   Alfie tries out for the basketball team and do...  November 30, 1994  \n",
       "5   Dee Dee gets a snake, but he doesn't want his ...   December 6, 1994  \n",
       "6   A girl kisses Dee Dee in front of Harry and Do...  December 15, 1994  \n",
       "7   Dee Dee wants to get a hair cut by Cool Doctor...  December 20, 1994  \n",
       "8   Dee Dee has been waiting to go to a monster tr...  December 28, 1994  \n",
       "9   Donnell is having a birthday party and brags a...    January 5, 1995  \n",
       "10  Goo and Melanie pretend they are dating and th...   January 19, 1995  \n",
       "11  Alfie and Goo are selling candy to make money ...   January 26, 1995  \n",
       "12  Dee Dee gets beat up at school and his friends...   February 2, 1995  "
      ]
     },
     "execution_count": 23,
     "metadata": {},
     "output_type": "execute_result"
    }
   ],
   "source": [
    "def tokenizeDF(df, utterance=None, refine_utt_col_names=True):\n",
    "    token_dict = {}\n",
    "    token_id = 0\n",
    "    cols = [c.lower() for c in df.columns]\n",
    "    \n",
    "    for rid in range(df.shape[0]):\n",
    "        for dtype, c in zip(df.dtypes, df.columns):\n",
    "            string = df.loc[rid][c] \n",
    "            if isinstance(string, float) or isinstance(string, int) or isinstance(string, np.int64) or bool(re.search(r'\\d', string)):\n",
    "                continue\n",
    "            new_tokens = []\n",
    "            \n",
    "            \n",
    "            # entire string is a single token\n",
    "            # if string.lower() in token_dict:\n",
    "            #     new_tokens.append(token_dict[string.lower()])\n",
    "            # else:\n",
    "            #     token_dict[string.lower()] = f'TOKEN{token_id}'\n",
    "            #     new_tokens.append(token_dict[string.lower()])\n",
    "            #     token_id += 1\n",
    "            \n",
    "            # every word is a token\n",
    "            for token in string.replace('\\n', ' ').replace('_', ' ').split(' '):\n",
    "                if token.lower() in cols:\n",
    "                    new_tokens.append(token)\n",
    "                elif token.lower() in token_dict:\n",
    "                    new_tokens.append(token_dict[token.lower()])\n",
    "                else:\n",
    "                    token_dict[token.lower()] = f'TOKEN{token_id}'\n",
    "                    new_tokens.append(token_dict[token.lower()])\n",
    "                    token_id += 1\n",
    "                \n",
    "            df.at[rid, c] = ' '.join(new_tokens)\n",
    "    if utterance is not None:\n",
    "        new_utterance = []\n",
    "        for u in utterance.strip('?').split(' '):\n",
    "            if u.lower() in cols and refine_utt_col_names:\n",
    "                new_utterance.append(df.columns[cols.index(u.lower())])\n",
    "            elif u.lower() in token_dict:\n",
    "                new_utterance.append(token_dict[u.lower()] + ' ')\n",
    "            else:\n",
    "                new_utterance.append(u)\n",
    "        utterance = ' '.join(new_utterance) + '?'\n",
    "    \n",
    "    return df, utterance, token_dict\n",
    "\n",
    "def parseTokenizedStr(s, token_dict):\n",
    "    rev_dict = {v:k for k,v in token_dict.items()}\n",
    "    new_str = []\n",
    "    for t in s.split(' '):\n",
    "        if t in rev_dict:\n",
    "            new_str.append(rev_dict[t])\n",
    "        else:\n",
    "            new_str.append(t)\n",
    "    return ' '.join(new_str)\n",
    "\n",
    "i = 3\n",
    "context_df = pd.read_csv('./dataset/WikiTableQuestions/'+df.iloc[i]['context'], on_bad_lines='skip')\n",
    "utterance = df.iloc[i]['utterance']\n",
    "target_val = df.iloc[i]['targetValue']\n",
    "context_df\n",
    "# context_df, utterance, target_val\n",
    "# utterance = 'what is the number of Placing 1 across all events?'"
   ]
  },
  {
   "cell_type": "code",
   "execution_count": 22,
   "id": "7b127562-2bf7-4e3c-aabd-805b5af1f47a",
   "metadata": {},
   "outputs": [
    {
     "data": {
      "text/html": [
       "<div>\n",
       "<style scoped>\n",
       "    .dataframe tbody tr th:only-of-type {\n",
       "        vertical-align: middle;\n",
       "    }\n",
       "\n",
       "    .dataframe tbody tr th {\n",
       "        vertical-align: top;\n",
       "    }\n",
       "\n",
       "    .dataframe thead th {\n",
       "        text-align: right;\n",
       "    }\n",
       "</style>\n",
       "<table border=\"1\" class=\"dataframe\">\n",
       "  <thead>\n",
       "    <tr style=\"text-align: right;\">\n",
       "      <th></th>\n",
       "      <th>Series #</th>\n",
       "      <th>Season #</th>\n",
       "      <th>Title</th>\n",
       "      <th>Notes</th>\n",
       "      <th>Original air date</th>\n",
       "    </tr>\n",
       "  </thead>\n",
       "  <tbody>\n",
       "    <tr>\n",
       "      <th>0</th>\n",
       "      <td>1</td>\n",
       "      <td>1</td>\n",
       "      <td>TITLE0 TITLE1</td>\n",
       "      <td>NOTES0 NOTES1 NOTES2 NOTES3 NOTES4 NOTES5 NOTE...</td>\n",
       "      <td>October 15, 1994</td>\n",
       "    </tr>\n",
       "    <tr>\n",
       "      <th>1</th>\n",
       "      <td>2</td>\n",
       "      <td>1</td>\n",
       "      <td>TITLE0 TITLE2 TITLE3 TITLE4</td>\n",
       "      <td>NOTES51 NOTES3 NOTES21 NOTES84 NOTES85 TITLE2 ...</td>\n",
       "      <td>October 22, 1994</td>\n",
       "    </tr>\n",
       "    <tr>\n",
       "      <th>2</th>\n",
       "      <td>3</td>\n",
       "      <td>1</td>\n",
       "      <td>TITLE0 TITLE5 TITLE6 TITLE7 TITLE8</td>\n",
       "      <td>NOTES17 NOTES129 NOTES130 NOTES131 NOTES40 NOT...</td>\n",
       "      <td>November 1, 1994</td>\n",
       "    </tr>\n",
       "    <tr>\n",
       "      <th>3</th>\n",
       "      <td>4</td>\n",
       "      <td>1</td>\n",
       "      <td>TITLE9 TITLE10 TITLE11</td>\n",
       "      <td>NOTES184 NOTES185 NOTES29 NOTES186 NOTES17 NOT...</td>\n",
       "      <td>November 9, 1994</td>\n",
       "    </tr>\n",
       "    <tr>\n",
       "      <th>4</th>\n",
       "      <td>5</td>\n",
       "      <td>1</td>\n",
       "      <td>TITLE12 TITLE13</td>\n",
       "      <td>NOTES51 NOTES208 NOTES209 NOTES75 NOTES17 NOTE...</td>\n",
       "      <td>November 30, 1994</td>\n",
       "    </tr>\n",
       "    <tr>\n",
       "      <th>5</th>\n",
       "      <td>6</td>\n",
       "      <td>1</td>\n",
       "      <td>TITLE14 NOTES17 TITLE15</td>\n",
       "      <td>NOTES1 NOTES1 NOTES147 NOTES13 NOTES233 NOTES4...</td>\n",
       "      <td>December 6, 1994</td>\n",
       "    </tr>\n",
       "    <tr>\n",
       "      <th>6</th>\n",
       "      <td>7</td>\n",
       "      <td>1</td>\n",
       "      <td>TITLE16 NOTES52 TITLE17</td>\n",
       "      <td>NOTES13 NOTES259 NOTES260 NOTES1 NOTES1 NOTES1...</td>\n",
       "      <td>December 15, 1994</td>\n",
       "    </tr>\n",
       "    <tr>\n",
       "      <th>7</th>\n",
       "      <td>8</td>\n",
       "      <td>1</td>\n",
       "      <td>TITLE16 NOTES52 TITLE18</td>\n",
       "      <td>NOTES1 NOTES1 NOTES167 NOTES7 NOTES61 NOTES13 ...</td>\n",
       "      <td>December 20, 1994</td>\n",
       "    </tr>\n",
       "    <tr>\n",
       "      <th>8</th>\n",
       "      <td>9</td>\n",
       "      <td>1</td>\n",
       "      <td>TITLE16 NOTES1 TITLE19 TITLE20</td>\n",
       "      <td>NOTES1 NOTES1 NOTES55 NOTES315 NOTES316 NOTES7...</td>\n",
       "      <td>December 28, 1994</td>\n",
       "    </tr>\n",
       "    <tr>\n",
       "      <th>9</th>\n",
       "      <td>10</td>\n",
       "      <td>1</td>\n",
       "      <td>TITLE21 TITLE22 TITLE23</td>\n",
       "      <td>NOTES218 NOTES29 NOTES335 NOTES13 TITLE22 NOTE...</td>\n",
       "      <td>January 5, 1995</td>\n",
       "    </tr>\n",
       "    <tr>\n",
       "      <th>10</th>\n",
       "      <td>11</td>\n",
       "      <td>1</td>\n",
       "      <td>TITLE24 TITLE22 TITLE23</td>\n",
       "      <td>NOTES21 NOTES3 NOTES4 NOTES378 NOTES119 NOTES5...</td>\n",
       "      <td>January 19, 1995</td>\n",
       "    </tr>\n",
       "    <tr>\n",
       "      <th>11</th>\n",
       "      <td>12</td>\n",
       "      <td>1</td>\n",
       "      <td>TITLE25 TITLE26</td>\n",
       "      <td>NOTES51 NOTES3 NOTES21 NOTES5 NOTES398 NOTES39...</td>\n",
       "      <td>January 26, 1995</td>\n",
       "    </tr>\n",
       "    <tr>\n",
       "      <th>12</th>\n",
       "      <td>13</td>\n",
       "      <td>1</td>\n",
       "      <td>TITLE0 TITLE27 TITLE28</td>\n",
       "      <td>NOTES1 NOTES1 NOTES147 NOTES424 NOTES46 NOTES1...</td>\n",
       "      <td>February 2, 1995</td>\n",
       "    </tr>\n",
       "  </tbody>\n",
       "</table>\n",
       "</div>"
      ],
      "text/plain": [
       "    Series #  Season #                               Title  \\\n",
       "0          1         1                       TITLE0 TITLE1   \n",
       "1          2         1         TITLE0 TITLE2 TITLE3 TITLE4   \n",
       "2          3         1  TITLE0 TITLE5 TITLE6 TITLE7 TITLE8   \n",
       "3          4         1              TITLE9 TITLE10 TITLE11   \n",
       "4          5         1                     TITLE12 TITLE13   \n",
       "5          6         1             TITLE14 NOTES17 TITLE15   \n",
       "6          7         1             TITLE16 NOTES52 TITLE17   \n",
       "7          8         1             TITLE16 NOTES52 TITLE18   \n",
       "8          9         1      TITLE16 NOTES1 TITLE19 TITLE20   \n",
       "9         10         1             TITLE21 TITLE22 TITLE23   \n",
       "10        11         1             TITLE24 TITLE22 TITLE23   \n",
       "11        12         1                     TITLE25 TITLE26   \n",
       "12        13         1              TITLE0 TITLE27 TITLE28   \n",
       "\n",
       "                                                Notes  Original air date  \n",
       "0   NOTES0 NOTES1 NOTES2 NOTES3 NOTES4 NOTES5 NOTE...   October 15, 1994  \n",
       "1   NOTES51 NOTES3 NOTES21 NOTES84 NOTES85 TITLE2 ...   October 22, 1994  \n",
       "2   NOTES17 NOTES129 NOTES130 NOTES131 NOTES40 NOT...   November 1, 1994  \n",
       "3   NOTES184 NOTES185 NOTES29 NOTES186 NOTES17 NOT...   November 9, 1994  \n",
       "4   NOTES51 NOTES208 NOTES209 NOTES75 NOTES17 NOTE...  November 30, 1994  \n",
       "5   NOTES1 NOTES1 NOTES147 NOTES13 NOTES233 NOTES4...   December 6, 1994  \n",
       "6   NOTES13 NOTES259 NOTES260 NOTES1 NOTES1 NOTES1...  December 15, 1994  \n",
       "7   NOTES1 NOTES1 NOTES167 NOTES7 NOTES61 NOTES13 ...  December 20, 1994  \n",
       "8   NOTES1 NOTES1 NOTES55 NOTES315 NOTES316 NOTES7...  December 28, 1994  \n",
       "9   NOTES218 NOTES29 NOTES335 NOTES13 TITLE22 NOTE...    January 5, 1995  \n",
       "10  NOTES21 NOTES3 NOTES4 NOTES378 NOTES119 NOTES5...   January 19, 1995  \n",
       "11  NOTES51 NOTES3 NOTES21 NOTES5 NOTES398 NOTES39...   January 26, 1995  \n",
       "12  NOTES1 NOTES1 NOTES147 NOTES424 NOTES46 NOTES1...   February 2, 1995  "
      ]
     },
     "execution_count": 22,
     "metadata": {},
     "output_type": "execute_result"
    }
   ],
   "source": [
    "context_df, utterance, token_dict = tokenizeDFWithColNames(context_df, utterance)\n",
    "context_df"
   ]
  },
  {
   "cell_type": "code",
   "execution_count": 55,
   "id": "aac5de6a-697f-451d-8984-e74cca237584",
   "metadata": {},
   "outputs": [],
   "source": [
    "prompter = CodexAnswer(\n",
    "            df.iloc[i]['id'], \n",
    "            df.iloc[i]['utterance'], \n",
    "            df.iloc[i]['context'], \n",
    "            df.iloc[i]['targetValue'], \n",
    "            base_path='./dataset/WikiTableQuestions/',\n",
    "            demo_file=None\n",
    "        )\n",
    "\n",
    "prompter.model = \"davinci-codex-002-msft\"\n",
    "prompter.model = \"text-davinci-003\"\n",
    "\n",
    "prompter.source_table_df = context_df\n",
    "prompter.utterance = utterance\n",
    "\n",
    "prompter._gen_gpt_prompt(demo_num=0)\n",
    "prompter._get_gpt_prediction()"
   ]
  },
  {
   "cell_type": "code",
   "execution_count": 56,
   "id": "7bb2a08e-b43f-4ca7-b5bf-0202ac0e0f91",
   "metadata": {},
   "outputs": [
    {
     "name": "stdout",
     "output_type": "stream",
     "text": [
      "None\n"
     ]
    },
    {
     "ename": "AttributeError",
     "evalue": "'NoneType' object has no attribute 'split'",
     "output_type": "error",
     "traceback": [
      "\u001b[0;31m---------------------------------------------------------------------------\u001b[0m",
      "\u001b[0;31mAttributeError\u001b[0m                            Traceback (most recent call last)",
      "Input \u001b[0;32mIn [56]\u001b[0m, in \u001b[0;36m<cell line: 3>\u001b[0;34m()\u001b[0m\n\u001b[1;32m      1\u001b[0m \u001b[38;5;66;03m# prompter.prompt\u001b[39;00m\n\u001b[1;32m      2\u001b[0m \u001b[38;5;28mprint\u001b[39m(prompter\u001b[38;5;241m.\u001b[39mpredicted_result)\n\u001b[0;32m----> 3\u001b[0m \u001b[43mparseTokenizedStr\u001b[49m\u001b[43m(\u001b[49m\u001b[43mprompter\u001b[49m\u001b[38;5;241;43m.\u001b[39;49m\u001b[43mpredicted_result\u001b[49m\u001b[43m,\u001b[49m\u001b[43m \u001b[49m\u001b[43mtoken_dict\u001b[49m\u001b[43m)\u001b[49m, target_val\n",
      "Input \u001b[0;32mIn [53]\u001b[0m, in \u001b[0;36mparseTokenizedStr\u001b[0;34m(s, token_dict)\u001b[0m\n\u001b[1;32m     48\u001b[0m rev_dict \u001b[38;5;241m=\u001b[39m {v:k \u001b[38;5;28;01mfor\u001b[39;00m k,v \u001b[38;5;129;01min\u001b[39;00m token_dict\u001b[38;5;241m.\u001b[39mitems()}\n\u001b[1;32m     49\u001b[0m new_str \u001b[38;5;241m=\u001b[39m []\n\u001b[0;32m---> 50\u001b[0m \u001b[38;5;28;01mfor\u001b[39;00m t \u001b[38;5;129;01min\u001b[39;00m \u001b[43ms\u001b[49m\u001b[38;5;241;43m.\u001b[39;49m\u001b[43msplit\u001b[49m(\u001b[38;5;124m'\u001b[39m\u001b[38;5;124m \u001b[39m\u001b[38;5;124m'\u001b[39m):\n\u001b[1;32m     51\u001b[0m     \u001b[38;5;28;01mif\u001b[39;00m t \u001b[38;5;129;01min\u001b[39;00m rev_dict:\n\u001b[1;32m     52\u001b[0m         new_str\u001b[38;5;241m.\u001b[39mappend(rev_dict[t])\n",
      "\u001b[0;31mAttributeError\u001b[0m: 'NoneType' object has no attribute 'split'"
     ]
    }
   ],
   "source": [
    "# prompter.prompt\n",
    "print(prompter.predicted_result)\n",
    "parseTokenizedStr(prompter.predicted_result, token_dict), target_val"
   ]
  },
  {
   "cell_type": "code",
   "execution_count": 19,
   "id": "1eb71c1f-b84e-4be9-a460-00f93b833f98",
   "metadata": {},
   "outputs": [
    {
     "name": "stdout",
     "output_type": "stream",
     "text": [
      "A database table is shown as follows:\n",
      "[HEAD]: Series #|Season #|Title|Notes|Original air date\n",
      "[ROW] 1: 1|1|\\The Charity\\\"\"|Alfie, Dee Dee, and Melanie are supposed to be helping their parents at a carnival by working the dunking booth. When Goo arrives and announces their favorite basketball player, Kendall Gill, is at the Comic Book Store signing autographs, the boys decide to ditch the carnival. This leaves Melanie and Jennifer to work the booth and both end up soaked. But the Comic Book Store is packed and much to Alfie and Dee Dee's surprise their father has to interview Kendall Gill. Goo comes up with a plan to get Alfie and Dee Dee, Gill's signature before getting them back at the local carnival, but are caught by Roger. All ends well for everyone except Alfie and Goo, who must endure being soaked at the dunking booth.|October 15, 1994\n",
      "[ROW] 2: 2|1|\\The Practical Joke War\\\"\"|Alfie and Goo unleash harsh practical jokes on Dee Dee and his friends. Dee Dee, Harry and Donnel retaliate by pulling a practical joke on Alfie with the trick gum. After Alfie and Goo get even with Dee Dee and his friends, Melanie and Deonne help them get even. Soon, Alfie and Goo declare a practical joke war on Melanie, Dee Dee and their friends. This eventually stops when Roger and Jennifer end up on the wrong end of the practical joke war after being announced as the winner of a magazine contest for Best Family Of The Year. They set their children straight for their behavior and will have a talk with their friends' parents as well.|October 22, 1994\n",
      "[ROW] 3: 3|1|\\The Weekend Aunt Helen Came\\\"\"|The boy's mother, Jennifer, leaves for the weekend and she leaves the father, Roger, in charge. However, he lets the kids run wild. Alfie and Dee Dee's Aunt Helen then comes to oversee the house until Jennifer gets back. Meanwhile, Alfie throws a basketball at Goo, which hits him in the head, giving him temporary amnesia. In this case of memory loss, Goo acts like a nerd, does homework on a weekend, wants to be called Milton instead of Goo, and he even calls Alfie Alfred. He is much nicer to Deonne and Dee Dee, but is somewhat rude to Melanie. The only thing that will reverse this is another hit in the head.|November 1, 1994\n",
      "[ROW] 4: 4|1|\\Robin Hood Play\\\"\"|Alfie's school is performing the play Robin Hood and Alfie is chosen to play the part of Robin Hood. Alfie is excited at this prospect, but he does not want to wear tights because he feels that tights are for girls. However, he reconsiders his stance on tights when Dee Dee wisely tells him not to let that affect his performance as Robin Hood.|November 9, 1994\n",
      "[ROW] 5: 5|1|\\Basketball Tryouts\\\"\"|Alfie tries out for the basketball team and doesn't make it even after showing off his basketball skills. However, Harry, Dee Dee and Donnell make the team. Alfie is depressed and doesn't want to attend the celebration party. However, Goo sets him straight by telling him it was his own fault for not being a team player and kept the ball to himself.|November 30, 1994\n",
      "[ROW] 6: 6|1|\\Where's the Snake?\\\"\"|Dee Dee gets a snake, but he doesn't want his parents to know about it. However, things get complicated when he loses the snake in the house. Meanwhile, Melanie and Deonne are assigned by their teacher to take care of her beloved pet rabbit, Duchess for the weekend. This causes both Alfie and Dee Dee to be concerned for Duchess when they learn from Goo that snakes eat rabbits.|December 6, 1994\n",
      "[ROW] 7: 7|1|\\Dee Dee's Girlfriend\\\"\"|A girl kisses Dee Dee in front of Harry and Donnell. They promise not to tell, but it slips and everyone laughs at Dee Dee. Dee Dee ends his friendship with Harry and Donnell and hangs out with Alfie and Goo. Soon, Alfie and Goo finally get the three to talk to each other.|December 15, 1994\n",
      "[ROW] 8: 8|1|\\Dee Dee's Haircut\\\"\"|Dee Dee wants to get a hair cut by Cool Doctor Money and have his name shaved in his head. His parents will not let him do this, but Goo offers to do it for five dollars. However, when Goo messes up Dee Dee's hair and spells his name wrong, his parents find out the truth and Dee Dee is forced to have his hair shaved off. In addition to that, his friends tease him about his bald head, causing a fight between the boys along with Goo and Alfie. In a b-story, Alfie and Goo try to play a practical joke on Dee Dee involving a jalapeño lollipop. It backfires when Roger is the unwitting victim and it leads to him chasing the boys around.|December 20, 1994\n",
      "[ROW] 9: 9|1|\\Dee Dee Runs Away\\\"\"|Dee Dee has been waiting to go to a monster truck show all week. But Alfie and Goo's baseball team makes it to the tournament and everyone forgets about the monster truck show. Dee Dee feels ignored and runs away from home with Harry and Donnell. It's up to Alfie and Goo to try and convince him to come home.|December 28, 1994\n",
      "[ROW] 10: 10|1|'\\Donnell's Birthday Party\\\"\"|Donnell is having a birthday party and brags about all the dancing and cool people who will be there. Harry says that he knows how to dance so Dee Dee feels left out because he doesn't know how to dance. Later on, Harry admits to Dee Dee alone that he can't dance either and only lied so he doesn't get teased by Donnell. So, they ask Alfie to help them learn how to dance. He refuses to help because Dee Dee previously told on him to Roger about his and Goo's plans to cheat on their math quiz. Alfie eventually agrees, after Melanie threatens to refuse to help him with his math homework. Soon Dee Dee and Harry learn Donnell's secret and were forced to teach him how to dance. After the party, Dee Dee tells Alfie about it and finds out that he knew Donnell was a liar.|January 5, 1995\n",
      "[ROW] 11: 11|1|\\Alfie's Birthday Party\\\"\"|Goo and Melanie pretend they are dating and they leave Alfie out of everything. He ends up bored and starts hanging out with Dee Dee and his friends. However, it just isn't the same without Goo. Later on, Alfie learns about the surprise birthday party that Goo and Melanie had been planning with everyone else (except for Dee Dee, who couldn't know since he would've told).|January 19, 1995\n",
      "[ROW] 12: 12|1|\\Candy Sale\\\"\"|Alfie and Goo are selling candy to make money for some expensive jackets, but they are not having any luck. However, when Dee Dee start helping them sell candy, they start to make money and asks him to help them out. Soon Goo and Alfie finds themselves confronted by Melanie, Deonne, Harry and Donnell for Dee Dee's share of the money. They soon learn the boys have used the money to buy three expensive jackets for themselves and Dee Dee as a token of their gratitude. They quickly apologize to Alfie and Goo for their quick judgment.|January 26, 1995\n",
      "[ROW] 13: 13|1|\\The Big Bully\\\"\"|Dee Dee gets beat up at school and his friends try to teach him how to fight back. Goo, however, tells him to bluff, but the plan backfires and Dee Dee gets hit because of it. When Alfie confronts the bully, he learns that Dee Dee was picked on by a girl. Alfie and Goo decide to confront her. However, when some of their classmates, who happen to be the girls' siblings, learn they are bullying their sister, they intervene.|February 2, 1995\n",
      "\n",
      "Answer the following question based on the data above: \"alfie's birthday party aired on january 19. what was the airdate of the next episode?\". The answer is: ```\n"
     ]
    }
   ],
   "source": [
    "print(prompter.prompt)"
   ]
  },
  {
   "cell_type": "code",
   "execution_count": null,
   "id": "172697b6-cdc5-4d8e-b1e5-a3ea077e1612",
   "metadata": {},
   "outputs": [],
   "source": []
  },
  {
   "cell_type": "code",
   "execution_count": null,
   "id": "c6fb309c-459f-41db-adbc-a55b2f31fcf3",
   "metadata": {},
   "outputs": [],
   "source": [
    "prompt = \"\"\"\n",
    "A database table is shown as follows:\n",
    "[HEAD]: Date|Competition|Location|Country|Event|Placing|Rider|Nationality\n",
    "[ROW] 1: 31 October 2008|2008–09 World Cup|LOCATION0|COUNTRY0|TOKEN3|1|TOKEN4 TOKEN5|TOKEN6\n",
    "[ROW] 2: 31 October 2008|2008–09 World Cup|LOCATION0|COUNTRY0|TOKEN7|2|TOKEN8 TOKEN9|TOKEN6\n",
    "[ROW] 3: 1 November 2008|2008–09 World Cup|LOCATION0|COUNTRY0|TOKEN3|1|TOKEN8 TOKEN9|TOKEN6\n",
    "[ROW] 4: 1 November 2008|2008–09 World Cup|LOCATION0|COUNTRY0|500 m time trial|1|TOKEN4 TOKEN5|TOKEN6\n",
    "[ROW] 5: 2 November 2008|2008–09 World Cup|LOCATION0|COUNTRY0|TOKEN10 TOKEN3|1|TOKEN11 TOKEN12|TOKEN6\n",
    "[ROW] 6: 2 November 2008|2008–09 World Cup|LOCATION0|COUNTRY0|TOKEN10 TOKEN3|1|TOKEN8 TOKEN9|TOKEN6\n",
    "[ROW] 7: 2 November 2008|2008–09 World Cup|LOCATION0|COUNTRY0|TOKEN10 TOKEN3|1|TOKEN13 TOKEN14|TOKEN6\n",
    "[ROW] 8: 2 November 2008|2008–09 World Cup|LOCATION0|COUNTRY0|TOKEN7|1|TOKEN4 TOKEN5|TOKEN6\n",
    "[ROW] 9: 2 November 2008|5th International Keirin Event|LOCATION0|COUNTRY0|TOKEN15 TOKEN7|2|TOKEN11 TOKEN12|TOKEN6\n",
    "[ROW] 10: 13 February 2009|2008–09 World Cup|LOCATION1|TOKEN17|COUNTRY1|1|TOKEN18 TOKEN19|TOKEN6\n",
    "[ROW] 11: 13 February 2009|2008–09 World Cup|LOCATION1|TOKEN17|COUNTRY1|1|TOKEN8 TOKEN9|TOKEN6\n",
    "[ROW] 12: 13 February 2009|2008–09 World Cup|LOCATION1|TOKEN17|COUNTRY1|TOKEN13 TOKEN14|TOKEN6\n",
    "[ROW] 13: 13 February 2009|2008–09 World Cup|LOCATION1|TOKEN17|TOKEN3|1|TOKEN4 TOKEN5|TOKEN6\n",
    "[ROW] 14: 30 October 2009|2009–10 World Cup|LOCATION0|TOKEN1 TOKEN2|TOKEN7|1|TOKEN18 TOKEN19|TOKEN6\n",
    "[ROW] 15: 30 October 2009|2009–10 World Cup|LOCATION0|TOKEN1 TOKEN2|TOKEN3|1|TOKEN4 TOKEN5|TOKEN6\n",
    "[ROW] 16: 30 October 2009|2009–10 World Cup|LOCATION0|TOKEN1 TOKEN2|TOKEN3|1|TOKEN18 TOKEN19|TOKEN6\n",
    "[ROW] 17: 30 October 2009|2009–10 World Cup|LOCATION0|TOKEN1 TOKEN2|500 m time trial|2|TOKEN4 TOKEN5|TOKEN6\n",
    "[ROW] 18: 1 November 2009|2009–10 World Cup|LOCATION0|TOKEN1 TOKEN2|TOKEN10 TOKEN3|1|TOKEN11 TOKEN12|TOKEN6\n",
    "[ROW] 19: 1 November 2009|2009–10 World Cup|LOCATION0|TOKEN1 TOKEN2|TOKEN10 TOKEN3|1|TOKEN18 TOKEN19|TOKEN6\n",
    "[ROW] 20: 1 November 2009|2009–10 World Cup|LOCATION0|TOKEN1 TOKEN2|TOKEN10 TOKEN3|1|TOKEN13 TOKEN14|TOKEN6\n",
    "\n",
    "Answer the following question based on the data above: \"what is the number of 1st place finishes across all events?\". The answer is: ```\n",
    "\"\"\""
   ]
  },
  {
   "cell_type": "code",
   "execution_count": null,
   "id": "bfe95483-3159-4a5b-81e6-61ae61cc8109",
   "metadata": {},
   "outputs": [],
   "source": []
  },
  {
   "cell_type": "code",
   "execution_count": null,
   "id": "e1468492-f798-4bc9-8e8a-fe40267f245f",
   "metadata": {},
   "outputs": [],
   "source": []
  },
  {
   "cell_type": "code",
   "execution_count": null,
   "id": "4c7ca3db-4804-454c-bc20-e9de2f5e5b45",
   "metadata": {},
   "outputs": [],
   "source": []
  },
  {
   "cell_type": "code",
   "execution_count": null,
   "id": "0b7a829c-c0f7-4db7-8859-f289f016cda2",
   "metadata": {},
   "outputs": [],
   "source": []
  },
  {
   "cell_type": "code",
   "execution_count": null,
   "id": "29b74b71-0dba-4932-ab03-fc61b21c097a",
   "metadata": {},
   "outputs": [],
   "source": []
  },
  {
   "cell_type": "code",
   "execution_count": 3,
   "id": "4195c8cb-842d-44e5-8fbe-ac909e98a25a",
   "metadata": {},
   "outputs": [
    {
     "name": "stderr",
     "output_type": "stream",
     "text": [
      "Warning : `load_model` does not return WordVectorModel or SupervisedModel any more, but a `FastText` object which is very similar.\n"
     ]
    }
   ],
   "source": [
    "# model = 'text-davinci-003'\n",
    "model = 'davinci-codex-002-msft'\n",
    "ft = fasttext.load_model('/mnt/idm_automapping/cc.en.300.bin')"
   ]
  },
  {
   "cell_type": "markdown",
   "id": "5e40ed30-8be5-4b80-8309-a1a5467e098d",
   "metadata": {},
   "source": [
    "# CodexAnswerTokenizeDF"
   ]
  },
  {
   "cell_type": "code",
   "execution_count": 17,
   "id": "98632eaa-f76b-4a38-bed9-6ae0100e1635",
   "metadata": {},
   "outputs": [
    {
     "name": "stdout",
     "output_type": "stream",
     "text": [
      "Loading embeddings\n"
     ]
    },
    {
     "name": "stderr",
     "output_type": "stream",
     "text": [
      "100%|█████████████████████████████████████████████████████████████████████████████████████████████████████████████████████████████████████████████████████████████████████████████████████████████████████████████████████████████████████████████████████████████████████████████████████████████████████████| 14149/14149 [00:12<00:00, 1145.23it/s]\n"
     ]
    }
   ],
   "source": [
    "def parallel_CodexAnswerTokenizeDF_dynamic_few_shot_func(i):\n",
    "    try:\n",
    "        prompter = CodexAnswerTokenizeDF(test_df.iloc[i]['id'], \n",
    "                             test_df.iloc[i]['utterance'], \n",
    "                             test_df.iloc[i]['context'], \n",
    "                             test_df.iloc[i]['targetValue'], \n",
    "                             base_path='./dataset/WikiTableQuestions/')\n",
    "        prompter.model = model\n",
    "        prompter._gen_NN_demo(\n",
    "            training_data_autoreasoning, all_demo_embeddings, ft, demo_num=3)\n",
    "        prompter._gen_gpt_prompt()\n",
    "        prompter._get_gpt_prediction()\n",
    "        if prompter.gpt_error is None:\n",
    "            prompter._evaluate_result(verbose=False)\n",
    "        return prompter._log_dict()\n",
    "    except Exception as e:\n",
    "        return {\n",
    "            'id': test_df.iloc[i]['id'],\n",
    "            'uncaught_err': str(e)\n",
    "        } \n",
    "    \n",
    "\n",
    "training_data_autoreasoning = json.load(open(f'./dataset/WikiTableQuestions/reasonings/GptReasoner_training.json', 'r'))\n",
    "all_demo_embeddings = None\n",
    "print(\"Loading embeddings\")\n",
    "for train_q in tqdm(training_data_autoreasoning):\n",
    "    if all_demo_embeddings is None:\n",
    "        all_demo_embeddings = get_utterance_embedding(train_q['utterance'], ft).reshape([-1, 1])\n",
    "    else:\n",
    "        all_demo_embeddings = np.append(all_demo_embeddings, get_utterance_embedding(train_q['utterance'], ft).reshape([-1, 1]), axis=1)"
   ]
  },
  {
   "cell_type": "code",
   "execution_count": 19,
   "id": "8917d1c2-33fb-4f10-8d53-e846ad57487e",
   "metadata": {},
   "outputs": [
    {
     "name": "stderr",
     "output_type": "stream",
     "text": [
      "100%|█████████████████████████████████████████████████████████████████████████████████████████████████████████████████████████████████████████████████████████████████████████████████████████████████████████████████████████████████████████████████████████████████████████████████████████████████████████████| 4344/4344 [08:46<00:00,  8.26it/s]\n"
     ]
    }
   ],
   "source": [
    "test_df = pd.read_csv(f'./dataset/WikiTableQuestions/data/pristine-unseen-tables.tsv', sep='\\t', on_bad_lines='skip')\n",
    "maxLimit = float('inf')\n",
    "# maxLimit = 100\n",
    "n_threads = 20\n",
    "from joblib import Parallel, delayed\n",
    "res = Parallel(n_jobs=n_threads, require='sharedmem')(delayed(parallel_CodexAnswerTokenizeDF_dynamic_few_shot_func)(i) for i in tqdm(range(min(maxLimit, test_df.shape[0]))))\n",
    "# json.dump(res, open(f'./dataset/WikiTableQuestions/results/CodexAnswerTokenizeDF_{model}_zeroShot_results_pristine-unseen-tables.json', 'w'))\n",
    "json.dump(res, open(f'./dataset/WikiTableQuestions/results/CodexAnswerTokenizeDF_{model}_top3cos_results_pristine-unseen-tables.json', 'w'))"
   ]
  },
  {
   "cell_type": "markdown",
   "id": "5974adef-72a9-4617-8c07-41473005f7a3",
   "metadata": {},
   "source": [
    "# CodexAnswer"
   ]
  },
  {
   "cell_type": "code",
   "execution_count": 6,
   "id": "c27c5311-c309-421c-9c10-4d315a070b42",
   "metadata": {},
   "outputs": [
    {
     "name": "stderr",
     "output_type": "stream",
     "text": [
      "Warning : `load_model` does not return WordVectorModel or SupervisedModel any more, but a `FastText` object which is very similar.\n"
     ]
    },
    {
     "name": "stdout",
     "output_type": "stream",
     "text": [
      "Loading embeddings\n"
     ]
    },
    {
     "name": "stderr",
     "output_type": "stream",
     "text": [
      "100%|█████████████████████████████████████████████████████████████████████████████████████████████████████████████████████████████████████████████████████████████████████████████████████████████████████████████████████████████████████████████████████████████████████████████████████████████████████████| 14149/14149 [00:11<00:00, 1243.69it/s]\n",
      "100%|█████████████████████████████████████████████████████████████████████████████████████████████████████████████████████████████████████████████████████████████████████████████████████████████████████████████████████████████████████████████████████████████████████████████████████████████████████████████| 4344/4344 [06:56<00:00, 10.42it/s]\n"
     ]
    },
    {
     "name": "stdout",
     "output_type": "stream",
     "text": [
      "Saving to:  ./dataset/WikiTableQuestions/results/GptAnswer_davinci-codex-002-msft_fewShot_top3cos_sep=[',', '-', '', '', True]_results_pristine-unseen-tables.json\n"
     ]
    },
    {
     "name": "stderr",
     "output_type": "stream",
     "text": [
      "100%|█████████████████████████████████████████████████████████████████████████████████████████████████████████████████████████████████████████████████████████████████████████████████████████████████████████████████████████████████████████████████████████████████████████████████████████████████████████████| 4344/4344 [06:19<00:00, 11.43it/s]\n"
     ]
    },
    {
     "name": "stdout",
     "output_type": "stream",
     "text": [
      "Saving to:  ./dataset/WikiTableQuestions/results/GptAnswer_davinci-codex-002-msft_fewShot_top3cos_sep=[',', '-', '', '[ROW]', True]_results_pristine-unseen-tables.json\n"
     ]
    },
    {
     "name": "stderr",
     "output_type": "stream",
     "text": [
      "100%|█████████████████████████████████████████████████████████████████████████████████████████████████████████████████████████████████████████████████████████████████████████████████████████████████████████████████████████████████████████████████████████████████████████████████████████████████████████████| 4344/4344 [06:27<00:00, 11.21it/s]\n"
     ]
    },
    {
     "name": "stdout",
     "output_type": "stream",
     "text": [
      "Saving to:  ./dataset/WikiTableQuestions/results/GptAnswer_davinci-codex-002-msft_fewShot_top3cos_sep=[',', '-', '[HEAD]', '', True]_results_pristine-unseen-tables.json\n"
     ]
    },
    {
     "name": "stderr",
     "output_type": "stream",
     "text": [
      "100%|█████████████████████████████████████████████████████████████████████████████████████████████████████████████████████████████████████████████████████████████████████████████████████████████████████████████████████████████████████████████████████████████████████████████████████████████████████████████| 4344/4344 [06:21<00:00, 11.39it/s]\n"
     ]
    },
    {
     "name": "stdout",
     "output_type": "stream",
     "text": [
      "Saving to:  ./dataset/WikiTableQuestions/results/GptAnswer_davinci-codex-002-msft_fewShot_top3cos_sep=[',', '-', '[HEAD]', '[ROW]', True]_results_pristine-unseen-tables.json\n"
     ]
    },
    {
     "name": "stderr",
     "output_type": "stream",
     "text": [
      "100%|█████████████████████████████████████████████████████████████████████████████████████████████████████████████████████████████████████████████████████████████████████████████████████████████████████████████████████████████████████████████████████████████████████████████████████████████████████████████| 4344/4344 [06:19<00:00, 11.45it/s]\n"
     ]
    },
    {
     "name": "stdout",
     "output_type": "stream",
     "text": [
      "Saving to:  ./dataset/WikiTableQuestions/results/GptAnswer_davinci-codex-002-msft_fewShot_top3cos_sep=[',', '', '', '', True]_results_pristine-unseen-tables.json\n"
     ]
    },
    {
     "name": "stderr",
     "output_type": "stream",
     "text": [
      "100%|█████████████████████████████████████████████████████████████████████████████████████████████████████████████████████████████████████████████████████████████████████████████████████████████████████████████████████████████████████████████████████████████████████████████████████████████████████████████| 4344/4344 [06:37<00:00, 10.93it/s]\n"
     ]
    },
    {
     "name": "stdout",
     "output_type": "stream",
     "text": [
      "Saving to:  ./dataset/WikiTableQuestions/results/GptAnswer_davinci-codex-002-msft_fewShot_top3cos_sep=[',', '', '', '[ROW]', True]_results_pristine-unseen-tables.json\n"
     ]
    },
    {
     "name": "stderr",
     "output_type": "stream",
     "text": [
      "100%|█████████████████████████████████████████████████████████████████████████████████████████████████████████████████████████████████████████████████████████████████████████████████████████████████████████████████████████████████████████████████████████████████████████████████████████████████████████████| 4344/4344 [06:19<00:00, 11.43it/s]\n"
     ]
    },
    {
     "name": "stdout",
     "output_type": "stream",
     "text": [
      "Saving to:  ./dataset/WikiTableQuestions/results/GptAnswer_davinci-codex-002-msft_fewShot_top3cos_sep=[',', '', '[HEAD]', '', True]_results_pristine-unseen-tables.json\n"
     ]
    },
    {
     "name": "stderr",
     "output_type": "stream",
     "text": [
      "100%|█████████████████████████████████████████████████████████████████████████████████████████████████████████████████████████████████████████████████████████████████████████████████████████████████████████████████████████████████████████████████████████████████████████████████████████████████████████████| 4344/4344 [06:51<00:00, 10.56it/s]\n"
     ]
    },
    {
     "name": "stdout",
     "output_type": "stream",
     "text": [
      "Saving to:  ./dataset/WikiTableQuestions/results/GptAnswer_davinci-codex-002-msft_fewShot_top3cos_sep=[',', '', '[HEAD]', '[ROW]', True]_results_pristine-unseen-tables.json\n"
     ]
    },
    {
     "name": "stderr",
     "output_type": "stream",
     "text": [
      "100%|█████████████████████████████████████████████████████████████████████████████████████████████████████████████████████████████████████████████████████████████████████████████████████████████████████████████████████████████████████████████████████████████████████████████████████████████████████████████| 4344/4344 [07:07<00:00, 10.15it/s]\n"
     ]
    },
    {
     "name": "stdout",
     "output_type": "stream",
     "text": [
      "Saving to:  ./dataset/WikiTableQuestions/results/GptAnswer_davinci-codex-002-msft_fewShot_top3cos_sep=['|', '-', '', '', True]_results_pristine-unseen-tables.json\n"
     ]
    },
    {
     "name": "stderr",
     "output_type": "stream",
     "text": [
      "100%|█████████████████████████████████████████████████████████████████████████████████████████████████████████████████████████████████████████████████████████████████████████████████████████████████████████████████████████████████████████████████████████████████████████████████████████████████████████████| 4344/4344 [08:50<00:00,  8.19it/s]\n"
     ]
    },
    {
     "name": "stdout",
     "output_type": "stream",
     "text": [
      "Saving to:  ./dataset/WikiTableQuestions/results/GptAnswer_davinci-codex-002-msft_fewShot_top3cos_sep=['|', '-', '', '[ROW]', True]_results_pristine-unseen-tables.json\n"
     ]
    },
    {
     "name": "stderr",
     "output_type": "stream",
     "text": [
      "100%|█████████████████████████████████████████████████████████████████████████████████████████████████████████████████████████████████████████████████████████████████████████████████████████████████████████████████████████████████████████████████████████████████████████████████████████████████████████████| 4344/4344 [08:45<00:00,  8.27it/s]\n"
     ]
    },
    {
     "name": "stdout",
     "output_type": "stream",
     "text": [
      "Saving to:  ./dataset/WikiTableQuestions/results/GptAnswer_davinci-codex-002-msft_fewShot_top3cos_sep=['|', '-', '[HEAD]', '', True]_results_pristine-unseen-tables.json\n"
     ]
    },
    {
     "name": "stderr",
     "output_type": "stream",
     "text": [
      "100%|█████████████████████████████████████████████████████████████████████████████████████████████████████████████████████████████████████████████████████████████████████████████████████████████████████████████████████████████████████████████████████████████████████████████████████████████████████████████| 4344/4344 [11:17<00:00,  6.41it/s]\n"
     ]
    },
    {
     "name": "stdout",
     "output_type": "stream",
     "text": [
      "Saving to:  ./dataset/WikiTableQuestions/results/GptAnswer_davinci-codex-002-msft_fewShot_top3cos_sep=['|', '-', '[HEAD]', '[ROW]', True]_results_pristine-unseen-tables.json\n"
     ]
    },
    {
     "name": "stderr",
     "output_type": "stream",
     "text": [
      "100%|█████████████████████████████████████████████████████████████████████████████████████████████████████████████████████████████████████████████████████████████████████████████████████████████████████████████████████████████████████████████████████████████████████████████████████████████████████████████| 4344/4344 [06:39<00:00, 10.88it/s]\n"
     ]
    },
    {
     "name": "stdout",
     "output_type": "stream",
     "text": [
      "Saving to:  ./dataset/WikiTableQuestions/results/GptAnswer_davinci-codex-002-msft_fewShot_top3cos_sep=['|', '', '', '', True]_results_pristine-unseen-tables.json\n"
     ]
    },
    {
     "name": "stderr",
     "output_type": "stream",
     "text": [
      "100%|█████████████████████████████████████████████████████████████████████████████████████████████████████████████████████████████████████████████████████████████████████████████████████████████████████████████████████████████████████████████████████████████████████████████████████████████████████████████| 4344/4344 [06:34<00:00, 11.00it/s]\n"
     ]
    },
    {
     "name": "stdout",
     "output_type": "stream",
     "text": [
      "Saving to:  ./dataset/WikiTableQuestions/results/GptAnswer_davinci-codex-002-msft_fewShot_top3cos_sep=['|', '', '', '[ROW]', True]_results_pristine-unseen-tables.json\n"
     ]
    },
    {
     "name": "stderr",
     "output_type": "stream",
     "text": [
      "100%|█████████████████████████████████████████████████████████████████████████████████████████████████████████████████████████████████████████████████████████████████████████████████████████████████████████████████████████████████████████████████████████████████████████████████████████████████████████████| 4344/4344 [06:32<00:00, 11.06it/s]\n"
     ]
    },
    {
     "name": "stdout",
     "output_type": "stream",
     "text": [
      "Saving to:  ./dataset/WikiTableQuestions/results/GptAnswer_davinci-codex-002-msft_fewShot_top3cos_sep=['|', '', '[HEAD]', '', True]_results_pristine-unseen-tables.json\n"
     ]
    },
    {
     "name": "stderr",
     "output_type": "stream",
     "text": [
      "100%|█████████████████████████████████████████████████████████████████████████████████████████████████████████████████████████████████████████████████████████████████████████████████████████████████████████████████████████████████████████████████████████████████████████████████████████████████████████████| 4344/4344 [06:55<00:00, 10.45it/s]\n"
     ]
    },
    {
     "name": "stdout",
     "output_type": "stream",
     "text": [
      "Saving to:  ./dataset/WikiTableQuestions/results/GptAnswer_davinci-codex-002-msft_fewShot_top3cos_sep=['|', '', '[HEAD]', '[ROW]', True]_results_pristine-unseen-tables.json\n"
     ]
    },
    {
     "name": "stderr",
     "output_type": "stream",
     "text": [
      "100%|█████████████████████████████████████████████████████████████████████████████████████████████████████████████████████████████████████████████████████████████████████████████████████████████████████████████████████████████████████████████████████████████████████████████████████████████████████████████| 4344/4344 [06:48<00:00, 10.62it/s]\n"
     ]
    },
    {
     "name": "stdout",
     "output_type": "stream",
     "text": [
      "Saving to:  ./dataset/WikiTableQuestions/results/GptAnswer_davinci-codex-002-msft_fewShot_top3cos_sep=['t', '-', '', '[ROW]', True]_results_pristine-unseen-tables.json\n"
     ]
    },
    {
     "name": "stderr",
     "output_type": "stream",
     "text": [
      "100%|█████████████████████████████████████████████████████████████████████████████████████████████████████████████████████████████████████████████████████████████████████████████████████████████████████████████████████████████████████████████████████████████████████████████████████████████████████████████| 4344/4344 [06:53<00:00, 10.52it/s]\n"
     ]
    },
    {
     "name": "stdout",
     "output_type": "stream",
     "text": [
      "Saving to:  ./dataset/WikiTableQuestions/results/GptAnswer_davinci-codex-002-msft_fewShot_top3cos_sep=['t', '-', '[HEAD]', '', True]_results_pristine-unseen-tables.json\n"
     ]
    },
    {
     "name": "stderr",
     "output_type": "stream",
     "text": [
      "100%|█████████████████████████████████████████████████████████████████████████████████████████████████████████████████████████████████████████████████████████████████████████████████████████████████████████████████████████████████████████████████████████████████████████████████████████████████████████████| 4344/4344 [06:44<00:00, 10.75it/s]\n"
     ]
    },
    {
     "name": "stdout",
     "output_type": "stream",
     "text": [
      "Saving to:  ./dataset/WikiTableQuestions/results/GptAnswer_davinci-codex-002-msft_fewShot_top3cos_sep=['t', '-', '[HEAD]', '[ROW]', True]_results_pristine-unseen-tables.json\n"
     ]
    },
    {
     "name": "stderr",
     "output_type": "stream",
     "text": [
      "100%|█████████████████████████████████████████████████████████████████████████████████████████████████████████████████████████████████████████████████████████████████████████████████████████████████████████████████████████████████████████████████████████████████████████████████████████████████████████████| 4344/4344 [07:13<00:00, 10.03it/s]\n"
     ]
    },
    {
     "name": "stdout",
     "output_type": "stream",
     "text": [
      "Saving to:  ./dataset/WikiTableQuestions/results/GptAnswer_davinci-codex-002-msft_fewShot_top3cos_sep=['t', '', '', '', True]_results_pristine-unseen-tables.json\n"
     ]
    },
    {
     "name": "stderr",
     "output_type": "stream",
     "text": [
      "100%|█████████████████████████████████████████████████████████████████████████████████████████████████████████████████████████████████████████████████████████████████████████████████████████████████████████████████████████████████████████████████████████████████████████████████████████████████████████████| 4344/4344 [06:33<00:00, 11.03it/s]\n"
     ]
    },
    {
     "name": "stdout",
     "output_type": "stream",
     "text": [
      "Saving to:  ./dataset/WikiTableQuestions/results/GptAnswer_davinci-codex-002-msft_fewShot_top3cos_sep=['t', '', '', '[ROW]', True]_results_pristine-unseen-tables.json\n"
     ]
    },
    {
     "name": "stderr",
     "output_type": "stream",
     "text": [
      "100%|█████████████████████████████████████████████████████████████████████████████████████████████████████████████████████████████████████████████████████████████████████████████████████████████████████████████████████████████████████████████████████████████████████████████████████████████████████████████| 4344/4344 [06:32<00:00, 11.07it/s]\n"
     ]
    },
    {
     "name": "stdout",
     "output_type": "stream",
     "text": [
      "Saving to:  ./dataset/WikiTableQuestions/results/GptAnswer_davinci-codex-002-msft_fewShot_top3cos_sep=['t', '', '[HEAD]', '', True]_results_pristine-unseen-tables.json\n"
     ]
    },
    {
     "name": "stderr",
     "output_type": "stream",
     "text": [
      "100%|█████████████████████████████████████████████████████████████████████████████████████████████████████████████████████████████████████████████████████████████████████████████████████████████████████████████████████████████████████████████████████████████████████████████████████████████████████████████| 4344/4344 [07:12<00:00, 10.04it/s]\n"
     ]
    },
    {
     "name": "stdout",
     "output_type": "stream",
     "text": [
      "Saving to:  ./dataset/WikiTableQuestions/results/GptAnswer_davinci-codex-002-msft_fewShot_top3cos_sep=['t', '', '[HEAD]', '[ROW]', True]_results_pristine-unseen-tables.json\n"
     ]
    }
   ],
   "source": [
    "import time\n",
    "\n",
    "# model = 'text-davinci-002'\n",
    "# model = 'text-davinci-003'\n",
    "model = 'davinci-codex-002-msft'\n",
    "\n",
    "all_table_formats = {\n",
    "    'seperators': [',', '|', '\\t'],\n",
    "    'col_data_splits': ['-', ''],\n",
    "    'col_prefixs' : ['', '[HEAD]'],\n",
    "    'row_prefixs' : ['', '[ROW]'],\n",
    "    'key_val_pairs': [True, False]\n",
    "}\n",
    "\n",
    "ft = fasttext.load_model('/mnt/idm_automapping/cc.en.300.bin')\n",
    "\n",
    "def parallel_gpt_answer_dynamic_few_shot_func(i):\n",
    "    try:\n",
    "        prompter = GptAnswer(test_df.iloc[i]['id'], \n",
    "                             test_df.iloc[i]['utterance'], \n",
    "                             test_df.iloc[i]['context'], \n",
    "                             test_df.iloc[i]['targetValue'], \n",
    "                             base_path='./dataset/WikiTableQuestions/', \n",
    "                            table_format = table_format)\n",
    "        prompter.model = model\n",
    "        prompter._gen_NN_demo(training_data_autoreasoning, all_demo_embeddings, ft, demo_num=3)\n",
    "        prompter._gen_gpt_prompt()\n",
    "        prompter._get_gpt_prediction()\n",
    "        if prompter.gpt_error is None:\n",
    "            prompter._evaluate_result(verbose=False)\n",
    "        log = prompter._log_dict()\n",
    "    except Exception as e:\n",
    "        log = {\n",
    "            'id': test_df.iloc[i]['id'],\n",
    "            'uncaught_err': str(e)\n",
    "        }\n",
    "    if model == 'text-davinci-003':\n",
    "        time.sleep(5)\n",
    "    return log\n",
    "\n",
    "training_data_autoreasoning = json.load(open(f'./dataset/WikiTableQuestions/reasonings/GptReasoner_training.json', 'r'))\n",
    "all_demo_embeddings = None\n",
    "print(\"Loading embeddings\")\n",
    "for train_q in tqdm(training_data_autoreasoning):\n",
    "    if all_demo_embeddings is None:\n",
    "        all_demo_embeddings = get_utterance_embedding(train_q['utterance'], ft).reshape([-1, 1])\n",
    "    else:\n",
    "        all_demo_embeddings = np.append(all_demo_embeddings, get_utterance_embedding(train_q['utterance'], ft).reshape([-1, 1]), axis=1)\n",
    "\n",
    "test_df = pd.read_csv(f'./dataset/WikiTableQuestions/data/pristine-unseen-tables.tsv', sep='\\t', on_bad_lines='skip')\n",
    "maxLimit = float('inf')\n",
    "# maxLimit = 20 \n",
    "n_threads = 20\n",
    "from joblib import Parallel, delayed\n",
    "\n",
    "for sep in all_table_formats['seperators']:\n",
    "    for col_data_split in all_table_formats['col_data_splits']:\n",
    "        for col_prefix in all_table_formats['col_prefixs']:\n",
    "            for row_prefix in all_table_formats['row_prefixs']:\n",
    "                # for key_val_pairs in [True, False]:\n",
    "                for key_val_pairs in [True]:\n",
    "                    table_format = {\n",
    "                        'seperator': sep,\n",
    "                        'col_data_split': col_data_split,\n",
    "                        'col_prefix' : col_prefix,\n",
    "                        'row_prefix' : row_prefix,\n",
    "                        'key_val_pairs': key_val_pairs\n",
    "                    }\n",
    "                    arr = [sep.replace('\\t', 't'), col_data_split, col_prefix, row_prefix, key_val_pairs]\n",
    "                    res = Parallel(n_jobs=n_threads, require='sharedmem')(delayed(parallel_gpt_answer_dynamic_few_shot_func)(i) for i in tqdm(range(min(maxLimit, test_df.shape[0]))))\n",
    "                    dump_json_file_name = f'./dataset/WikiTableQuestions/results/GptAnswer_{model}_fewShot_top3cos_sep={arr}_results_pristine-unseen-tables.json'\n",
    "                    print(\"Saving to: \", dump_json_file_name)\n",
    "                    json.dump(res, open(dump_json_file_name, 'w'))"
   ]
  },
  {
   "cell_type": "code",
   "execution_count": null,
   "id": "89121912-d9fb-4230-9fd0-1112a5cb3c59",
   "metadata": {},
   "outputs": [],
   "source": []
  },
  {
   "cell_type": "code",
   "execution_count": null,
   "id": "b53da644-c50a-40d4-bb5d-8a081645d7cd",
   "metadata": {},
   "outputs": [],
   "source": []
  },
  {
   "cell_type": "code",
   "execution_count": 16,
   "id": "b2634e15-303e-441e-ab7b-efb82d04e4e2",
   "metadata": {
    "collapsed": true,
    "jupyter": {
     "outputs_hidden": true
    },
    "tags": []
   },
   "outputs": [
    {
     "name": "stdout",
     "output_type": "stream",
     "text": [
      "Read from:  ./dataset/WikiTableQuestions/results/GptAnswer_davinci-codex-002-msft_fewShot_top3cos_sep=[',', '-', '', '', True]_results_pristine-unseen-tables.json\n"
     ]
    },
    {
     "name": "stderr",
     "output_type": "stream",
     "text": [
      "Reading dataset from ./dataset/WikiTableQuestions/tagged/data/training.tagged\n",
      "Reading dataset from ./dataset/WikiTableQuestions/tagged/data/pristine-seen-tables.tagged\n",
      "Reading dataset from ./dataset/WikiTableQuestions/tagged/data/pristine-unseen-tables.tagged\n",
      "Read 22033 examples\n",
      "Reading predictions from ./dataset/WikiTableQuestions/results/GptAnswer_davinci-codex-002-msft_fewShot_top3cos_sep=[',', '-', '', '', True]_results_pristine-unseen-tables.json\n",
      "Examples: 4344\n",
      "Correct: 2047\n",
      "Accuracy: 0.4712\n",
      "Reading dataset from ./dataset/WikiTableQuestions/tagged/data/training.tagged\n"
     ]
    },
    {
     "name": "stdout",
     "output_type": "stream",
     "text": [
      "Read from:  ./dataset/WikiTableQuestions/results/GptAnswer_davinci-codex-002-msft_fewShot_top3cos_sep=[',', '-', '', '']_results_pristine-unseen-tables.json\n"
     ]
    },
    {
     "name": "stderr",
     "output_type": "stream",
     "text": [
      "Reading dataset from ./dataset/WikiTableQuestions/tagged/data/pristine-seen-tables.tagged\n",
      "Reading dataset from ./dataset/WikiTableQuestions/tagged/data/pristine-unseen-tables.tagged\n",
      "Read 22033 examples\n",
      "Reading predictions from ./dataset/WikiTableQuestions/results/GptAnswer_davinci-codex-002-msft_fewShot_top3cos_sep=[',', '-', '', '']_results_pristine-unseen-tables.json\n",
      "Examples: 4344\n",
      "Correct: 2211\n",
      "Accuracy: 0.509\n",
      "Reading dataset from ./dataset/WikiTableQuestions/tagged/data/training.tagged\n"
     ]
    },
    {
     "name": "stdout",
     "output_type": "stream",
     "text": [
      "Read from:  ./dataset/WikiTableQuestions/results/GptAnswer_davinci-codex-002-msft_fewShot_top3cos_sep=[',', '-', '', '[ROW]', True]_results_pristine-unseen-tables.json\n"
     ]
    },
    {
     "name": "stderr",
     "output_type": "stream",
     "text": [
      "Reading dataset from ./dataset/WikiTableQuestions/tagged/data/pristine-seen-tables.tagged\n",
      "Reading dataset from ./dataset/WikiTableQuestions/tagged/data/pristine-unseen-tables.tagged\n",
      "Read 22033 examples\n",
      "Reading predictions from ./dataset/WikiTableQuestions/results/GptAnswer_davinci-codex-002-msft_fewShot_top3cos_sep=[',', '-', '', '[ROW]', True]_results_pristine-unseen-tables.json\n",
      "Examples: 4344\n",
      "Correct: 2010\n",
      "Accuracy: 0.4627\n",
      "Reading dataset from ./dataset/WikiTableQuestions/tagged/data/training.tagged\n"
     ]
    },
    {
     "name": "stdout",
     "output_type": "stream",
     "text": [
      "Read from:  ./dataset/WikiTableQuestions/results/GptAnswer_davinci-codex-002-msft_fewShot_top3cos_sep=[',', '-', '', '[ROW]']_results_pristine-unseen-tables.json\n"
     ]
    },
    {
     "name": "stderr",
     "output_type": "stream",
     "text": [
      "Reading dataset from ./dataset/WikiTableQuestions/tagged/data/pristine-seen-tables.tagged\n",
      "Reading dataset from ./dataset/WikiTableQuestions/tagged/data/pristine-unseen-tables.tagged\n",
      "Read 22033 examples\n",
      "Reading predictions from ./dataset/WikiTableQuestions/results/GptAnswer_davinci-codex-002-msft_fewShot_top3cos_sep=[',', '-', '', '[ROW]']_results_pristine-unseen-tables.json\n",
      "Examples: 4344\n",
      "Correct: 2202\n",
      "Accuracy: 0.5069\n",
      "Reading dataset from ./dataset/WikiTableQuestions/tagged/data/training.tagged\n"
     ]
    },
    {
     "name": "stdout",
     "output_type": "stream",
     "text": [
      "Read from:  ./dataset/WikiTableQuestions/results/GptAnswer_davinci-codex-002-msft_fewShot_top3cos_sep=[',', '-', '[HEAD]', '', True]_results_pristine-unseen-tables.json\n"
     ]
    },
    {
     "name": "stderr",
     "output_type": "stream",
     "text": [
      "Reading dataset from ./dataset/WikiTableQuestions/tagged/data/pristine-seen-tables.tagged\n",
      "Reading dataset from ./dataset/WikiTableQuestions/tagged/data/pristine-unseen-tables.tagged\n",
      "Read 22033 examples\n",
      "Reading predictions from ./dataset/WikiTableQuestions/results/GptAnswer_davinci-codex-002-msft_fewShot_top3cos_sep=[',', '-', '[HEAD]', '', True]_results_pristine-unseen-tables.json\n",
      "Examples: 4344\n",
      "Correct: 2083\n",
      "Accuracy: 0.4795\n",
      "Reading dataset from ./dataset/WikiTableQuestions/tagged/data/training.tagged\n"
     ]
    },
    {
     "name": "stdout",
     "output_type": "stream",
     "text": [
      "Read from:  ./dataset/WikiTableQuestions/results/GptAnswer_davinci-codex-002-msft_fewShot_top3cos_sep=[',', '-', '[HEAD]', '']_results_pristine-unseen-tables.json\n"
     ]
    },
    {
     "name": "stderr",
     "output_type": "stream",
     "text": [
      "Reading dataset from ./dataset/WikiTableQuestions/tagged/data/pristine-seen-tables.tagged\n",
      "Reading dataset from ./dataset/WikiTableQuestions/tagged/data/pristine-unseen-tables.tagged\n",
      "Read 22033 examples\n",
      "Reading predictions from ./dataset/WikiTableQuestions/results/GptAnswer_davinci-codex-002-msft_fewShot_top3cos_sep=[',', '-', '[HEAD]', '']_results_pristine-unseen-tables.json\n",
      "Examples: 4344\n",
      "Correct: 2198\n",
      "Accuracy: 0.506\n",
      "Reading dataset from ./dataset/WikiTableQuestions/tagged/data/training.tagged\n"
     ]
    },
    {
     "name": "stdout",
     "output_type": "stream",
     "text": [
      "Read from:  ./dataset/WikiTableQuestions/results/GptAnswer_davinci-codex-002-msft_fewShot_top3cos_sep=[',', '-', '[HEAD]', '[ROW]', True]_results_pristine-unseen-tables.json\n"
     ]
    },
    {
     "name": "stderr",
     "output_type": "stream",
     "text": [
      "Reading dataset from ./dataset/WikiTableQuestions/tagged/data/pristine-seen-tables.tagged\n",
      "Reading dataset from ./dataset/WikiTableQuestions/tagged/data/pristine-unseen-tables.tagged\n",
      "Read 22033 examples\n",
      "Reading predictions from ./dataset/WikiTableQuestions/results/GptAnswer_davinci-codex-002-msft_fewShot_top3cos_sep=[',', '-', '[HEAD]', '[ROW]', True]_results_pristine-unseen-tables.json\n",
      "Examples: 4344\n",
      "Correct: 2041\n",
      "Accuracy: 0.4698\n",
      "Reading dataset from ./dataset/WikiTableQuestions/tagged/data/training.tagged\n"
     ]
    },
    {
     "name": "stdout",
     "output_type": "stream",
     "text": [
      "Read from:  ./dataset/WikiTableQuestions/results/GptAnswer_davinci-codex-002-msft_fewShot_top3cos_sep=[',', '-', '[HEAD]', '[ROW]']_results_pristine-unseen-tables.json\n"
     ]
    },
    {
     "name": "stderr",
     "output_type": "stream",
     "text": [
      "Reading dataset from ./dataset/WikiTableQuestions/tagged/data/pristine-seen-tables.tagged\n",
      "Reading dataset from ./dataset/WikiTableQuestions/tagged/data/pristine-unseen-tables.tagged\n",
      "Read 22033 examples\n",
      "Reading predictions from ./dataset/WikiTableQuestions/results/GptAnswer_davinci-codex-002-msft_fewShot_top3cos_sep=[',', '-', '[HEAD]', '[ROW]']_results_pristine-unseen-tables.json\n",
      "Examples: 4344\n",
      "Correct: 2209\n",
      "Accuracy: 0.5085\n",
      "Reading dataset from ./dataset/WikiTableQuestions/tagged/data/training.tagged\n"
     ]
    },
    {
     "name": "stdout",
     "output_type": "stream",
     "text": [
      "Read from:  ./dataset/WikiTableQuestions/results/GptAnswer_davinci-codex-002-msft_fewShot_top3cos_sep=[',', '', '', '', True]_results_pristine-unseen-tables.json\n"
     ]
    },
    {
     "name": "stderr",
     "output_type": "stream",
     "text": [
      "Reading dataset from ./dataset/WikiTableQuestions/tagged/data/pristine-seen-tables.tagged\n",
      "Reading dataset from ./dataset/WikiTableQuestions/tagged/data/pristine-unseen-tables.tagged\n",
      "Read 22033 examples\n",
      "Reading predictions from ./dataset/WikiTableQuestions/results/GptAnswer_davinci-codex-002-msft_fewShot_top3cos_sep=[',', '', '', '', True]_results_pristine-unseen-tables.json\n",
      "Examples: 4344\n",
      "Correct: 2065\n",
      "Accuracy: 0.4754\n",
      "Reading dataset from ./dataset/WikiTableQuestions/tagged/data/training.tagged\n"
     ]
    },
    {
     "name": "stdout",
     "output_type": "stream",
     "text": [
      "Read from:  ./dataset/WikiTableQuestions/results/GptAnswer_davinci-codex-002-msft_fewShot_top3cos_sep=[',', '', '', '']_results_pristine-unseen-tables.json\n"
     ]
    },
    {
     "name": "stderr",
     "output_type": "stream",
     "text": [
      "Reading dataset from ./dataset/WikiTableQuestions/tagged/data/pristine-seen-tables.tagged\n",
      "Reading dataset from ./dataset/WikiTableQuestions/tagged/data/pristine-unseen-tables.tagged\n",
      "Read 22033 examples\n",
      "Reading predictions from ./dataset/WikiTableQuestions/results/GptAnswer_davinci-codex-002-msft_fewShot_top3cos_sep=[',', '', '', '']_results_pristine-unseen-tables.json\n",
      "Examples: 4344\n",
      "Correct: 2207\n",
      "Accuracy: 0.5081\n",
      "Reading dataset from ./dataset/WikiTableQuestions/tagged/data/training.tagged\n"
     ]
    },
    {
     "name": "stdout",
     "output_type": "stream",
     "text": [
      "Read from:  ./dataset/WikiTableQuestions/results/GptAnswer_davinci-codex-002-msft_fewShot_top3cos_sep=[',', '', '', '[ROW]', True]_results_pristine-unseen-tables.json\n"
     ]
    },
    {
     "name": "stderr",
     "output_type": "stream",
     "text": [
      "Reading dataset from ./dataset/WikiTableQuestions/tagged/data/pristine-seen-tables.tagged\n",
      "Reading dataset from ./dataset/WikiTableQuestions/tagged/data/pristine-unseen-tables.tagged\n",
      "Read 22033 examples\n",
      "Reading predictions from ./dataset/WikiTableQuestions/results/GptAnswer_davinci-codex-002-msft_fewShot_top3cos_sep=[',', '', '', '[ROW]', True]_results_pristine-unseen-tables.json\n",
      "Examples: 4344\n",
      "Correct: 2015\n",
      "Accuracy: 0.4639\n",
      "Reading dataset from ./dataset/WikiTableQuestions/tagged/data/training.tagged\n"
     ]
    },
    {
     "name": "stdout",
     "output_type": "stream",
     "text": [
      "Read from:  ./dataset/WikiTableQuestions/results/GptAnswer_davinci-codex-002-msft_fewShot_top3cos_sep=[',', '', '', '[ROW]']_results_pristine-unseen-tables.json\n"
     ]
    },
    {
     "name": "stderr",
     "output_type": "stream",
     "text": [
      "Reading dataset from ./dataset/WikiTableQuestions/tagged/data/pristine-seen-tables.tagged\n",
      "Reading dataset from ./dataset/WikiTableQuestions/tagged/data/pristine-unseen-tables.tagged\n",
      "Read 22033 examples\n",
      "Reading predictions from ./dataset/WikiTableQuestions/results/GptAnswer_davinci-codex-002-msft_fewShot_top3cos_sep=[',', '', '', '[ROW]']_results_pristine-unseen-tables.json\n",
      "Examples: 4344\n",
      "Correct: 2210\n",
      "Accuracy: 0.5087\n",
      "Reading dataset from ./dataset/WikiTableQuestions/tagged/data/training.tagged\n"
     ]
    },
    {
     "name": "stdout",
     "output_type": "stream",
     "text": [
      "Read from:  ./dataset/WikiTableQuestions/results/GptAnswer_davinci-codex-002-msft_fewShot_top3cos_sep=[',', '', '[HEAD]', '', True]_results_pristine-unseen-tables.json\n"
     ]
    },
    {
     "name": "stderr",
     "output_type": "stream",
     "text": [
      "Reading dataset from ./dataset/WikiTableQuestions/tagged/data/pristine-seen-tables.tagged\n",
      "Reading dataset from ./dataset/WikiTableQuestions/tagged/data/pristine-unseen-tables.tagged\n",
      "Read 22033 examples\n",
      "Reading predictions from ./dataset/WikiTableQuestions/results/GptAnswer_davinci-codex-002-msft_fewShot_top3cos_sep=[',', '', '[HEAD]', '', True]_results_pristine-unseen-tables.json\n",
      "Examples: 4344\n",
      "Correct: 2070\n",
      "Accuracy: 0.4765\n",
      "Reading dataset from ./dataset/WikiTableQuestions/tagged/data/training.tagged\n"
     ]
    },
    {
     "name": "stdout",
     "output_type": "stream",
     "text": [
      "Read from:  ./dataset/WikiTableQuestions/results/GptAnswer_davinci-codex-002-msft_fewShot_top3cos_sep=[',', '', '[HEAD]', '']_results_pristine-unseen-tables.json\n"
     ]
    },
    {
     "name": "stderr",
     "output_type": "stream",
     "text": [
      "Reading dataset from ./dataset/WikiTableQuestions/tagged/data/pristine-seen-tables.tagged\n",
      "Reading dataset from ./dataset/WikiTableQuestions/tagged/data/pristine-unseen-tables.tagged\n",
      "Read 22033 examples\n",
      "Reading predictions from ./dataset/WikiTableQuestions/results/GptAnswer_davinci-codex-002-msft_fewShot_top3cos_sep=[',', '', '[HEAD]', '']_results_pristine-unseen-tables.json\n",
      "Examples: 4344\n",
      "Correct: 2199\n",
      "Accuracy: 0.5062\n",
      "Reading dataset from ./dataset/WikiTableQuestions/tagged/data/training.tagged\n"
     ]
    },
    {
     "name": "stdout",
     "output_type": "stream",
     "text": [
      "Read from:  ./dataset/WikiTableQuestions/results/GptAnswer_davinci-codex-002-msft_fewShot_top3cos_sep=[',', '', '[HEAD]', '[ROW]', True]_results_pristine-unseen-tables.json\n"
     ]
    },
    {
     "name": "stderr",
     "output_type": "stream",
     "text": [
      "Reading dataset from ./dataset/WikiTableQuestions/tagged/data/pristine-seen-tables.tagged\n",
      "Reading dataset from ./dataset/WikiTableQuestions/tagged/data/pristine-unseen-tables.tagged\n",
      "Read 22033 examples\n",
      "Reading predictions from ./dataset/WikiTableQuestions/results/GptAnswer_davinci-codex-002-msft_fewShot_top3cos_sep=[',', '', '[HEAD]', '[ROW]', True]_results_pristine-unseen-tables.json\n",
      "Examples: 4344\n",
      "Correct: 2009\n",
      "Accuracy: 0.4625\n",
      "Reading dataset from ./dataset/WikiTableQuestions/tagged/data/training.tagged\n"
     ]
    },
    {
     "name": "stdout",
     "output_type": "stream",
     "text": [
      "Read from:  ./dataset/WikiTableQuestions/results/GptAnswer_davinci-codex-002-msft_fewShot_top3cos_sep=[',', '', '[HEAD]', '[ROW]']_results_pristine-unseen-tables.json\n"
     ]
    },
    {
     "name": "stderr",
     "output_type": "stream",
     "text": [
      "Reading dataset from ./dataset/WikiTableQuestions/tagged/data/pristine-seen-tables.tagged\n",
      "Reading dataset from ./dataset/WikiTableQuestions/tagged/data/pristine-unseen-tables.tagged\n",
      "Read 22033 examples\n",
      "Reading predictions from ./dataset/WikiTableQuestions/results/GptAnswer_davinci-codex-002-msft_fewShot_top3cos_sep=[',', '', '[HEAD]', '[ROW]']_results_pristine-unseen-tables.json\n",
      "Examples: 4344\n",
      "Correct: 2238\n",
      "Accuracy: 0.5152\n",
      "Reading dataset from ./dataset/WikiTableQuestions/tagged/data/training.tagged\n"
     ]
    },
    {
     "name": "stdout",
     "output_type": "stream",
     "text": [
      "Read from:  ./dataset/WikiTableQuestions/results/GptAnswer_davinci-codex-002-msft_fewShot_top3cos_sep=['|', '-', '', '', True]_results_pristine-unseen-tables.json\n"
     ]
    },
    {
     "name": "stderr",
     "output_type": "stream",
     "text": [
      "Reading dataset from ./dataset/WikiTableQuestions/tagged/data/pristine-seen-tables.tagged\n",
      "Reading dataset from ./dataset/WikiTableQuestions/tagged/data/pristine-unseen-tables.tagged\n",
      "Read 22033 examples\n",
      "Reading predictions from ./dataset/WikiTableQuestions/results/GptAnswer_davinci-codex-002-msft_fewShot_top3cos_sep=['|', '-', '', '', True]_results_pristine-unseen-tables.json\n",
      "Examples: 4344\n",
      "Correct: 2051\n",
      "Accuracy: 0.4721\n",
      "Reading dataset from ./dataset/WikiTableQuestions/tagged/data/training.tagged\n"
     ]
    },
    {
     "name": "stdout",
     "output_type": "stream",
     "text": [
      "Read from:  ./dataset/WikiTableQuestions/results/GptAnswer_davinci-codex-002-msft_fewShot_top3cos_sep=['|', '-', '', '']_results_pristine-unseen-tables.json\n"
     ]
    },
    {
     "name": "stderr",
     "output_type": "stream",
     "text": [
      "Reading dataset from ./dataset/WikiTableQuestions/tagged/data/pristine-seen-tables.tagged\n",
      "Reading dataset from ./dataset/WikiTableQuestions/tagged/data/pristine-unseen-tables.tagged\n",
      "Read 22033 examples\n",
      "Reading predictions from ./dataset/WikiTableQuestions/results/GptAnswer_davinci-codex-002-msft_fewShot_top3cos_sep=['|', '-', '', '']_results_pristine-unseen-tables.json\n",
      "Examples: 4344\n",
      "Correct: 2236\n",
      "Accuracy: 0.5147\n",
      "Reading dataset from ./dataset/WikiTableQuestions/tagged/data/training.tagged\n"
     ]
    },
    {
     "name": "stdout",
     "output_type": "stream",
     "text": [
      "Read from:  ./dataset/WikiTableQuestions/results/GptAnswer_davinci-codex-002-msft_fewShot_top3cos_sep=['|', '-', '', '[ROW]', True]_results_pristine-unseen-tables.json\n"
     ]
    },
    {
     "name": "stderr",
     "output_type": "stream",
     "text": [
      "Reading dataset from ./dataset/WikiTableQuestions/tagged/data/pristine-seen-tables.tagged\n",
      "Reading dataset from ./dataset/WikiTableQuestions/tagged/data/pristine-unseen-tables.tagged\n",
      "Read 22033 examples\n",
      "Reading predictions from ./dataset/WikiTableQuestions/results/GptAnswer_davinci-codex-002-msft_fewShot_top3cos_sep=['|', '-', '', '[ROW]', True]_results_pristine-unseen-tables.json\n",
      "Examples: 4344\n",
      "Correct: 2010\n",
      "Accuracy: 0.4627\n",
      "Reading dataset from ./dataset/WikiTableQuestions/tagged/data/training.tagged\n"
     ]
    },
    {
     "name": "stdout",
     "output_type": "stream",
     "text": [
      "Read from:  ./dataset/WikiTableQuestions/results/GptAnswer_davinci-codex-002-msft_fewShot_top3cos_sep=['|', '-', '', '[ROW]']_results_pristine-unseen-tables.json\n"
     ]
    },
    {
     "name": "stderr",
     "output_type": "stream",
     "text": [
      "Reading dataset from ./dataset/WikiTableQuestions/tagged/data/pristine-seen-tables.tagged\n",
      "Reading dataset from ./dataset/WikiTableQuestions/tagged/data/pristine-unseen-tables.tagged\n",
      "Read 22033 examples\n",
      "Reading predictions from ./dataset/WikiTableQuestions/results/GptAnswer_davinci-codex-002-msft_fewShot_top3cos_sep=['|', '-', '', '[ROW]']_results_pristine-unseen-tables.json\n",
      "Examples: 4344\n",
      "Correct: 2254\n",
      "Accuracy: 0.5189\n",
      "Reading dataset from ./dataset/WikiTableQuestions/tagged/data/training.tagged\n"
     ]
    },
    {
     "name": "stdout",
     "output_type": "stream",
     "text": [
      "Read from:  ./dataset/WikiTableQuestions/results/GptAnswer_davinci-codex-002-msft_fewShot_top3cos_sep=['|', '-', '[HEAD]', '', True]_results_pristine-unseen-tables.json\n"
     ]
    },
    {
     "name": "stderr",
     "output_type": "stream",
     "text": [
      "Reading dataset from ./dataset/WikiTableQuestions/tagged/data/pristine-seen-tables.tagged\n",
      "Reading dataset from ./dataset/WikiTableQuestions/tagged/data/pristine-unseen-tables.tagged\n",
      "Read 22033 examples\n",
      "Reading predictions from ./dataset/WikiTableQuestions/results/GptAnswer_davinci-codex-002-msft_fewShot_top3cos_sep=['|', '-', '[HEAD]', '', True]_results_pristine-unseen-tables.json\n",
      "Examples: 4344\n",
      "Correct: 2059\n",
      "Accuracy: 0.474\n",
      "Reading dataset from ./dataset/WikiTableQuestions/tagged/data/training.tagged\n"
     ]
    },
    {
     "name": "stdout",
     "output_type": "stream",
     "text": [
      "Read from:  ./dataset/WikiTableQuestions/results/GptAnswer_davinci-codex-002-msft_fewShot_top3cos_sep=['|', '-', '[HEAD]', '']_results_pristine-unseen-tables.json\n"
     ]
    },
    {
     "name": "stderr",
     "output_type": "stream",
     "text": [
      "Reading dataset from ./dataset/WikiTableQuestions/tagged/data/pristine-seen-tables.tagged\n",
      "Reading dataset from ./dataset/WikiTableQuestions/tagged/data/pristine-unseen-tables.tagged\n",
      "Read 22033 examples\n",
      "Reading predictions from ./dataset/WikiTableQuestions/results/GptAnswer_davinci-codex-002-msft_fewShot_top3cos_sep=['|', '-', '[HEAD]', '']_results_pristine-unseen-tables.json\n",
      "Examples: 4344\n",
      "Correct: 2231\n",
      "Accuracy: 0.5136\n",
      "Reading dataset from ./dataset/WikiTableQuestions/tagged/data/training.tagged\n"
     ]
    },
    {
     "name": "stdout",
     "output_type": "stream",
     "text": [
      "Read from:  ./dataset/WikiTableQuestions/results/GptAnswer_davinci-codex-002-msft_fewShot_top3cos_sep=['|', '-', '[HEAD]', '[ROW]', True]_results_pristine-unseen-tables.json\n"
     ]
    },
    {
     "name": "stderr",
     "output_type": "stream",
     "text": [
      "Reading dataset from ./dataset/WikiTableQuestions/tagged/data/pristine-seen-tables.tagged\n",
      "Reading dataset from ./dataset/WikiTableQuestions/tagged/data/pristine-unseen-tables.tagged\n",
      "Read 22033 examples\n",
      "Reading predictions from ./dataset/WikiTableQuestions/results/GptAnswer_davinci-codex-002-msft_fewShot_top3cos_sep=['|', '-', '[HEAD]', '[ROW]', True]_results_pristine-unseen-tables.json\n",
      "Examples: 4344\n",
      "Correct: 1996\n",
      "Accuracy: 0.4595\n",
      "Reading dataset from ./dataset/WikiTableQuestions/tagged/data/training.tagged\n"
     ]
    },
    {
     "name": "stdout",
     "output_type": "stream",
     "text": [
      "Read from:  ./dataset/WikiTableQuestions/results/GptAnswer_davinci-codex-002-msft_fewShot_top3cos_sep=['|', '-', '[HEAD]', '[ROW]']_results_pristine-unseen-tables.json\n"
     ]
    },
    {
     "name": "stderr",
     "output_type": "stream",
     "text": [
      "Reading dataset from ./dataset/WikiTableQuestions/tagged/data/pristine-seen-tables.tagged\n",
      "Reading dataset from ./dataset/WikiTableQuestions/tagged/data/pristine-unseen-tables.tagged\n",
      "Read 22033 examples\n",
      "Reading predictions from ./dataset/WikiTableQuestions/results/GptAnswer_davinci-codex-002-msft_fewShot_top3cos_sep=['|', '-', '[HEAD]', '[ROW]']_results_pristine-unseen-tables.json\n",
      "Examples: 4344\n",
      "Correct: 2265\n",
      "Accuracy: 0.5214\n",
      "Reading dataset from ./dataset/WikiTableQuestions/tagged/data/training.tagged\n"
     ]
    },
    {
     "name": "stdout",
     "output_type": "stream",
     "text": [
      "Read from:  ./dataset/WikiTableQuestions/results/GptAnswer_davinci-codex-002-msft_fewShot_top3cos_sep=['|', '', '', '', True]_results_pristine-unseen-tables.json\n"
     ]
    },
    {
     "name": "stderr",
     "output_type": "stream",
     "text": [
      "Reading dataset from ./dataset/WikiTableQuestions/tagged/data/pristine-seen-tables.tagged\n",
      "Reading dataset from ./dataset/WikiTableQuestions/tagged/data/pristine-unseen-tables.tagged\n",
      "Read 22033 examples\n",
      "Reading predictions from ./dataset/WikiTableQuestions/results/GptAnswer_davinci-codex-002-msft_fewShot_top3cos_sep=['|', '', '', '', True]_results_pristine-unseen-tables.json\n",
      "Examples: 4344\n",
      "Correct: 2073\n",
      "Accuracy: 0.4772\n",
      "Reading dataset from ./dataset/WikiTableQuestions/tagged/data/training.tagged\n"
     ]
    },
    {
     "name": "stdout",
     "output_type": "stream",
     "text": [
      "Read from:  ./dataset/WikiTableQuestions/results/GptAnswer_davinci-codex-002-msft_fewShot_top3cos_sep=['|', '', '', '']_results_pristine-unseen-tables.json\n"
     ]
    },
    {
     "name": "stderr",
     "output_type": "stream",
     "text": [
      "Reading dataset from ./dataset/WikiTableQuestions/tagged/data/pristine-seen-tables.tagged\n",
      "Reading dataset from ./dataset/WikiTableQuestions/tagged/data/pristine-unseen-tables.tagged\n",
      "Read 22033 examples\n",
      "Reading predictions from ./dataset/WikiTableQuestions/results/GptAnswer_davinci-codex-002-msft_fewShot_top3cos_sep=['|', '', '', '']_results_pristine-unseen-tables.json\n",
      "Examples: 4344\n",
      "Correct: 2254\n",
      "Accuracy: 0.5189\n",
      "Reading dataset from ./dataset/WikiTableQuestions/tagged/data/training.tagged\n"
     ]
    },
    {
     "name": "stdout",
     "output_type": "stream",
     "text": [
      "Read from:  ./dataset/WikiTableQuestions/results/GptAnswer_davinci-codex-002-msft_fewShot_top3cos_sep=['|', '', '', '[ROW]', True]_results_pristine-unseen-tables.json\n"
     ]
    },
    {
     "name": "stderr",
     "output_type": "stream",
     "text": [
      "Reading dataset from ./dataset/WikiTableQuestions/tagged/data/pristine-seen-tables.tagged\n",
      "Reading dataset from ./dataset/WikiTableQuestions/tagged/data/pristine-unseen-tables.tagged\n",
      "Read 22033 examples\n",
      "Reading predictions from ./dataset/WikiTableQuestions/results/GptAnswer_davinci-codex-002-msft_fewShot_top3cos_sep=['|', '', '', '[ROW]', True]_results_pristine-unseen-tables.json\n",
      "Examples: 4344\n",
      "Correct: 2028\n",
      "Accuracy: 0.4669\n",
      "Reading dataset from ./dataset/WikiTableQuestions/tagged/data/training.tagged\n"
     ]
    },
    {
     "name": "stdout",
     "output_type": "stream",
     "text": [
      "Read from:  ./dataset/WikiTableQuestions/results/GptAnswer_davinci-codex-002-msft_fewShot_top3cos_sep=['|', '', '', '[ROW]']_results_pristine-unseen-tables.json\n"
     ]
    },
    {
     "name": "stderr",
     "output_type": "stream",
     "text": [
      "Reading dataset from ./dataset/WikiTableQuestions/tagged/data/pristine-seen-tables.tagged\n",
      "Reading dataset from ./dataset/WikiTableQuestions/tagged/data/pristine-unseen-tables.tagged\n",
      "Read 22033 examples\n",
      "Reading predictions from ./dataset/WikiTableQuestions/results/GptAnswer_davinci-codex-002-msft_fewShot_top3cos_sep=['|', '', '', '[ROW]']_results_pristine-unseen-tables.json\n",
      "Examples: 4344\n",
      "Correct: 2220\n",
      "Accuracy: 0.511\n",
      "Reading dataset from ./dataset/WikiTableQuestions/tagged/data/training.tagged\n"
     ]
    },
    {
     "name": "stdout",
     "output_type": "stream",
     "text": [
      "Read from:  ./dataset/WikiTableQuestions/results/GptAnswer_davinci-codex-002-msft_fewShot_top3cos_sep=['|', '', '[HEAD]', '', True]_results_pristine-unseen-tables.json\n"
     ]
    },
    {
     "name": "stderr",
     "output_type": "stream",
     "text": [
      "Reading dataset from ./dataset/WikiTableQuestions/tagged/data/pristine-seen-tables.tagged\n",
      "Reading dataset from ./dataset/WikiTableQuestions/tagged/data/pristine-unseen-tables.tagged\n",
      "Read 22033 examples\n",
      "Reading predictions from ./dataset/WikiTableQuestions/results/GptAnswer_davinci-codex-002-msft_fewShot_top3cos_sep=['|', '', '[HEAD]', '', True]_results_pristine-unseen-tables.json\n",
      "Examples: 4344\n",
      "Correct: 2090\n",
      "Accuracy: 0.4811\n",
      "Reading dataset from ./dataset/WikiTableQuestions/tagged/data/training.tagged\n"
     ]
    },
    {
     "name": "stdout",
     "output_type": "stream",
     "text": [
      "Read from:  ./dataset/WikiTableQuestions/results/GptAnswer_davinci-codex-002-msft_fewShot_top3cos_sep=['|', '', '[HEAD]', '']_results_pristine-unseen-tables.json\n"
     ]
    },
    {
     "name": "stderr",
     "output_type": "stream",
     "text": [
      "Reading dataset from ./dataset/WikiTableQuestions/tagged/data/pristine-seen-tables.tagged\n",
      "Reading dataset from ./dataset/WikiTableQuestions/tagged/data/pristine-unseen-tables.tagged\n",
      "Read 22033 examples\n",
      "Reading predictions from ./dataset/WikiTableQuestions/results/GptAnswer_davinci-codex-002-msft_fewShot_top3cos_sep=['|', '', '[HEAD]', '']_results_pristine-unseen-tables.json\n",
      "Examples: 4344\n",
      "Correct: 2242\n",
      "Accuracy: 0.5161\n",
      "Reading dataset from ./dataset/WikiTableQuestions/tagged/data/training.tagged\n"
     ]
    },
    {
     "name": "stdout",
     "output_type": "stream",
     "text": [
      "Read from:  ./dataset/WikiTableQuestions/results/GptAnswer_davinci-codex-002-msft_fewShot_top3cos_sep=['|', '', '[HEAD]', '[ROW]', True]_results_pristine-unseen-tables.json\n"
     ]
    },
    {
     "name": "stderr",
     "output_type": "stream",
     "text": [
      "Reading dataset from ./dataset/WikiTableQuestions/tagged/data/pristine-seen-tables.tagged\n",
      "Reading dataset from ./dataset/WikiTableQuestions/tagged/data/pristine-unseen-tables.tagged\n",
      "Read 22033 examples\n",
      "Reading predictions from ./dataset/WikiTableQuestions/results/GptAnswer_davinci-codex-002-msft_fewShot_top3cos_sep=['|', '', '[HEAD]', '[ROW]', True]_results_pristine-unseen-tables.json\n",
      "Examples: 4344\n",
      "Correct: 2006\n",
      "Accuracy: 0.4618\n",
      "Reading dataset from ./dataset/WikiTableQuestions/tagged/data/training.tagged\n"
     ]
    },
    {
     "name": "stdout",
     "output_type": "stream",
     "text": [
      "Read from:  ./dataset/WikiTableQuestions/results/GptAnswer_davinci-codex-002-msft_fewShot_top3cos_sep=['|', '', '[HEAD]', '[ROW]']_results_pristine-unseen-tables.json\n"
     ]
    },
    {
     "name": "stderr",
     "output_type": "stream",
     "text": [
      "Reading dataset from ./dataset/WikiTableQuestions/tagged/data/pristine-seen-tables.tagged\n",
      "Reading dataset from ./dataset/WikiTableQuestions/tagged/data/pristine-unseen-tables.tagged\n",
      "Read 22033 examples\n",
      "Reading predictions from ./dataset/WikiTableQuestions/results/GptAnswer_davinci-codex-002-msft_fewShot_top3cos_sep=['|', '', '[HEAD]', '[ROW]']_results_pristine-unseen-tables.json\n",
      "Examples: 4344\n",
      "Correct: 2246\n",
      "Accuracy: 0.517\n",
      "Reading dataset from ./dataset/WikiTableQuestions/tagged/data/training.tagged\n"
     ]
    },
    {
     "name": "stdout",
     "output_type": "stream",
     "text": [
      "Read from:  ./dataset/WikiTableQuestions/results/GptAnswer_davinci-codex-002-msft_fewShot_top3cos_sep=['t', '-', '', '', True]_results_pristine-unseen-tables.json\n"
     ]
    },
    {
     "name": "stderr",
     "output_type": "stream",
     "text": [
      "Reading dataset from ./dataset/WikiTableQuestions/tagged/data/pristine-seen-tables.tagged\n",
      "Reading dataset from ./dataset/WikiTableQuestions/tagged/data/pristine-unseen-tables.tagged\n",
      "Read 22033 examples\n",
      "Reading predictions from ./dataset/WikiTableQuestions/results/GptAnswer_davinci-codex-002-msft_fewShot_top3cos_sep=['t', '-', '', '', True]_results_pristine-unseen-tables.json\n",
      "Examples: 4344\n",
      "Correct: 2061\n",
      "Accuracy: 0.4744\n",
      "Reading dataset from ./dataset/WikiTableQuestions/tagged/data/training.tagged\n"
     ]
    },
    {
     "name": "stdout",
     "output_type": "stream",
     "text": [
      "Read from:  ./dataset/WikiTableQuestions/results/GptAnswer_davinci-codex-002-msft_fewShot_top3cos_sep=['t', '-', '', '']_results_pristine-unseen-tables.json\n"
     ]
    },
    {
     "name": "stderr",
     "output_type": "stream",
     "text": [
      "Reading dataset from ./dataset/WikiTableQuestions/tagged/data/pristine-seen-tables.tagged\n",
      "Reading dataset from ./dataset/WikiTableQuestions/tagged/data/pristine-unseen-tables.tagged\n",
      "Read 22033 examples\n",
      "Reading predictions from ./dataset/WikiTableQuestions/results/GptAnswer_davinci-codex-002-msft_fewShot_top3cos_sep=['t', '-', '', '']_results_pristine-unseen-tables.json\n",
      "Examples: 4344\n",
      "Correct: 2221\n",
      "Accuracy: 0.5113\n",
      "Reading dataset from ./dataset/WikiTableQuestions/tagged/data/training.tagged\n"
     ]
    },
    {
     "name": "stdout",
     "output_type": "stream",
     "text": [
      "Read from:  ./dataset/WikiTableQuestions/results/GptAnswer_davinci-codex-002-msft_fewShot_top3cos_sep=['t', '-', '', '[ROW]', True]_results_pristine-unseen-tables.json\n"
     ]
    },
    {
     "name": "stderr",
     "output_type": "stream",
     "text": [
      "Reading dataset from ./dataset/WikiTableQuestions/tagged/data/pristine-seen-tables.tagged\n",
      "Reading dataset from ./dataset/WikiTableQuestions/tagged/data/pristine-unseen-tables.tagged\n",
      "Read 22033 examples\n",
      "Reading predictions from ./dataset/WikiTableQuestions/results/GptAnswer_davinci-codex-002-msft_fewShot_top3cos_sep=['t', '-', '', '[ROW]', True]_results_pristine-unseen-tables.json\n",
      "Examples: 4344\n",
      "Correct: 2006\n",
      "Accuracy: 0.4618\n",
      "Reading dataset from ./dataset/WikiTableQuestions/tagged/data/training.tagged\n"
     ]
    },
    {
     "name": "stdout",
     "output_type": "stream",
     "text": [
      "Read from:  ./dataset/WikiTableQuestions/results/GptAnswer_davinci-codex-002-msft_fewShot_top3cos_sep=['t', '-', '', '[ROW]']_results_pristine-unseen-tables.json\n"
     ]
    },
    {
     "name": "stderr",
     "output_type": "stream",
     "text": [
      "Reading dataset from ./dataset/WikiTableQuestions/tagged/data/pristine-seen-tables.tagged\n",
      "Reading dataset from ./dataset/WikiTableQuestions/tagged/data/pristine-unseen-tables.tagged\n",
      "Read 22033 examples\n",
      "Reading predictions from ./dataset/WikiTableQuestions/results/GptAnswer_davinci-codex-002-msft_fewShot_top3cos_sep=['t', '-', '', '[ROW]']_results_pristine-unseen-tables.json\n",
      "Examples: 4344\n",
      "Correct: 2242\n",
      "Accuracy: 0.5161\n",
      "Reading dataset from ./dataset/WikiTableQuestions/tagged/data/training.tagged\n"
     ]
    },
    {
     "name": "stdout",
     "output_type": "stream",
     "text": [
      "Read from:  ./dataset/WikiTableQuestions/results/GptAnswer_davinci-codex-002-msft_fewShot_top3cos_sep=['t', '-', '[HEAD]', '', True]_results_pristine-unseen-tables.json\n"
     ]
    },
    {
     "name": "stderr",
     "output_type": "stream",
     "text": [
      "Reading dataset from ./dataset/WikiTableQuestions/tagged/data/pristine-seen-tables.tagged\n",
      "Reading dataset from ./dataset/WikiTableQuestions/tagged/data/pristine-unseen-tables.tagged\n",
      "Read 22033 examples\n",
      "Reading predictions from ./dataset/WikiTableQuestions/results/GptAnswer_davinci-codex-002-msft_fewShot_top3cos_sep=['t', '-', '[HEAD]', '', True]_results_pristine-unseen-tables.json\n",
      "Examples: 4344\n",
      "Correct: 2059\n",
      "Accuracy: 0.474\n",
      "Reading dataset from ./dataset/WikiTableQuestions/tagged/data/training.tagged\n"
     ]
    },
    {
     "name": "stdout",
     "output_type": "stream",
     "text": [
      "Read from:  ./dataset/WikiTableQuestions/results/GptAnswer_davinci-codex-002-msft_fewShot_top3cos_sep=['t', '-', '[HEAD]', '']_results_pristine-unseen-tables.json\n"
     ]
    },
    {
     "name": "stderr",
     "output_type": "stream",
     "text": [
      "Reading dataset from ./dataset/WikiTableQuestions/tagged/data/pristine-seen-tables.tagged\n",
      "Reading dataset from ./dataset/WikiTableQuestions/tagged/data/pristine-unseen-tables.tagged\n",
      "Read 22033 examples\n",
      "Reading predictions from ./dataset/WikiTableQuestions/results/GptAnswer_davinci-codex-002-msft_fewShot_top3cos_sep=['t', '-', '[HEAD]', '']_results_pristine-unseen-tables.json\n",
      "Examples: 4344\n",
      "Correct: 2235\n",
      "Accuracy: 0.5145\n",
      "Reading dataset from ./dataset/WikiTableQuestions/tagged/data/training.tagged\n"
     ]
    },
    {
     "name": "stdout",
     "output_type": "stream",
     "text": [
      "Read from:  ./dataset/WikiTableQuestions/results/GptAnswer_davinci-codex-002-msft_fewShot_top3cos_sep=['t', '-', '[HEAD]', '[ROW]', True]_results_pristine-unseen-tables.json\n"
     ]
    },
    {
     "name": "stderr",
     "output_type": "stream",
     "text": [
      "Reading dataset from ./dataset/WikiTableQuestions/tagged/data/pristine-seen-tables.tagged\n",
      "Reading dataset from ./dataset/WikiTableQuestions/tagged/data/pristine-unseen-tables.tagged\n",
      "Read 22033 examples\n",
      "Reading predictions from ./dataset/WikiTableQuestions/results/GptAnswer_davinci-codex-002-msft_fewShot_top3cos_sep=['t', '-', '[HEAD]', '[ROW]', True]_results_pristine-unseen-tables.json\n",
      "Examples: 4344\n",
      "Correct: 2008\n",
      "Accuracy: 0.4622\n",
      "Reading dataset from ./dataset/WikiTableQuestions/tagged/data/training.tagged\n"
     ]
    },
    {
     "name": "stdout",
     "output_type": "stream",
     "text": [
      "Read from:  ./dataset/WikiTableQuestions/results/GptAnswer_davinci-codex-002-msft_fewShot_top3cos_sep=['t', '-', '[HEAD]', '[ROW]']_results_pristine-unseen-tables.json\n"
     ]
    },
    {
     "name": "stderr",
     "output_type": "stream",
     "text": [
      "Reading dataset from ./dataset/WikiTableQuestions/tagged/data/pristine-seen-tables.tagged\n",
      "Reading dataset from ./dataset/WikiTableQuestions/tagged/data/pristine-unseen-tables.tagged\n",
      "Read 22033 examples\n",
      "Reading predictions from ./dataset/WikiTableQuestions/results/GptAnswer_davinci-codex-002-msft_fewShot_top3cos_sep=['t', '-', '[HEAD]', '[ROW]']_results_pristine-unseen-tables.json\n",
      "Examples: 4344\n",
      "Correct: 2242\n",
      "Accuracy: 0.5161\n",
      "Reading dataset from ./dataset/WikiTableQuestions/tagged/data/training.tagged\n"
     ]
    },
    {
     "name": "stdout",
     "output_type": "stream",
     "text": [
      "Read from:  ./dataset/WikiTableQuestions/results/GptAnswer_davinci-codex-002-msft_fewShot_top3cos_sep=['t', '', '', '', True]_results_pristine-unseen-tables.json\n"
     ]
    },
    {
     "name": "stderr",
     "output_type": "stream",
     "text": [
      "Reading dataset from ./dataset/WikiTableQuestions/tagged/data/pristine-seen-tables.tagged\n",
      "Reading dataset from ./dataset/WikiTableQuestions/tagged/data/pristine-unseen-tables.tagged\n",
      "Read 22033 examples\n",
      "Reading predictions from ./dataset/WikiTableQuestions/results/GptAnswer_davinci-codex-002-msft_fewShot_top3cos_sep=['t', '', '', '', True]_results_pristine-unseen-tables.json\n",
      "Examples: 4344\n",
      "Correct: 2044\n",
      "Accuracy: 0.4705\n",
      "Reading dataset from ./dataset/WikiTableQuestions/tagged/data/training.tagged\n"
     ]
    },
    {
     "name": "stdout",
     "output_type": "stream",
     "text": [
      "Read from:  ./dataset/WikiTableQuestions/results/GptAnswer_davinci-codex-002-msft_fewShot_top3cos_sep=['t', '', '', '']_results_pristine-unseen-tables.json\n"
     ]
    },
    {
     "name": "stderr",
     "output_type": "stream",
     "text": [
      "Reading dataset from ./dataset/WikiTableQuestions/tagged/data/pristine-seen-tables.tagged\n",
      "Reading dataset from ./dataset/WikiTableQuestions/tagged/data/pristine-unseen-tables.tagged\n",
      "Read 22033 examples\n",
      "Reading predictions from ./dataset/WikiTableQuestions/results/GptAnswer_davinci-codex-002-msft_fewShot_top3cos_sep=['t', '', '', '']_results_pristine-unseen-tables.json\n",
      "Examples: 4344\n",
      "Correct: 2249\n",
      "Accuracy: 0.5177\n",
      "Reading dataset from ./dataset/WikiTableQuestions/tagged/data/training.tagged\n"
     ]
    },
    {
     "name": "stdout",
     "output_type": "stream",
     "text": [
      "Read from:  ./dataset/WikiTableQuestions/results/GptAnswer_davinci-codex-002-msft_fewShot_top3cos_sep=['t', '', '', '[ROW]', True]_results_pristine-unseen-tables.json\n"
     ]
    },
    {
     "name": "stderr",
     "output_type": "stream",
     "text": [
      "Reading dataset from ./dataset/WikiTableQuestions/tagged/data/pristine-seen-tables.tagged\n",
      "Reading dataset from ./dataset/WikiTableQuestions/tagged/data/pristine-unseen-tables.tagged\n",
      "Read 22033 examples\n",
      "Reading predictions from ./dataset/WikiTableQuestions/results/GptAnswer_davinci-codex-002-msft_fewShot_top3cos_sep=['t', '', '', '[ROW]', True]_results_pristine-unseen-tables.json\n",
      "Examples: 4344\n",
      "Correct: 1998\n",
      "Accuracy: 0.4599\n",
      "Reading dataset from ./dataset/WikiTableQuestions/tagged/data/training.tagged\n"
     ]
    },
    {
     "name": "stdout",
     "output_type": "stream",
     "text": [
      "Read from:  ./dataset/WikiTableQuestions/results/GptAnswer_davinci-codex-002-msft_fewShot_top3cos_sep=['t', '', '', '[ROW]']_results_pristine-unseen-tables.json\n"
     ]
    },
    {
     "name": "stderr",
     "output_type": "stream",
     "text": [
      "Reading dataset from ./dataset/WikiTableQuestions/tagged/data/pristine-seen-tables.tagged\n",
      "Reading dataset from ./dataset/WikiTableQuestions/tagged/data/pristine-unseen-tables.tagged\n",
      "Read 22033 examples\n",
      "Reading predictions from ./dataset/WikiTableQuestions/results/GptAnswer_davinci-codex-002-msft_fewShot_top3cos_sep=['t', '', '', '[ROW]']_results_pristine-unseen-tables.json\n",
      "Examples: 4344\n",
      "Correct: 2249\n",
      "Accuracy: 0.5177\n",
      "Reading dataset from ./dataset/WikiTableQuestions/tagged/data/training.tagged\n"
     ]
    },
    {
     "name": "stdout",
     "output_type": "stream",
     "text": [
      "Read from:  ./dataset/WikiTableQuestions/results/GptAnswer_davinci-codex-002-msft_fewShot_top3cos_sep=['t', '', '[HEAD]', '', True]_results_pristine-unseen-tables.json\n"
     ]
    },
    {
     "name": "stderr",
     "output_type": "stream",
     "text": [
      "Reading dataset from ./dataset/WikiTableQuestions/tagged/data/pristine-seen-tables.tagged\n",
      "Reading dataset from ./dataset/WikiTableQuestions/tagged/data/pristine-unseen-tables.tagged\n",
      "Read 22033 examples\n",
      "Reading predictions from ./dataset/WikiTableQuestions/results/GptAnswer_davinci-codex-002-msft_fewShot_top3cos_sep=['t', '', '[HEAD]', '', True]_results_pristine-unseen-tables.json\n",
      "Examples: 4344\n",
      "Correct: 2080\n",
      "Accuracy: 0.4788\n",
      "Reading dataset from ./dataset/WikiTableQuestions/tagged/data/training.tagged\n"
     ]
    },
    {
     "name": "stdout",
     "output_type": "stream",
     "text": [
      "Read from:  ./dataset/WikiTableQuestions/results/GptAnswer_davinci-codex-002-msft_fewShot_top3cos_sep=['t', '', '[HEAD]', '']_results_pristine-unseen-tables.json\n"
     ]
    },
    {
     "name": "stderr",
     "output_type": "stream",
     "text": [
      "Reading dataset from ./dataset/WikiTableQuestions/tagged/data/pristine-seen-tables.tagged\n",
      "Reading dataset from ./dataset/WikiTableQuestions/tagged/data/pristine-unseen-tables.tagged\n",
      "Read 22033 examples\n",
      "Reading predictions from ./dataset/WikiTableQuestions/results/GptAnswer_davinci-codex-002-msft_fewShot_top3cos_sep=['t', '', '[HEAD]', '']_results_pristine-unseen-tables.json\n",
      "Examples: 4344\n",
      "Correct: 2231\n",
      "Accuracy: 0.5136\n",
      "Reading dataset from ./dataset/WikiTableQuestions/tagged/data/training.tagged\n"
     ]
    },
    {
     "name": "stdout",
     "output_type": "stream",
     "text": [
      "Read from:  ./dataset/WikiTableQuestions/results/GptAnswer_davinci-codex-002-msft_fewShot_top3cos_sep=['t', '', '[HEAD]', '[ROW]', True]_results_pristine-unseen-tables.json\n"
     ]
    },
    {
     "name": "stderr",
     "output_type": "stream",
     "text": [
      "Reading dataset from ./dataset/WikiTableQuestions/tagged/data/pristine-seen-tables.tagged\n",
      "Reading dataset from ./dataset/WikiTableQuestions/tagged/data/pristine-unseen-tables.tagged\n",
      "Read 22033 examples\n",
      "Reading predictions from ./dataset/WikiTableQuestions/results/GptAnswer_davinci-codex-002-msft_fewShot_top3cos_sep=['t', '', '[HEAD]', '[ROW]', True]_results_pristine-unseen-tables.json\n",
      "Examples: 4344\n",
      "Correct: 2001\n",
      "Accuracy: 0.4606\n",
      "Reading dataset from ./dataset/WikiTableQuestions/tagged/data/training.tagged\n"
     ]
    },
    {
     "name": "stdout",
     "output_type": "stream",
     "text": [
      "Read from:  ./dataset/WikiTableQuestions/results/GptAnswer_davinci-codex-002-msft_fewShot_top3cos_sep=['t', '', '[HEAD]', '[ROW]']_results_pristine-unseen-tables.json\n"
     ]
    },
    {
     "name": "stderr",
     "output_type": "stream",
     "text": [
      "Reading dataset from ./dataset/WikiTableQuestions/tagged/data/pristine-seen-tables.tagged\n",
      "Reading dataset from ./dataset/WikiTableQuestions/tagged/data/pristine-unseen-tables.tagged\n",
      "Read 22033 examples\n",
      "Reading predictions from ./dataset/WikiTableQuestions/results/GptAnswer_davinci-codex-002-msft_fewShot_top3cos_sep=['t', '', '[HEAD]', '[ROW]']_results_pristine-unseen-tables.json\n",
      "Examples: 4344\n",
      "Correct: 2246\n",
      "Accuracy: 0.517\n"
     ]
    }
   ],
   "source": [
    "import subprocess\n",
    "\n",
    "from io import StringIO\n",
    "import sys\n",
    "mystdout = StringIO()\n",
    "\n",
    "for sep in all_table_formats['seperators']:\n",
    "    for col_data_split in all_table_formats['col_data_splits']:\n",
    "        for col_prefix in all_table_formats['col_prefixs']:\n",
    "            for row_prefix in all_table_formats['row_prefixs']:\n",
    "                for key_val_pairs in [True, False]:\n",
    "                # for key_val_pairs in [True]:\n",
    "                    table_format = {\n",
    "                        'seperator': sep,\n",
    "                        'col_data_split': col_data_split,\n",
    "                        'col_prefix' : col_prefix,\n",
    "                        'row_prefix' : row_prefix, \n",
    "                        'key_val_pairs': key_val_pairs\n",
    "                    }\n",
    "                    if key_val_pairs:\n",
    "                        arr = [sep.replace('\\t', 't'), col_data_split, col_prefix, row_prefix, key_val_pairs]\n",
    "                    else:\n",
    "                        arr = [sep.replace('\\t', 't'), col_data_split, col_prefix, row_prefix]\n",
    "                        \n",
    "                    dump_json_file_name = f'./dataset/WikiTableQuestions/results/GptAnswer_{model}_fewShot_top3cos_sep={arr}_results_pristine-unseen-tables.json'\n",
    "                    print(\"Read from: \", dump_json_file_name)\n",
    "                    out = subprocess.check_output(\n",
    "                        ['python2', './dataset/WikiTableQuestions/evaluator.py', \n",
    "                         '-t', './dataset/WikiTableQuestions/tagged/data/',  \n",
    "                         f'{dump_json_file_name}']\n",
    "                    ).decode('utf-8')\n",
    "                    "
   ]
  },
  {
   "cell_type": "code",
   "execution_count": 11,
   "id": "b52ea2d6-3619-47a5-b3ee-6d68a4ff7468",
   "metadata": {},
   "outputs": [
    {
     "data": {
      "text/plain": [
       "''"
      ]
     },
     "execution_count": 11,
     "metadata": {},
     "output_type": "execute_result"
    }
   ],
   "source": [
    "out"
   ]
  },
  {
   "cell_type": "code",
   "execution_count": null,
   "id": "4af46cc3-68b4-42a0-9e72-cc169b4b463a",
   "metadata": {},
   "outputs": [],
   "source": []
  },
  {
   "cell_type": "code",
   "execution_count": 4,
   "id": "a0a34123-f4d7-4377-9b42-4813bb4bf55c",
   "metadata": {},
   "outputs": [
    {
     "ename": "APIConnectionError",
     "evalue": "Error communicating with OpenAI",
     "output_type": "error",
     "traceback": [
      "\u001b[0;31m---------------------------------------------------------------------------\u001b[0m",
      "\u001b[0;31mtimeout\u001b[0m                                   Traceback (most recent call last)",
      "File \u001b[0;32m/usr/local/lib/python3.8/dist-packages/urllib3/connectionpool.py:445\u001b[0m, in \u001b[0;36mHTTPConnectionPool._make_request\u001b[0;34m(self, conn, method, url, timeout, chunked, **httplib_request_kw)\u001b[0m\n\u001b[1;32m    441\u001b[0m         \u001b[38;5;28;01mexcept\u001b[39;00m \u001b[38;5;167;01mBaseException\u001b[39;00m \u001b[38;5;28;01mas\u001b[39;00m e:\n\u001b[1;32m    442\u001b[0m             \u001b[38;5;66;03m# Remove the TypeError from the exception chain in\u001b[39;00m\n\u001b[1;32m    443\u001b[0m             \u001b[38;5;66;03m# Python 3 (including for exceptions like SystemExit).\u001b[39;00m\n\u001b[1;32m    444\u001b[0m             \u001b[38;5;66;03m# Otherwise it looks like a bug in the code.\u001b[39;00m\n\u001b[0;32m--> 445\u001b[0m             \u001b[43msix\u001b[49m\u001b[38;5;241;43m.\u001b[39;49m\u001b[43mraise_from\u001b[49m\u001b[43m(\u001b[49m\u001b[43me\u001b[49m\u001b[43m,\u001b[49m\u001b[43m \u001b[49m\u001b[38;5;28;43;01mNone\u001b[39;49;00m\u001b[43m)\u001b[49m\n\u001b[1;32m    446\u001b[0m \u001b[38;5;28;01mexcept\u001b[39;00m (SocketTimeout, BaseSSLError, SocketError) \u001b[38;5;28;01mas\u001b[39;00m e:\n",
      "File \u001b[0;32m<string>:3\u001b[0m, in \u001b[0;36mraise_from\u001b[0;34m(value, from_value)\u001b[0m\n",
      "File \u001b[0;32m/usr/local/lib/python3.8/dist-packages/urllib3/connectionpool.py:440\u001b[0m, in \u001b[0;36mHTTPConnectionPool._make_request\u001b[0;34m(self, conn, method, url, timeout, chunked, **httplib_request_kw)\u001b[0m\n\u001b[1;32m    439\u001b[0m \u001b[38;5;28;01mtry\u001b[39;00m:\n\u001b[0;32m--> 440\u001b[0m     httplib_response \u001b[38;5;241m=\u001b[39m \u001b[43mconn\u001b[49m\u001b[38;5;241;43m.\u001b[39;49m\u001b[43mgetresponse\u001b[49m\u001b[43m(\u001b[49m\u001b[43m)\u001b[49m\n\u001b[1;32m    441\u001b[0m \u001b[38;5;28;01mexcept\u001b[39;00m \u001b[38;5;167;01mBaseException\u001b[39;00m \u001b[38;5;28;01mas\u001b[39;00m e:\n\u001b[1;32m    442\u001b[0m     \u001b[38;5;66;03m# Remove the TypeError from the exception chain in\u001b[39;00m\n\u001b[1;32m    443\u001b[0m     \u001b[38;5;66;03m# Python 3 (including for exceptions like SystemExit).\u001b[39;00m\n\u001b[1;32m    444\u001b[0m     \u001b[38;5;66;03m# Otherwise it looks like a bug in the code.\u001b[39;00m\n",
      "File \u001b[0;32m/usr/lib/python3.8/http/client.py:1348\u001b[0m, in \u001b[0;36mHTTPConnection.getresponse\u001b[0;34m(self)\u001b[0m\n\u001b[1;32m   1347\u001b[0m \u001b[38;5;28;01mtry\u001b[39;00m:\n\u001b[0;32m-> 1348\u001b[0m     \u001b[43mresponse\u001b[49m\u001b[38;5;241;43m.\u001b[39;49m\u001b[43mbegin\u001b[49m\u001b[43m(\u001b[49m\u001b[43m)\u001b[49m\n\u001b[1;32m   1349\u001b[0m \u001b[38;5;28;01mexcept\u001b[39;00m \u001b[38;5;167;01mConnectionError\u001b[39;00m:\n",
      "File \u001b[0;32m/usr/lib/python3.8/http/client.py:316\u001b[0m, in \u001b[0;36mHTTPResponse.begin\u001b[0;34m(self)\u001b[0m\n\u001b[1;32m    315\u001b[0m \u001b[38;5;28;01mwhile\u001b[39;00m \u001b[38;5;28;01mTrue\u001b[39;00m:\n\u001b[0;32m--> 316\u001b[0m     version, status, reason \u001b[38;5;241m=\u001b[39m \u001b[38;5;28;43mself\u001b[39;49m\u001b[38;5;241;43m.\u001b[39;49m\u001b[43m_read_status\u001b[49m\u001b[43m(\u001b[49m\u001b[43m)\u001b[49m\n\u001b[1;32m    317\u001b[0m     \u001b[38;5;28;01mif\u001b[39;00m status \u001b[38;5;241m!=\u001b[39m CONTINUE:\n",
      "File \u001b[0;32m/usr/lib/python3.8/http/client.py:277\u001b[0m, in \u001b[0;36mHTTPResponse._read_status\u001b[0;34m(self)\u001b[0m\n\u001b[1;32m    276\u001b[0m \u001b[38;5;28;01mdef\u001b[39;00m \u001b[38;5;21m_read_status\u001b[39m(\u001b[38;5;28mself\u001b[39m):\n\u001b[0;32m--> 277\u001b[0m     line \u001b[38;5;241m=\u001b[39m \u001b[38;5;28mstr\u001b[39m(\u001b[38;5;28;43mself\u001b[39;49m\u001b[38;5;241;43m.\u001b[39;49m\u001b[43mfp\u001b[49m\u001b[38;5;241;43m.\u001b[39;49m\u001b[43mreadline\u001b[49m\u001b[43m(\u001b[49m\u001b[43m_MAXLINE\u001b[49m\u001b[43m \u001b[49m\u001b[38;5;241;43m+\u001b[39;49m\u001b[43m \u001b[49m\u001b[38;5;241;43m1\u001b[39;49m\u001b[43m)\u001b[49m, \u001b[38;5;124m\"\u001b[39m\u001b[38;5;124miso-8859-1\u001b[39m\u001b[38;5;124m\"\u001b[39m)\n\u001b[1;32m    278\u001b[0m     \u001b[38;5;28;01mif\u001b[39;00m \u001b[38;5;28mlen\u001b[39m(line) \u001b[38;5;241m>\u001b[39m _MAXLINE:\n",
      "File \u001b[0;32m/usr/lib/python3.8/socket.py:669\u001b[0m, in \u001b[0;36mSocketIO.readinto\u001b[0;34m(self, b)\u001b[0m\n\u001b[1;32m    668\u001b[0m \u001b[38;5;28;01mtry\u001b[39;00m:\n\u001b[0;32m--> 669\u001b[0m     \u001b[38;5;28;01mreturn\u001b[39;00m \u001b[38;5;28;43mself\u001b[39;49m\u001b[38;5;241;43m.\u001b[39;49m\u001b[43m_sock\u001b[49m\u001b[38;5;241;43m.\u001b[39;49m\u001b[43mrecv_into\u001b[49m\u001b[43m(\u001b[49m\u001b[43mb\u001b[49m\u001b[43m)\u001b[49m\n\u001b[1;32m    670\u001b[0m \u001b[38;5;28;01mexcept\u001b[39;00m timeout:\n",
      "File \u001b[0;32m/usr/lib/python3.8/ssl.py:1241\u001b[0m, in \u001b[0;36mSSLSocket.recv_into\u001b[0;34m(self, buffer, nbytes, flags)\u001b[0m\n\u001b[1;32m   1238\u001b[0m         \u001b[38;5;28;01mraise\u001b[39;00m \u001b[38;5;167;01mValueError\u001b[39;00m(\n\u001b[1;32m   1239\u001b[0m           \u001b[38;5;124m\"\u001b[39m\u001b[38;5;124mnon-zero flags not allowed in calls to recv_into() on \u001b[39m\u001b[38;5;132;01m%s\u001b[39;00m\u001b[38;5;124m\"\u001b[39m \u001b[38;5;241m%\u001b[39m\n\u001b[1;32m   1240\u001b[0m           \u001b[38;5;28mself\u001b[39m\u001b[38;5;241m.\u001b[39m\u001b[38;5;18m__class__\u001b[39m)\n\u001b[0;32m-> 1241\u001b[0m     \u001b[38;5;28;01mreturn\u001b[39;00m \u001b[38;5;28;43mself\u001b[39;49m\u001b[38;5;241;43m.\u001b[39;49m\u001b[43mread\u001b[49m\u001b[43m(\u001b[49m\u001b[43mnbytes\u001b[49m\u001b[43m,\u001b[49m\u001b[43m \u001b[49m\u001b[43mbuffer\u001b[49m\u001b[43m)\u001b[49m\n\u001b[1;32m   1242\u001b[0m \u001b[38;5;28;01melse\u001b[39;00m:\n",
      "File \u001b[0;32m/usr/lib/python3.8/ssl.py:1099\u001b[0m, in \u001b[0;36mSSLSocket.read\u001b[0;34m(self, len, buffer)\u001b[0m\n\u001b[1;32m   1098\u001b[0m \u001b[38;5;28;01mif\u001b[39;00m buffer \u001b[38;5;129;01mis\u001b[39;00m \u001b[38;5;129;01mnot\u001b[39;00m \u001b[38;5;28;01mNone\u001b[39;00m:\n\u001b[0;32m-> 1099\u001b[0m     \u001b[38;5;28;01mreturn\u001b[39;00m \u001b[38;5;28;43mself\u001b[39;49m\u001b[38;5;241;43m.\u001b[39;49m\u001b[43m_sslobj\u001b[49m\u001b[38;5;241;43m.\u001b[39;49m\u001b[43mread\u001b[49m\u001b[43m(\u001b[49m\u001b[38;5;28;43mlen\u001b[39;49m\u001b[43m,\u001b[49m\u001b[43m \u001b[49m\u001b[43mbuffer\u001b[49m\u001b[43m)\u001b[49m\n\u001b[1;32m   1100\u001b[0m \u001b[38;5;28;01melse\u001b[39;00m:\n",
      "\u001b[0;31mtimeout\u001b[0m: The read operation timed out",
      "\nDuring handling of the above exception, another exception occurred:\n",
      "\u001b[0;31mReadTimeoutError\u001b[0m                          Traceback (most recent call last)",
      "File \u001b[0;32m/usr/local/lib/python3.8/dist-packages/requests/adapters.py:440\u001b[0m, in \u001b[0;36mHTTPAdapter.send\u001b[0;34m(self, request, stream, timeout, verify, cert, proxies)\u001b[0m\n\u001b[1;32m    439\u001b[0m \u001b[38;5;28;01mif\u001b[39;00m \u001b[38;5;129;01mnot\u001b[39;00m chunked:\n\u001b[0;32m--> 440\u001b[0m     resp \u001b[38;5;241m=\u001b[39m \u001b[43mconn\u001b[49m\u001b[38;5;241;43m.\u001b[39;49m\u001b[43murlopen\u001b[49m\u001b[43m(\u001b[49m\n\u001b[1;32m    441\u001b[0m \u001b[43m        \u001b[49m\u001b[43mmethod\u001b[49m\u001b[38;5;241;43m=\u001b[39;49m\u001b[43mrequest\u001b[49m\u001b[38;5;241;43m.\u001b[39;49m\u001b[43mmethod\u001b[49m\u001b[43m,\u001b[49m\n\u001b[1;32m    442\u001b[0m \u001b[43m        \u001b[49m\u001b[43murl\u001b[49m\u001b[38;5;241;43m=\u001b[39;49m\u001b[43murl\u001b[49m\u001b[43m,\u001b[49m\n\u001b[1;32m    443\u001b[0m \u001b[43m        \u001b[49m\u001b[43mbody\u001b[49m\u001b[38;5;241;43m=\u001b[39;49m\u001b[43mrequest\u001b[49m\u001b[38;5;241;43m.\u001b[39;49m\u001b[43mbody\u001b[49m\u001b[43m,\u001b[49m\n\u001b[1;32m    444\u001b[0m \u001b[43m        \u001b[49m\u001b[43mheaders\u001b[49m\u001b[38;5;241;43m=\u001b[39;49m\u001b[43mrequest\u001b[49m\u001b[38;5;241;43m.\u001b[39;49m\u001b[43mheaders\u001b[49m\u001b[43m,\u001b[49m\n\u001b[1;32m    445\u001b[0m \u001b[43m        \u001b[49m\u001b[43mredirect\u001b[49m\u001b[38;5;241;43m=\u001b[39;49m\u001b[38;5;28;43;01mFalse\u001b[39;49;00m\u001b[43m,\u001b[49m\n\u001b[1;32m    446\u001b[0m \u001b[43m        \u001b[49m\u001b[43massert_same_host\u001b[49m\u001b[38;5;241;43m=\u001b[39;49m\u001b[38;5;28;43;01mFalse\u001b[39;49;00m\u001b[43m,\u001b[49m\n\u001b[1;32m    447\u001b[0m \u001b[43m        \u001b[49m\u001b[43mpreload_content\u001b[49m\u001b[38;5;241;43m=\u001b[39;49m\u001b[38;5;28;43;01mFalse\u001b[39;49;00m\u001b[43m,\u001b[49m\n\u001b[1;32m    448\u001b[0m \u001b[43m        \u001b[49m\u001b[43mdecode_content\u001b[49m\u001b[38;5;241;43m=\u001b[39;49m\u001b[38;5;28;43;01mFalse\u001b[39;49;00m\u001b[43m,\u001b[49m\n\u001b[1;32m    449\u001b[0m \u001b[43m        \u001b[49m\u001b[43mretries\u001b[49m\u001b[38;5;241;43m=\u001b[39;49m\u001b[38;5;28;43mself\u001b[39;49m\u001b[38;5;241;43m.\u001b[39;49m\u001b[43mmax_retries\u001b[49m\u001b[43m,\u001b[49m\n\u001b[1;32m    450\u001b[0m \u001b[43m        \u001b[49m\u001b[43mtimeout\u001b[49m\u001b[38;5;241;43m=\u001b[39;49m\u001b[43mtimeout\u001b[49m\n\u001b[1;32m    451\u001b[0m \u001b[43m    \u001b[49m\u001b[43m)\u001b[49m\n\u001b[1;32m    453\u001b[0m \u001b[38;5;66;03m# Send the request.\u001b[39;00m\n\u001b[1;32m    454\u001b[0m \u001b[38;5;28;01melse\u001b[39;00m:\n",
      "File \u001b[0;32m/usr/local/lib/python3.8/dist-packages/urllib3/connectionpool.py:783\u001b[0m, in \u001b[0;36mHTTPConnectionPool.urlopen\u001b[0;34m(self, method, url, body, headers, retries, redirect, assert_same_host, timeout, pool_timeout, release_conn, chunked, body_pos, **response_kw)\u001b[0m\n\u001b[1;32m    780\u001b[0m     log\u001b[38;5;241m.\u001b[39mwarning(\n\u001b[1;32m    781\u001b[0m         \u001b[38;5;124m\"\u001b[39m\u001b[38;5;124mRetrying (\u001b[39m\u001b[38;5;132;01m%r\u001b[39;00m\u001b[38;5;124m) after connection broken by \u001b[39m\u001b[38;5;124m'\u001b[39m\u001b[38;5;132;01m%r\u001b[39;00m\u001b[38;5;124m'\u001b[39m\u001b[38;5;124m: \u001b[39m\u001b[38;5;132;01m%s\u001b[39;00m\u001b[38;5;124m\"\u001b[39m, retries, err, url\n\u001b[1;32m    782\u001b[0m     )\n\u001b[0;32m--> 783\u001b[0m     \u001b[38;5;28;01mreturn\u001b[39;00m \u001b[38;5;28;43mself\u001b[39;49m\u001b[38;5;241;43m.\u001b[39;49m\u001b[43murlopen\u001b[49m\u001b[43m(\u001b[49m\n\u001b[1;32m    784\u001b[0m \u001b[43m        \u001b[49m\u001b[43mmethod\u001b[49m\u001b[43m,\u001b[49m\n\u001b[1;32m    785\u001b[0m \u001b[43m        \u001b[49m\u001b[43murl\u001b[49m\u001b[43m,\u001b[49m\n\u001b[1;32m    786\u001b[0m \u001b[43m        \u001b[49m\u001b[43mbody\u001b[49m\u001b[43m,\u001b[49m\n\u001b[1;32m    787\u001b[0m \u001b[43m        \u001b[49m\u001b[43mheaders\u001b[49m\u001b[43m,\u001b[49m\n\u001b[1;32m    788\u001b[0m \u001b[43m        \u001b[49m\u001b[43mretries\u001b[49m\u001b[43m,\u001b[49m\n\u001b[1;32m    789\u001b[0m \u001b[43m        \u001b[49m\u001b[43mredirect\u001b[49m\u001b[43m,\u001b[49m\n\u001b[1;32m    790\u001b[0m \u001b[43m        \u001b[49m\u001b[43massert_same_host\u001b[49m\u001b[43m,\u001b[49m\n\u001b[1;32m    791\u001b[0m \u001b[43m        \u001b[49m\u001b[43mtimeout\u001b[49m\u001b[38;5;241;43m=\u001b[39;49m\u001b[43mtimeout\u001b[49m\u001b[43m,\u001b[49m\n\u001b[1;32m    792\u001b[0m \u001b[43m        \u001b[49m\u001b[43mpool_timeout\u001b[49m\u001b[38;5;241;43m=\u001b[39;49m\u001b[43mpool_timeout\u001b[49m\u001b[43m,\u001b[49m\n\u001b[1;32m    793\u001b[0m \u001b[43m        \u001b[49m\u001b[43mrelease_conn\u001b[49m\u001b[38;5;241;43m=\u001b[39;49m\u001b[43mrelease_conn\u001b[49m\u001b[43m,\u001b[49m\n\u001b[1;32m    794\u001b[0m \u001b[43m        \u001b[49m\u001b[43mchunked\u001b[49m\u001b[38;5;241;43m=\u001b[39;49m\u001b[43mchunked\u001b[49m\u001b[43m,\u001b[49m\n\u001b[1;32m    795\u001b[0m \u001b[43m        \u001b[49m\u001b[43mbody_pos\u001b[49m\u001b[38;5;241;43m=\u001b[39;49m\u001b[43mbody_pos\u001b[49m\u001b[43m,\u001b[49m\n\u001b[1;32m    796\u001b[0m \u001b[43m        \u001b[49m\u001b[38;5;241;43m*\u001b[39;49m\u001b[38;5;241;43m*\u001b[39;49m\u001b[43mresponse_kw\u001b[49m\n\u001b[1;32m    797\u001b[0m \u001b[43m    \u001b[49m\u001b[43m)\u001b[49m\n\u001b[1;32m    799\u001b[0m \u001b[38;5;66;03m# Handle redirect?\u001b[39;00m\n",
      "File \u001b[0;32m/usr/local/lib/python3.8/dist-packages/urllib3/connectionpool.py:755\u001b[0m, in \u001b[0;36mHTTPConnectionPool.urlopen\u001b[0;34m(self, method, url, body, headers, retries, redirect, assert_same_host, timeout, pool_timeout, release_conn, chunked, body_pos, **response_kw)\u001b[0m\n\u001b[1;32m    753\u001b[0m     e \u001b[38;5;241m=\u001b[39m ProtocolError(\u001b[38;5;124m\"\u001b[39m\u001b[38;5;124mConnection aborted.\u001b[39m\u001b[38;5;124m\"\u001b[39m, e)\n\u001b[0;32m--> 755\u001b[0m retries \u001b[38;5;241m=\u001b[39m \u001b[43mretries\u001b[49m\u001b[38;5;241;43m.\u001b[39;49m\u001b[43mincrement\u001b[49m\u001b[43m(\u001b[49m\n\u001b[1;32m    756\u001b[0m \u001b[43m    \u001b[49m\u001b[43mmethod\u001b[49m\u001b[43m,\u001b[49m\u001b[43m \u001b[49m\u001b[43murl\u001b[49m\u001b[43m,\u001b[49m\u001b[43m \u001b[49m\u001b[43merror\u001b[49m\u001b[38;5;241;43m=\u001b[39;49m\u001b[43me\u001b[49m\u001b[43m,\u001b[49m\u001b[43m \u001b[49m\u001b[43m_pool\u001b[49m\u001b[38;5;241;43m=\u001b[39;49m\u001b[38;5;28;43mself\u001b[39;49m\u001b[43m,\u001b[49m\u001b[43m \u001b[49m\u001b[43m_stacktrace\u001b[49m\u001b[38;5;241;43m=\u001b[39;49m\u001b[43msys\u001b[49m\u001b[38;5;241;43m.\u001b[39;49m\u001b[43mexc_info\u001b[49m\u001b[43m(\u001b[49m\u001b[43m)\u001b[49m\u001b[43m[\u001b[49m\u001b[38;5;241;43m2\u001b[39;49m\u001b[43m]\u001b[49m\n\u001b[1;32m    757\u001b[0m \u001b[43m\u001b[49m\u001b[43m)\u001b[49m\n\u001b[1;32m    758\u001b[0m retries\u001b[38;5;241m.\u001b[39msleep()\n",
      "File \u001b[0;32m/usr/local/lib/python3.8/dist-packages/urllib3/util/retry.py:532\u001b[0m, in \u001b[0;36mRetry.increment\u001b[0;34m(self, method, url, response, error, _pool, _stacktrace)\u001b[0m\n\u001b[1;32m    531\u001b[0m \u001b[38;5;28;01mif\u001b[39;00m read \u001b[38;5;129;01mis\u001b[39;00m \u001b[38;5;28;01mFalse\u001b[39;00m \u001b[38;5;129;01mor\u001b[39;00m \u001b[38;5;129;01mnot\u001b[39;00m \u001b[38;5;28mself\u001b[39m\u001b[38;5;241m.\u001b[39m_is_method_retryable(method):\n\u001b[0;32m--> 532\u001b[0m     \u001b[38;5;28;01mraise\u001b[39;00m \u001b[43msix\u001b[49m\u001b[38;5;241;43m.\u001b[39;49m\u001b[43mreraise\u001b[49m\u001b[43m(\u001b[49m\u001b[38;5;28;43mtype\u001b[39;49m\u001b[43m(\u001b[49m\u001b[43merror\u001b[49m\u001b[43m)\u001b[49m\u001b[43m,\u001b[49m\u001b[43m \u001b[49m\u001b[43merror\u001b[49m\u001b[43m,\u001b[49m\u001b[43m \u001b[49m\u001b[43m_stacktrace\u001b[49m\u001b[43m)\u001b[49m\n\u001b[1;32m    533\u001b[0m \u001b[38;5;28;01melif\u001b[39;00m read \u001b[38;5;129;01mis\u001b[39;00m \u001b[38;5;129;01mnot\u001b[39;00m \u001b[38;5;28;01mNone\u001b[39;00m:\n",
      "File \u001b[0;32m/usr/local/lib/python3.8/dist-packages/urllib3/packages/six.py:770\u001b[0m, in \u001b[0;36mreraise\u001b[0;34m(tp, value, tb)\u001b[0m\n\u001b[1;32m    769\u001b[0m         \u001b[38;5;28;01mraise\u001b[39;00m value\u001b[38;5;241m.\u001b[39mwith_traceback(tb)\n\u001b[0;32m--> 770\u001b[0m     \u001b[38;5;28;01mraise\u001b[39;00m value\n\u001b[1;32m    771\u001b[0m \u001b[38;5;28;01mfinally\u001b[39;00m:\n",
      "File \u001b[0;32m/usr/local/lib/python3.8/dist-packages/urllib3/connectionpool.py:699\u001b[0m, in \u001b[0;36mHTTPConnectionPool.urlopen\u001b[0;34m(self, method, url, body, headers, retries, redirect, assert_same_host, timeout, pool_timeout, release_conn, chunked, body_pos, **response_kw)\u001b[0m\n\u001b[1;32m    698\u001b[0m \u001b[38;5;66;03m# Make the request on the httplib connection object.\u001b[39;00m\n\u001b[0;32m--> 699\u001b[0m httplib_response \u001b[38;5;241m=\u001b[39m \u001b[38;5;28;43mself\u001b[39;49m\u001b[38;5;241;43m.\u001b[39;49m\u001b[43m_make_request\u001b[49m\u001b[43m(\u001b[49m\n\u001b[1;32m    700\u001b[0m \u001b[43m    \u001b[49m\u001b[43mconn\u001b[49m\u001b[43m,\u001b[49m\n\u001b[1;32m    701\u001b[0m \u001b[43m    \u001b[49m\u001b[43mmethod\u001b[49m\u001b[43m,\u001b[49m\n\u001b[1;32m    702\u001b[0m \u001b[43m    \u001b[49m\u001b[43murl\u001b[49m\u001b[43m,\u001b[49m\n\u001b[1;32m    703\u001b[0m \u001b[43m    \u001b[49m\u001b[43mtimeout\u001b[49m\u001b[38;5;241;43m=\u001b[39;49m\u001b[43mtimeout_obj\u001b[49m\u001b[43m,\u001b[49m\n\u001b[1;32m    704\u001b[0m \u001b[43m    \u001b[49m\u001b[43mbody\u001b[49m\u001b[38;5;241;43m=\u001b[39;49m\u001b[43mbody\u001b[49m\u001b[43m,\u001b[49m\n\u001b[1;32m    705\u001b[0m \u001b[43m    \u001b[49m\u001b[43mheaders\u001b[49m\u001b[38;5;241;43m=\u001b[39;49m\u001b[43mheaders\u001b[49m\u001b[43m,\u001b[49m\n\u001b[1;32m    706\u001b[0m \u001b[43m    \u001b[49m\u001b[43mchunked\u001b[49m\u001b[38;5;241;43m=\u001b[39;49m\u001b[43mchunked\u001b[49m\u001b[43m,\u001b[49m\n\u001b[1;32m    707\u001b[0m \u001b[43m\u001b[49m\u001b[43m)\u001b[49m\n\u001b[1;32m    709\u001b[0m \u001b[38;5;66;03m# If we're going to release the connection in ``finally:``, then\u001b[39;00m\n\u001b[1;32m    710\u001b[0m \u001b[38;5;66;03m# the response doesn't need to know about the connection. Otherwise\u001b[39;00m\n\u001b[1;32m    711\u001b[0m \u001b[38;5;66;03m# it will also try to release it and we'll have a double-release\u001b[39;00m\n\u001b[1;32m    712\u001b[0m \u001b[38;5;66;03m# mess.\u001b[39;00m\n",
      "File \u001b[0;32m/usr/local/lib/python3.8/dist-packages/urllib3/connectionpool.py:447\u001b[0m, in \u001b[0;36mHTTPConnectionPool._make_request\u001b[0;34m(self, conn, method, url, timeout, chunked, **httplib_request_kw)\u001b[0m\n\u001b[1;32m    446\u001b[0m \u001b[38;5;28;01mexcept\u001b[39;00m (SocketTimeout, BaseSSLError, SocketError) \u001b[38;5;28;01mas\u001b[39;00m e:\n\u001b[0;32m--> 447\u001b[0m     \u001b[38;5;28;43mself\u001b[39;49m\u001b[38;5;241;43m.\u001b[39;49m\u001b[43m_raise_timeout\u001b[49m\u001b[43m(\u001b[49m\u001b[43merr\u001b[49m\u001b[38;5;241;43m=\u001b[39;49m\u001b[43me\u001b[49m\u001b[43m,\u001b[49m\u001b[43m \u001b[49m\u001b[43murl\u001b[49m\u001b[38;5;241;43m=\u001b[39;49m\u001b[43murl\u001b[49m\u001b[43m,\u001b[49m\u001b[43m \u001b[49m\u001b[43mtimeout_value\u001b[49m\u001b[38;5;241;43m=\u001b[39;49m\u001b[43mread_timeout\u001b[49m\u001b[43m)\u001b[49m\n\u001b[1;32m    448\u001b[0m     \u001b[38;5;28;01mraise\u001b[39;00m\n",
      "File \u001b[0;32m/usr/local/lib/python3.8/dist-packages/urllib3/connectionpool.py:336\u001b[0m, in \u001b[0;36mHTTPConnectionPool._raise_timeout\u001b[0;34m(self, err, url, timeout_value)\u001b[0m\n\u001b[1;32m    335\u001b[0m \u001b[38;5;28;01mif\u001b[39;00m \u001b[38;5;28misinstance\u001b[39m(err, SocketTimeout):\n\u001b[0;32m--> 336\u001b[0m     \u001b[38;5;28;01mraise\u001b[39;00m ReadTimeoutError(\n\u001b[1;32m    337\u001b[0m         \u001b[38;5;28mself\u001b[39m, url, \u001b[38;5;124m\"\u001b[39m\u001b[38;5;124mRead timed out. (read timeout=\u001b[39m\u001b[38;5;132;01m%s\u001b[39;00m\u001b[38;5;124m)\u001b[39m\u001b[38;5;124m\"\u001b[39m \u001b[38;5;241m%\u001b[39m timeout_value\n\u001b[1;32m    338\u001b[0m     )\n\u001b[1;32m    340\u001b[0m \u001b[38;5;66;03m# See the above comment about EAGAIN in Python 3. In Python 2 we have\u001b[39;00m\n\u001b[1;32m    341\u001b[0m \u001b[38;5;66;03m# to specifically catch it and throw the timeout error\u001b[39;00m\n",
      "\u001b[0;31mReadTimeoutError\u001b[0m: HTTPSConnectionPool(host='api.openai.com', port=443): Read timed out. (read timeout=600)",
      "\nDuring handling of the above exception, another exception occurred:\n",
      "\u001b[0;31mReadTimeout\u001b[0m                               Traceback (most recent call last)",
      "File \u001b[0;32m/usr/local/lib/python3.8/dist-packages/openai/api_requestor.py:292\u001b[0m, in \u001b[0;36mAPIRequestor.request_raw\u001b[0;34m(self, method, url, params, supplied_headers, files, stream, request_id)\u001b[0m\n\u001b[1;32m    291\u001b[0m \u001b[38;5;28;01mtry\u001b[39;00m:\n\u001b[0;32m--> 292\u001b[0m     result \u001b[38;5;241m=\u001b[39m \u001b[43m_thread_context\u001b[49m\u001b[38;5;241;43m.\u001b[39;49m\u001b[43msession\u001b[49m\u001b[38;5;241;43m.\u001b[39;49m\u001b[43mrequest\u001b[49m\u001b[43m(\u001b[49m\n\u001b[1;32m    293\u001b[0m \u001b[43m        \u001b[49m\u001b[43mmethod\u001b[49m\u001b[43m,\u001b[49m\n\u001b[1;32m    294\u001b[0m \u001b[43m        \u001b[49m\u001b[43mabs_url\u001b[49m\u001b[43m,\u001b[49m\n\u001b[1;32m    295\u001b[0m \u001b[43m        \u001b[49m\u001b[43mheaders\u001b[49m\u001b[38;5;241;43m=\u001b[39;49m\u001b[43mheaders\u001b[49m\u001b[43m,\u001b[49m\n\u001b[1;32m    296\u001b[0m \u001b[43m        \u001b[49m\u001b[43mdata\u001b[49m\u001b[38;5;241;43m=\u001b[39;49m\u001b[43mdata\u001b[49m\u001b[43m,\u001b[49m\n\u001b[1;32m    297\u001b[0m \u001b[43m        \u001b[49m\u001b[43mfiles\u001b[49m\u001b[38;5;241;43m=\u001b[39;49m\u001b[43mfiles\u001b[49m\u001b[43m,\u001b[49m\n\u001b[1;32m    298\u001b[0m \u001b[43m        \u001b[49m\u001b[43mstream\u001b[49m\u001b[38;5;241;43m=\u001b[39;49m\u001b[43mstream\u001b[49m\u001b[43m,\u001b[49m\n\u001b[1;32m    299\u001b[0m \u001b[43m        \u001b[49m\u001b[43mtimeout\u001b[49m\u001b[38;5;241;43m=\u001b[39;49m\u001b[43mTIMEOUT_SECS\u001b[49m\u001b[43m,\u001b[49m\n\u001b[1;32m    300\u001b[0m \u001b[43m    \u001b[49m\u001b[43m)\u001b[49m\n\u001b[1;32m    301\u001b[0m \u001b[38;5;28;01mexcept\u001b[39;00m requests\u001b[38;5;241m.\u001b[39mexceptions\u001b[38;5;241m.\u001b[39mRequestException \u001b[38;5;28;01mas\u001b[39;00m e:\n",
      "File \u001b[0;32m/usr/local/lib/python3.8/dist-packages/requests/sessions.py:529\u001b[0m, in \u001b[0;36mSession.request\u001b[0;34m(self, method, url, params, data, headers, cookies, files, auth, timeout, allow_redirects, proxies, hooks, stream, verify, cert, json)\u001b[0m\n\u001b[1;32m    528\u001b[0m send_kwargs\u001b[38;5;241m.\u001b[39mupdate(settings)\n\u001b[0;32m--> 529\u001b[0m resp \u001b[38;5;241m=\u001b[39m \u001b[38;5;28;43mself\u001b[39;49m\u001b[38;5;241;43m.\u001b[39;49m\u001b[43msend\u001b[49m\u001b[43m(\u001b[49m\u001b[43mprep\u001b[49m\u001b[43m,\u001b[49m\u001b[43m \u001b[49m\u001b[38;5;241;43m*\u001b[39;49m\u001b[38;5;241;43m*\u001b[39;49m\u001b[43msend_kwargs\u001b[49m\u001b[43m)\u001b[49m\n\u001b[1;32m    531\u001b[0m \u001b[38;5;28;01mreturn\u001b[39;00m resp\n",
      "File \u001b[0;32m/usr/local/lib/python3.8/dist-packages/requests/sessions.py:645\u001b[0m, in \u001b[0;36mSession.send\u001b[0;34m(self, request, **kwargs)\u001b[0m\n\u001b[1;32m    644\u001b[0m \u001b[38;5;66;03m# Send the request\u001b[39;00m\n\u001b[0;32m--> 645\u001b[0m r \u001b[38;5;241m=\u001b[39m \u001b[43madapter\u001b[49m\u001b[38;5;241;43m.\u001b[39;49m\u001b[43msend\u001b[49m\u001b[43m(\u001b[49m\u001b[43mrequest\u001b[49m\u001b[43m,\u001b[49m\u001b[43m \u001b[49m\u001b[38;5;241;43m*\u001b[39;49m\u001b[38;5;241;43m*\u001b[39;49m\u001b[43mkwargs\u001b[49m\u001b[43m)\u001b[49m\n\u001b[1;32m    647\u001b[0m \u001b[38;5;66;03m# Total elapsed time of the request (approximately)\u001b[39;00m\n",
      "File \u001b[0;32m/usr/local/lib/python3.8/dist-packages/requests/adapters.py:532\u001b[0m, in \u001b[0;36mHTTPAdapter.send\u001b[0;34m(self, request, stream, timeout, verify, cert, proxies)\u001b[0m\n\u001b[1;32m    531\u001b[0m \u001b[38;5;28;01melif\u001b[39;00m \u001b[38;5;28misinstance\u001b[39m(e, ReadTimeoutError):\n\u001b[0;32m--> 532\u001b[0m     \u001b[38;5;28;01mraise\u001b[39;00m ReadTimeout(e, request\u001b[38;5;241m=\u001b[39mrequest)\n\u001b[1;32m    533\u001b[0m \u001b[38;5;28;01melif\u001b[39;00m \u001b[38;5;28misinstance\u001b[39m(e, _InvalidHeader):\n",
      "\u001b[0;31mReadTimeout\u001b[0m: HTTPSConnectionPool(host='api.openai.com', port=443): Read timed out. (read timeout=600)",
      "\nThe above exception was the direct cause of the following exception:\n",
      "\u001b[0;31mAPIConnectionError\u001b[0m                        Traceback (most recent call last)",
      "Input \u001b[0;32mIn [4]\u001b[0m, in \u001b[0;36m<cell line: 214>\u001b[0;34m()\u001b[0m\n\u001b[1;32m    212\u001b[0m config \u001b[38;5;241m=\u001b[39m dotenv\u001b[38;5;241m.\u001b[39mdotenv_values(\u001b[38;5;124m\"\u001b[39m\u001b[38;5;124m.env\u001b[39m\u001b[38;5;124m\"\u001b[39m)\n\u001b[1;32m    213\u001b[0m openai\u001b[38;5;241m.\u001b[39mapi_key \u001b[38;5;241m=\u001b[39m config[\u001b[38;5;124m'\u001b[39m\u001b[38;5;124mOPENAI_API_KEY\u001b[39m\u001b[38;5;124m'\u001b[39m]\n\u001b[0;32m--> 214\u001b[0m original_output \u001b[38;5;241m=\u001b[39m \u001b[43mopenai\u001b[49m\u001b[38;5;241;43m.\u001b[39;49m\u001b[43mCompletion\u001b[49m\u001b[38;5;241;43m.\u001b[39;49m\u001b[43mcreate\u001b[49m\u001b[43m(\u001b[49m\u001b[43mengine\u001b[49m\u001b[38;5;241;43m=\u001b[39;49m\u001b[38;5;124;43m'\u001b[39;49m\u001b[38;5;124;43mdavinci-codex-002-msft\u001b[39;49m\u001b[38;5;124;43m'\u001b[39;49m\u001b[43m,\u001b[49m\n\u001b[1;32m    215\u001b[0m \u001b[43m                                            \u001b[49m\u001b[43mprompt\u001b[49m\u001b[38;5;241;43m=\u001b[39;49m\u001b[43mprompt\u001b[49m\u001b[43m,\u001b[49m\n\u001b[1;32m    216\u001b[0m \u001b[43m                                            \u001b[49m\u001b[43mmax_tokens\u001b[49m\u001b[38;5;241;43m=\u001b[39;49m\u001b[38;5;241;43m1024\u001b[39;49m\u001b[43m,\u001b[49m\n\u001b[1;32m    217\u001b[0m \u001b[43m                                            \u001b[49m\u001b[43mtemperature\u001b[49m\u001b[38;5;241;43m=\u001b[39;49m\u001b[38;5;241;43m0\u001b[39;49m\u001b[43m,\u001b[49m\n\u001b[1;32m    218\u001b[0m \u001b[43m                                            \u001b[49m\u001b[43mtop_p\u001b[49m\u001b[38;5;241;43m=\u001b[39;49m\u001b[38;5;241;43m1\u001b[39;49m\u001b[43m,\u001b[49m\n\u001b[1;32m    219\u001b[0m \u001b[43m                                            \u001b[49m\u001b[43mfrequency_penalty\u001b[49m\u001b[38;5;241;43m=\u001b[39;49m\u001b[38;5;241;43m0.3\u001b[39;49m\u001b[43m,\u001b[49m\n\u001b[1;32m    220\u001b[0m \u001b[43m                                            \u001b[49m\u001b[43mn\u001b[49m\u001b[38;5;241;43m=\u001b[39;49m\u001b[38;5;241;43m1\u001b[39;49m\u001b[43m,\u001b[49m\n\u001b[1;32m    221\u001b[0m \u001b[43m                                            \u001b[49m\u001b[43mstream\u001b[49m\u001b[38;5;241;43m=\u001b[39;49m\u001b[38;5;28;43;01mFalse\u001b[39;49;00m\u001b[43m,\u001b[49m\n\u001b[1;32m    222\u001b[0m \u001b[43m                                            \u001b[49m\u001b[43mstop\u001b[49m\u001b[38;5;241;43m=\u001b[39;49m\u001b[38;5;124;43m'\u001b[39;49m\u001b[38;5;124;43m```.\u001b[39;49m\u001b[38;5;124;43m'\u001b[39;49m\u001b[43m)\u001b[49m\n",
      "File \u001b[0;32m/usr/local/lib/python3.8/dist-packages/openai/api_resources/completion.py:31\u001b[0m, in \u001b[0;36mCompletion.create\u001b[0;34m(cls, *args, **kwargs)\u001b[0m\n\u001b[1;32m     29\u001b[0m \u001b[38;5;28;01mwhile\u001b[39;00m \u001b[38;5;28;01mTrue\u001b[39;00m:\n\u001b[1;32m     30\u001b[0m     \u001b[38;5;28;01mtry\u001b[39;00m:\n\u001b[0;32m---> 31\u001b[0m         \u001b[38;5;28;01mreturn\u001b[39;00m \u001b[38;5;28;43msuper\u001b[39;49m\u001b[43m(\u001b[49m\u001b[43m)\u001b[49m\u001b[38;5;241;43m.\u001b[39;49m\u001b[43mcreate\u001b[49m\u001b[43m(\u001b[49m\u001b[38;5;241;43m*\u001b[39;49m\u001b[43margs\u001b[49m\u001b[43m,\u001b[49m\u001b[43m \u001b[49m\u001b[38;5;241;43m*\u001b[39;49m\u001b[38;5;241;43m*\u001b[39;49m\u001b[43mkwargs\u001b[49m\u001b[43m)\u001b[49m\n\u001b[1;32m     32\u001b[0m     \u001b[38;5;28;01mexcept\u001b[39;00m TryAgain \u001b[38;5;28;01mas\u001b[39;00m e:\n\u001b[1;32m     33\u001b[0m         \u001b[38;5;28;01mif\u001b[39;00m timeout \u001b[38;5;129;01mis\u001b[39;00m \u001b[38;5;129;01mnot\u001b[39;00m \u001b[38;5;28;01mNone\u001b[39;00m \u001b[38;5;129;01mand\u001b[39;00m time\u001b[38;5;241m.\u001b[39mtime() \u001b[38;5;241m>\u001b[39m start \u001b[38;5;241m+\u001b[39m timeout:\n",
      "File \u001b[0;32m/usr/local/lib/python3.8/dist-packages/openai/api_resources/abstract/engine_api_resource.py:100\u001b[0m, in \u001b[0;36mEngineAPIResource.create\u001b[0;34m(cls, api_key, api_base, api_type, request_id, api_version, organization, **params)\u001b[0m\n\u001b[1;32m     92\u001b[0m requestor \u001b[38;5;241m=\u001b[39m api_requestor\u001b[38;5;241m.\u001b[39mAPIRequestor(\n\u001b[1;32m     93\u001b[0m     api_key,\n\u001b[1;32m     94\u001b[0m     api_base\u001b[38;5;241m=\u001b[39mapi_base,\n\u001b[0;32m   (...)\u001b[0m\n\u001b[1;32m     97\u001b[0m     organization\u001b[38;5;241m=\u001b[39morganization,\n\u001b[1;32m     98\u001b[0m )\n\u001b[1;32m     99\u001b[0m url \u001b[38;5;241m=\u001b[39m \u001b[38;5;28mcls\u001b[39m\u001b[38;5;241m.\u001b[39mclass_url(engine, api_type, api_version)\n\u001b[0;32m--> 100\u001b[0m response, _, api_key \u001b[38;5;241m=\u001b[39m \u001b[43mrequestor\u001b[49m\u001b[38;5;241;43m.\u001b[39;49m\u001b[43mrequest\u001b[49m\u001b[43m(\u001b[49m\n\u001b[1;32m    101\u001b[0m \u001b[43m    \u001b[49m\u001b[38;5;124;43m\"\u001b[39;49m\u001b[38;5;124;43mpost\u001b[39;49m\u001b[38;5;124;43m\"\u001b[39;49m\u001b[43m,\u001b[49m\n\u001b[1;32m    102\u001b[0m \u001b[43m    \u001b[49m\u001b[43murl\u001b[49m\u001b[43m,\u001b[49m\n\u001b[1;32m    103\u001b[0m \u001b[43m    \u001b[49m\u001b[43mparams\u001b[49m\u001b[38;5;241;43m=\u001b[39;49m\u001b[43mparams\u001b[49m\u001b[43m,\u001b[49m\n\u001b[1;32m    104\u001b[0m \u001b[43m    \u001b[49m\u001b[43mheaders\u001b[49m\u001b[38;5;241;43m=\u001b[39;49m\u001b[43mheaders\u001b[49m\u001b[43m,\u001b[49m\n\u001b[1;32m    105\u001b[0m \u001b[43m    \u001b[49m\u001b[43mstream\u001b[49m\u001b[38;5;241;43m=\u001b[39;49m\u001b[43mstream\u001b[49m\u001b[43m,\u001b[49m\n\u001b[1;32m    106\u001b[0m \u001b[43m    \u001b[49m\u001b[43mrequest_id\u001b[49m\u001b[38;5;241;43m=\u001b[39;49m\u001b[43mrequest_id\u001b[49m\u001b[43m,\u001b[49m\n\u001b[1;32m    107\u001b[0m \u001b[43m\u001b[49m\u001b[43m)\u001b[49m\n\u001b[1;32m    109\u001b[0m \u001b[38;5;28;01mif\u001b[39;00m stream:\n\u001b[1;32m    110\u001b[0m     \u001b[38;5;28;01massert\u001b[39;00m \u001b[38;5;129;01mnot\u001b[39;00m \u001b[38;5;28misinstance\u001b[39m(response, OpenAIResponse)  \u001b[38;5;66;03m# must be an iterator\u001b[39;00m\n",
      "File \u001b[0;32m/usr/local/lib/python3.8/dist-packages/openai/api_requestor.py:113\u001b[0m, in \u001b[0;36mAPIRequestor.request\u001b[0;34m(self, method, url, params, headers, files, stream, request_id)\u001b[0m\n\u001b[1;32m    103\u001b[0m \u001b[38;5;28;01mdef\u001b[39;00m \u001b[38;5;21mrequest\u001b[39m(\n\u001b[1;32m    104\u001b[0m     \u001b[38;5;28mself\u001b[39m,\n\u001b[1;32m    105\u001b[0m     method,\n\u001b[0;32m   (...)\u001b[0m\n\u001b[1;32m    111\u001b[0m     request_id: Optional[\u001b[38;5;28mstr\u001b[39m] \u001b[38;5;241m=\u001b[39m \u001b[38;5;28;01mNone\u001b[39;00m,\n\u001b[1;32m    112\u001b[0m ) \u001b[38;5;241m-\u001b[39m\u001b[38;5;241m>\u001b[39m Tuple[Union[OpenAIResponse, Iterator[OpenAIResponse]], \u001b[38;5;28mbool\u001b[39m, \u001b[38;5;28mstr\u001b[39m]:\n\u001b[0;32m--> 113\u001b[0m     result \u001b[38;5;241m=\u001b[39m \u001b[38;5;28;43mself\u001b[39;49m\u001b[38;5;241;43m.\u001b[39;49m\u001b[43mrequest_raw\u001b[49m\u001b[43m(\u001b[49m\n\u001b[1;32m    114\u001b[0m \u001b[43m        \u001b[49m\u001b[43mmethod\u001b[49m\u001b[38;5;241;43m.\u001b[39;49m\u001b[43mlower\u001b[49m\u001b[43m(\u001b[49m\u001b[43m)\u001b[49m\u001b[43m,\u001b[49m\n\u001b[1;32m    115\u001b[0m \u001b[43m        \u001b[49m\u001b[43murl\u001b[49m\u001b[43m,\u001b[49m\n\u001b[1;32m    116\u001b[0m \u001b[43m        \u001b[49m\u001b[43mparams\u001b[49m\u001b[38;5;241;43m=\u001b[39;49m\u001b[43mparams\u001b[49m\u001b[43m,\u001b[49m\n\u001b[1;32m    117\u001b[0m \u001b[43m        \u001b[49m\u001b[43msupplied_headers\u001b[49m\u001b[38;5;241;43m=\u001b[39;49m\u001b[43mheaders\u001b[49m\u001b[43m,\u001b[49m\n\u001b[1;32m    118\u001b[0m \u001b[43m        \u001b[49m\u001b[43mfiles\u001b[49m\u001b[38;5;241;43m=\u001b[39;49m\u001b[43mfiles\u001b[49m\u001b[43m,\u001b[49m\n\u001b[1;32m    119\u001b[0m \u001b[43m        \u001b[49m\u001b[43mstream\u001b[49m\u001b[38;5;241;43m=\u001b[39;49m\u001b[43mstream\u001b[49m\u001b[43m,\u001b[49m\n\u001b[1;32m    120\u001b[0m \u001b[43m        \u001b[49m\u001b[43mrequest_id\u001b[49m\u001b[38;5;241;43m=\u001b[39;49m\u001b[43mrequest_id\u001b[49m\u001b[43m,\u001b[49m\n\u001b[1;32m    121\u001b[0m \u001b[43m    \u001b[49m\u001b[43m)\u001b[49m\n\u001b[1;32m    122\u001b[0m     resp, got_stream \u001b[38;5;241m=\u001b[39m \u001b[38;5;28mself\u001b[39m\u001b[38;5;241m.\u001b[39m_interpret_response(result, stream)\n\u001b[1;32m    123\u001b[0m     \u001b[38;5;28;01mreturn\u001b[39;00m resp, got_stream, \u001b[38;5;28mself\u001b[39m\u001b[38;5;241m.\u001b[39mapi_key\n",
      "File \u001b[0;32m/usr/local/lib/python3.8/dist-packages/openai/api_requestor.py:302\u001b[0m, in \u001b[0;36mAPIRequestor.request_raw\u001b[0;34m(self, method, url, params, supplied_headers, files, stream, request_id)\u001b[0m\n\u001b[1;32m    292\u001b[0m     result \u001b[38;5;241m=\u001b[39m _thread_context\u001b[38;5;241m.\u001b[39msession\u001b[38;5;241m.\u001b[39mrequest(\n\u001b[1;32m    293\u001b[0m         method,\n\u001b[1;32m    294\u001b[0m         abs_url,\n\u001b[0;32m   (...)\u001b[0m\n\u001b[1;32m    299\u001b[0m         timeout\u001b[38;5;241m=\u001b[39mTIMEOUT_SECS,\n\u001b[1;32m    300\u001b[0m     )\n\u001b[1;32m    301\u001b[0m \u001b[38;5;28;01mexcept\u001b[39;00m requests\u001b[38;5;241m.\u001b[39mexceptions\u001b[38;5;241m.\u001b[39mRequestException \u001b[38;5;28;01mas\u001b[39;00m e:\n\u001b[0;32m--> 302\u001b[0m     \u001b[38;5;28;01mraise\u001b[39;00m error\u001b[38;5;241m.\u001b[39mAPIConnectionError(\u001b[38;5;124m\"\u001b[39m\u001b[38;5;124mError communicating with OpenAI\u001b[39m\u001b[38;5;124m\"\u001b[39m) \u001b[38;5;28;01mfrom\u001b[39;00m \u001b[38;5;21;01me\u001b[39;00m\n\u001b[1;32m    303\u001b[0m util\u001b[38;5;241m.\u001b[39mlog_info(\n\u001b[1;32m    304\u001b[0m     \u001b[38;5;124m\"\u001b[39m\u001b[38;5;124mOpenAI API response\u001b[39m\u001b[38;5;124m\"\u001b[39m,\n\u001b[1;32m    305\u001b[0m     path\u001b[38;5;241m=\u001b[39mabs_url,\n\u001b[1;32m    306\u001b[0m     response_code\u001b[38;5;241m=\u001b[39mresult\u001b[38;5;241m.\u001b[39mstatus_code,\n\u001b[1;32m    307\u001b[0m     processing_ms\u001b[38;5;241m=\u001b[39mresult\u001b[38;5;241m.\u001b[39mheaders\u001b[38;5;241m.\u001b[39mget(\u001b[38;5;124m\"\u001b[39m\u001b[38;5;124mOpenAI-Processing-Ms\u001b[39m\u001b[38;5;124m\"\u001b[39m),\n\u001b[1;32m    308\u001b[0m )\n\u001b[1;32m    309\u001b[0m \u001b[38;5;66;03m# Don't read the whole stream for debug logging unless necessary.\u001b[39;00m\n",
      "\u001b[0;31mAPIConnectionError\u001b[0m: Error communicating with OpenAI"
     ]
    }
   ],
   "source": [
    "prompt = \"\"\"\n",
    "The database table DF is shown as follows:\n",
    "[HEAD]: name|c_1989|c_1990|c_1991|c_1992|c_1993|c_1994|c_1995|c_1996|c_1997|c_1998|c_1999|c_2000|c_2001|c_2002|c_2003|c_2004|c_2005|c_2006|c_2007|c_2008|c_2009|c_2010|career_sr|career_win_loss\n",
    "---\n",
    "[ROW] 1: Australian Open|A|A|1R|A|2R|3R|2R|1R|A|3R|4R|1R|2R|1R|3R|2R|1R|QF|3R|2R|3R|1R|0 / 18|22–18\n",
    "[ROW] 2: French Open|1R|2R|4R|1R|1R|3R|1R|A|1R|3R|1R|2R|4R|2R|2R|3R|1R|1R|1R|2R|1R|A|0 / 20|17–20\n",
    "[ROW] 3: Wimbledon|A|1R|A|A|A|A|1R|A|1R|A|2R|2R|3R|2R|2R|2R|2R|2R|2R|1R|2R|A|0 / 14|11–14\n",
    "...\n",
    "[ROW] 17: Annual Win-Loss|nan|2–4|7–5|3–5|6–4|2–1|5–4|2–1|12–6|10–9|10–7|12–9|13–9|9–9|2–7|8–5|7–7|3–8|4–3|2–3|1–2|0–0|nan|120–108\n",
    "[ROW] 18: Year End Ranking|235|62|43|43|55|46|102|118|29|41|34|31|22|35|62|52|58|52|37|52|68|–|nan|nan\n",
    "\n",
    "Answer the following question based on the data above: \"did he win more at the australian open or indian wells?\". Execute SQL or Python code step-by-step and finally answer the question. Choose from generating a SQL, Python code, or directly answering the question.\n",
    "\n",
    "SQL: ```SELECT name, career_win_loss FROM DF WHERE name=\"Australian Open\" or name=\"Indian Wells\";```.\n",
    "\n",
    "The database table DF is shown as follows:\n",
    "[HEAD]: career_win_loss\n",
    "---\n",
    "[ROW] 1: Australian Open|22–18\n",
    "[ROW] 2: Indian Wells|16-13\n",
    "\n",
    "Answer the following question based on the data above: \"did he win more at the australian open or indian wells?\". Execute SQL or Python code step-by-step and finally answer the question. Choose from generating a SQL, Python code, or directly answering the question.\n",
    "\n",
    "Answer: ```Australian Open```.\n",
    "\n",
    "The database table DF is shown as follows:\n",
    "[HEAD]: by_race|white|black|aian*|asian|nhpi*\n",
    "---\n",
    "[ROW] 1: 2000 (total population)|75.43%|4.46%|19.06%|5.24%|0.88%\n",
    "[ROW] 2: 2000 (Hispanic only)|3.42%|0.33%|0.45%|0.16%|0.06%\n",
    "[ROW] 3: 2005 (total population)|74.71%|4.72%|18.77%|5.90%|0.88%\n",
    "...\n",
    "[ROW] 6: Growth 2000–05 (non-Hispanic only)|3.49%|11.30%|4.02%|18.96%|5.86%\n",
    "[ROW] 7: Growth 2000–05 (Hispanic only)|33.56%|21.02%|14.52%|27.89%|-1.95%\n",
    "\n",
    "Answer the following question based on the data above: \"which hispanic population had the greatest growth from 2000 to 2005?\". Execute SQL or Python code step-by-step and finally answer the question. Choose from generating a SQL, Python code, or directly answering the question.\n",
    "\n",
    "SQL: ```SELECT * FROM DF WHERE by_race LIKE \"Growth 2000–05 (Hispanic only)%\";```.\n",
    "\n",
    "The database table DF is shown as follows:\n",
    "[HEAD]: by_race|white|black|aian*|asian|nhpi*\n",
    "---\n",
    "[ROW] 1: Growth 2000–05 (Hispanic only)|33.56%|21.02%|14.52%|27.89%|-1.95%\n",
    "\n",
    "Answer the following question based on the data above: \"which hispanic population had the greatest growth from 2000 to 2005?\". Execute SQL or Python code step-by-step and finally answer the question. Choose from generating a SQL, Python code, or directly answering the question.\n",
    "\n",
    "Answer: ```white```.\n",
    "\n",
    "The database table DF is shown as follows:\n",
    "[HEAD]: rank|mountain_peak|mountain_range|elevation|prominence|isolation|location\n",
    "---\n",
    "[ROW] 1: 1|Mount Whitney|Sierra Nevada|14,505 ft 4421 m|10,080 ft 3072 m|1,646 mi 2,649 km|36°34′43″N 118°17′31″W﻿ / ﻿36.5786°N 118.2920°W\n",
    "[ROW] 2: 2|Mount Williamson|Sierra Nevada|14,379 ft 4383 m|1,677 ft 511 m|5.4 mi 8.7 km|36°39′21″N 118°18′40″W﻿ / ﻿36.6559°N 118.3111°W\n",
    "[ROW] 3: 3|White Mountain Peak|White Mountains|14,252 ft 4344 m|7,196 ft 2193 m|67 mi 109 km|37°38′03″N 118°15′21″W﻿ / ﻿37.6341°N 118.2557°W\n",
    "...\n",
    "[ROW] 15: 15|Red Slate Mountain|Sierra Nevada|13,162 ft 4012 m|1,736 ft 529 m|8 mi 13 km|37°30′27″N 118°52′09″W﻿ / ﻿37.5075°N 118.8693°W\n",
    "[ROW] 16: 16|Mount Ritter|Sierra Nevada|13,149 ft 4008 m|3,990 ft 1216 m|22 mi 35 km|37°41′21″N 119°11′59″W﻿ / ﻿37.6891°N 119.1996°W\n",
    "\n",
    "Answer the following question based on the data above: \"which mountain peak has a prominence more than 10,000 ft?\". Execute SQL or Python code step-by-step and finally answer the question. Choose from generating a SQL, Python code, or directly answering the question.\n",
    "\n",
    "SQL: ```SELECT mountain_peak, prominence FROM DF;```.\n",
    "\n",
    "The database table DF is shown as follows:\n",
    "[HEAD]: mountain_peak|prominence\n",
    "---\n",
    "[ROW] 1: Mount Whitney|10,080 ft 3072 m\n",
    "[ROW] 2: Mount Williamson|1,677 ft 511 m\n",
    "[ROW] 3: White Mountain Peak|7,196 ft 2193 m\n",
    "...\n",
    "[ROW] 15: Red Slate Mountain|1,736 ft 529 m\n",
    "[ROW] 16: Mount Ritter|3,990 ft 1216 m\n",
    "\n",
    "Answer the following question based on the data above: \"which mountain peak has a prominence more than 10,000 ft?\". Execute SQL or Python code step-by-step and finally answer the question. Choose from generating a SQL, Python code, or directly answering the question.\n",
    "\n",
    "Python: ```\n",
    "def get_ft(s):\n",
    "    import re\n",
    "    return float(re.search(\"(.*?) ft\", s).group(1))\n",
    "DF['prominence_ft'] = DF.apply(lambda x: get_ft(x['prominence']), axis=1)\n",
    "```.\n",
    "\n",
    "The database table DF is shown as follows:\n",
    "[HEAD]: mountain_peak|prominence|prominence_ft\n",
    "---\n",
    "[ROW] 1: Mount Whitney|10,080 ft 3072 m|10080.0\n",
    "[ROW] 2: Mount Williamson|1,677 ft 511 m|1677.0\n",
    "[ROW] 3: White Mountain Peak|7,196 ft 2193 m|7196.0\n",
    "...\n",
    "[ROW] 15: Red Slate Mountain|1,736 ft 529 m|1736.0\n",
    "[ROW] 16: Mount Ritter|3,990 ft 1216 m|3990.0\n",
    "\n",
    "Answer the following question based on the data above: \"which mountain peak has a prominence more than 10,000 ft?\". Execute SQL or Python code step-by-step and finally answer the question. Choose from generating a SQL, Python code, or directly answering the question.\n",
    "\n",
    "SQL: ```SELECT mountain_peak FROM DF WHERE prominence_ft>10000;```.\n",
    "\n",
    "The database table DF is shown as follows:\n",
    "[HEAD]: mountain_peak\n",
    "---\n",
    "[ROW] 1: Mount Whitney\n",
    "\n",
    "Answer the following question based on the data above: \"which mountain peak has a prominence more than 10,000 ft?\". Execute SQL or Python code step-by-step and finally answer the question. Choose from generating a SQL, Python code, or directly answering the question.\n",
    "\n",
    "Answer: ```Mount Whitney```.\n",
    "\n",
    "The database table DF is shown as follows:\n",
    "[HEAD]: season|division|tms|pos|fa_cup|afc_cl\n",
    "---\n",
    "[ROW] 1: 2003|1|12|11|Quarter final|-\n",
    "[ROW] 2: 2004|1|13|10|Round of 32|-\n",
    "[ROW] 3: 2005|1|13|8|Quarter final|-\n",
    "...\n",
    "[ROW] 9: 2011|1|16|12|Round of 32|-\n",
    "[ROW] 10: 2012|1|16|10|Round of 16|-\n",
    "\n",
    "Answer the following question based on the data above: \"how far did they make it in the fa cup after 2009?\". Execute SQL or Python code step-by-step and finally answer the question. Choose from generating a SQL, Python code, or directly answering the question.\n",
    "\n",
    "SQL: ```SELECT fa_cup FROM DF WHERE season>2009;```.\n",
    "\n",
    "The database table DF is shown as follows:\n",
    "[HEAD]: fa_cup\n",
    "---\n",
    "[ROW] 1: Round of 32\n",
    "[ROW] 2: Round of 32\n",
    "[ROW] 3: Round of 16\n",
    "\n",
    "Answer the following question based on the data above: \"how far did they make it in the fa cup after 2009?\". Execute SQL or Python code step-by-step and finally answer the question. Choose from generating a SQL, Python code, or directly answering the question.\n",
    "\n",
    "Answer: ```Round of 16```.\n",
    "\n",
    "The database table DF is shown as follows:\n",
    "[HEAD]: unnamed_0|c_2000|c_2001|c_2002|c_2003|c_2004|c_2005|c_2006|c_2007|c_2008|c_2009|c_2010|c_2011|c_2012\n",
    "---\n",
    "[ROW] 1: Hydro power|1,150|1,161|1,171|1,247|1,281|1,293|1,316|1,326|1,357|1,379|1,382|1,401|1,584\n",
    "[ROW] 2: Thermal|685|835|1,056|1,233|1,215|1,155|1,155|1,155|1,285|1,290|1,390|1,690|1,638\n",
    "[ROW] 3: Other renewables|3|3|3|3|3|3|3|3|3|15|45|50|90\n",
    "...\n",
    "[ROW] 7: Other renewables|3|3|4|3|3|5|4|4|8|27|86|121|169\n",
    "[ROW] 8: Total production|6,685|6,520|6,167|7,611|8,043|8,770|9,389|9,815|9,901|9,883|10,715|11,528|11,800\n",
    "\n",
    "Answer the following question based on the data above: \"did the hydro power increase or decrease from 2010 to 2012?\". Execute SQL or Python code step-by-step and finally answer the question. Choose from generating a SQL, Python code, or directly answering the question.\n",
    "\n",
    "SQL: ```SELECT c_2010, c_2012 FROM DF WHERE unnamed_0=\"Hydro power\";```.\n",
    "\n",
    "The database table DF is shown as follows:\n",
    "[HEAD]: c_2010|c_2012\n",
    "---\n",
    "[ROW] 1: 1,382|1,584\n",
    "\n",
    "Answer the following question based on the data above: \"did the hydro power increase or decrease from 2010 to 2012?\". Execute SQL or Python code step-by-step and finally answer the question. Choose from generating a SQL, Python code, or directly answering the question.\n",
    "\n",
    "Answer: ```increase```.\n",
    "\n",
    "The database table DF is shown as follows:\n",
    "[HEAD]: season|conference|head_coach|total_wins|total_losses|total_ties|conference_wins|conference_losses|conference_ties|conference_standing|postseason_result\n",
    "---\n",
    "[ROW] 1: 1905|Independent|Sidney Smith|2|3|1|—|—|—|—|—\n",
    "[ROW] 2: 1906|Independent|Ralph Foster|3|0|0|—|—|—|—|—\n",
    "[ROW] 3: 1907|Independent|Ralph Foster|1|5|1|—|—|—|—|—\n",
    "[ROW] 4: 1908|Southern Intercollegiate|Ralph Foster|4|1|1|—|—|—|—|—\n",
    "[ROW] 5: 1909|Southern Intercollegiate|Sam Costen|4|3|2|0|1|1|—|—\n",
    "[ROW] 6: 1910|Southern Intercollegiate|Sam Costen|3|4|0|1|3|0|—|—\n",
    "[ROW] 7: 1911|Southern Intercollegiate|L. S. LeTellier|5|2|2|1|2|0|—|—\n",
    "[ROW] 8: 1912|Southern Intercollegiate|L. S. LeTellier|3|4|0|0|3|0|—|—\n",
    "[ROW] 9: 1913|Southern Intercollegiate|George C. Rogers|3|4|2|0|2|0|—|—\n",
    "[ROW] 10: 1914|Southern Intercollegiate|George C. Rogers|2|5|0|0|3|0|—|—\n",
    "[ROW] 11: 1915|Southern Intercollegiate|George C. Rogers|5|3|0|2|3|0|—|—\n",
    "[ROW] 12: 1916|Southern Intercollegiate|Harvey O'Brien|6|1|1|4|1|0|—|—\n",
    "[ROW] 13: 1917|Southern Intercollegiate|Harvey O'Brien|3|3|0|1|3|0|—|—\n",
    "[ROW] 14: 1918|Southern Intercollegiate|Harvey O'Brien|0|2|1|0|1|1|—|—\n",
    "[ROW] 15: 1919|Southern Intercollegiate|George C. Rogers|4|4|1|2|4|1|—|—\n",
    "[ROW] 16: 1920|Southern Intercollegiate|Harvey O'Brien|2|6|0|1|5|0|—|—\n",
    "[ROW] 17: 1921|Southern Intercollegiate|Harvey O'Brien|3|3|2|2|3|1|—|—\n",
    "[ROW] 18: 1922|Southern Intercollegiate|Carl Prause|3|5|0|1|2|0|—|—\n",
    "...\n",
    "[ROW] 110: 2014|Southern|Mike Houston|Upcoming|Upcoming|Upcoming|Upcoming|Upcoming|Upcoming|Upcoming|Upcoming\n",
    "[ROW] 111: Totals: 105 Seasons|2 Conferences|23 Head Coaches|Total Wins 473|Total Losses 536|Total Ties 32|239 Conference Wins 55 SIAA 184 SoCon|379 Conference Losses 58 SIAA 321 SoCon|13 Conference Ties 8 SIAA 5 SoCon|Regular Season Champions 2 times|1–0 Bowl Record 1–3 Playoff Record\n",
    "\n",
    "Answer the following question based on the data above: \"which year did the team have their most total wins?\". Execute SQL or Python code step-by-step and finally answer the question. Choose from generating a SQL, Python code, or directly answering the question.\n",
    "\n",
    "SQL: ```SELECT season, total_wins FROM DF;```.\n",
    "\n",
    "The database table DF is shown as follows:\n",
    "[HEAD]: season|total_wins\n",
    "---\n",
    "[ROW] 1: 1905|2\n",
    "[ROW] 2: 1906|3\n",
    "[ROW] 3: 1907|1\n",
    "[ROW] 4: 1908|4\n",
    "[ROW] 5: 1909|4\n",
    "[ROW] 6: 1910|3\n",
    "[ROW] 7: 1911|5\n",
    "[ROW] 8: 1912|3\n",
    "[ROW] 9: 1913|3\n",
    "[ROW] 10: 1914|2\n",
    "[ROW] 11: 1915|5\n",
    "[ROW] 12: 1916|6\n",
    "[ROW] 13: 1917|3\n",
    "[ROW] 14: 1918|0\n",
    "[ROW] 15: 1919|4\n",
    "[ROW] 16: 1920|2\n",
    "[ROW] 17: 1921|3\n",
    "[ROW] 18: 1922|3\n",
    "...\n",
    "[ROW] 110: 2014|Upcoming\n",
    "[ROW] 111: Totals: 105 Seasons|Total Wins 473\n",
    "\n",
    "Answer the following question based on the data above: \"which year did the team have their most total wins?\". Execute SQL or Python code step-by-step and finally answer the question. Choose from generating a SQL, Python code, or directly answering the question.\n",
    "\n",
    "\"\"\"\n",
    "\n",
    "import dotenv\n",
    "config = dotenv.dotenv_values(\".env\")\n",
    "openai.api_key = config['OPENAI_API_KEY']\n",
    "original_output = openai.Completion.create(engine='davinci-codex-002-msft',\n",
    "                                            prompt=prompt,\n",
    "                                            max_tokens=1024,\n",
    "                                            temperature=0,\n",
    "                                            top_p=1,\n",
    "                                            frequency_penalty=0.3,\n",
    "                                            n=1,\n",
    "                                            stream=False,\n",
    "                                            stop='```.')"
   ]
  },
  {
   "cell_type": "code",
   "execution_count": null,
   "id": "4ab59f59-f1fd-4119-b027-a2d4568b3640",
   "metadata": {},
   "outputs": [],
   "source": [
    "original_output"
   ]
  },
  {
   "cell_type": "code",
   "execution_count": null,
   "id": "45e38a7f-0975-4376-85de-1470aaa0a076",
   "metadata": {},
   "outputs": [],
   "source": []
  }
 ],
 "metadata": {
  "kernelspec": {
   "display_name": "Python 3 (ipykernel)",
   "language": "python",
   "name": "python3"
  },
  "language_info": {
   "codemirror_mode": {
    "name": "ipython",
    "version": 3
   },
   "file_extension": ".py",
   "mimetype": "text/x-python",
   "name": "python",
   "nbconvert_exporter": "python",
   "pygments_lexer": "ipython3",
   "version": "3.8.10"
  }
 },
 "nbformat": 4,
 "nbformat_minor": 5
}
