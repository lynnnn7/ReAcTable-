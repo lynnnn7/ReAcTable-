{
 "cells": [
  {
   "cell_type": "code",
   "execution_count": 1,
   "metadata": {},
   "outputs": [],
   "source": [
    "%load_ext autoreload\n",
    "%autoreload 2"
   ]
  },
  {
   "cell_type": "code",
   "execution_count": 2,
   "metadata": {},
   "outputs": [],
   "source": [
    "import re\n",
    "import pandas as pd\n",
    "import openai\n",
    "import os\n",
    "import json\n",
    "from gpt3_sandbox.api.gpt import GPT\n",
    "from gpt3_sandbox.api.gpt import Example\n",
    "from pandasql import sqldf\n",
    "from tqdm import tqdm\n",
    "import numpy as np\n",
    "from GptPrompter import *\n",
    "from AutoReasoner import *\n",
    "\n",
    "dataset = pd.read_csv('./dataset/WikiTableQuestions/data/pristine-unseen-tables.tsv', sep='\\t')"
   ]
  },
  {
   "cell_type": "code",
   "execution_count": 70,
   "metadata": {},
   "outputs": [
    {
     "name": "stdout",
     "output_type": "stream",
     "text": [
      "utterance =  alfie's birthday party aired on january 19. what was the airdate of the next episode?\n",
      "gold answer =  January 26, 1995\n",
      "[HEAD]: series_#|season_#|title|notes|original_air_date\n",
      "-------------------------------------------------------\n",
      "[ROW] 1: 1|1|\\The Charity\\\"\"|Alfie, Dee Dee, and Melanie are supposed to be helping their parents at a carnival by working the dunking booth. When Goo arrives and announces their favorite basketball player, Kendall Gill, is at the Comic Book Store signing autographs, the boys decide to ditch the carnival. This leaves Melanie and Jennifer to work the booth and both end up soaked. But the Comic Book Store is packed and much to Alfie and Dee Dee's surprise their father has to interview Kendall Gill. Goo comes up with a plan to get Alfie and Dee Dee, Gill's signature before getting them back at the local carnival, but are caught by Roger. All ends well for everyone except Alfie and Goo, who must endure being soaked at the dunking booth.|October 15, 1994\n",
      "[ROW] 2: 2|1|\\The Practical Joke War\\\"\"|Alfie and Goo unleash harsh practical jokes on Dee Dee and his friends. Dee Dee, Harry and Donnel retaliate by pulling a practical joke on Alfie with the trick gum. After Alfie and Goo get even with Dee Dee and his friends, Melanie and Deonne help them get even. Soon, Alfie and Goo declare a practical joke war on Melanie, Dee Dee and their friends. This eventually stops when Roger and Jennifer end up on the wrong end of the practical joke war after being announced as the winner of a magazine contest for Best Family Of The Year. They set their children straight for their behavior and will have a talk with their friends' parents as well.|October 22, 1994\n",
      "[ROW] 3: 3|1|\\The Weekend Aunt Helen Came\\\"\"|The boy's mother, Jennifer, leaves for the weekend and she leaves the father, Roger, in charge. However, he lets the kids run wild. Alfie and Dee Dee's Aunt Helen then comes to oversee the house until Jennifer gets back. Meanwhile, Alfie throws a basketball at Goo, which hits him in the head, giving him temporary amnesia. In this case of memory loss, Goo acts like a nerd, does homework on a weekend, wants to be called Milton instead of Goo, and he even calls Alfie Alfred. He is much nicer to Deonne and Dee Dee, but is somewhat rude to Melanie. The only thing that will reverse this is another hit in the head.|November 1, 1994\n",
      "[ROW] 4: 4|1|\\Robin Hood Play\\\"\"|Alfie's school is performing the play Robin Hood and Alfie is chosen to play the part of Robin Hood. Alfie is excited at this prospect, but he does not want to wear tights because he feels that tights are for girls. However, he reconsiders his stance on tights when Dee Dee wisely tells him not to let that affect his performance as Robin Hood.|November 9, 1994\n",
      "[ROW] 5: 5|1|\\Basketball Tryouts\\\"\"|Alfie tries out for the basketball team and doesn't make it even after showing off his basketball skills. However, Harry, Dee Dee and Donnell make the team. Alfie is depressed and doesn't want to attend the celebration party. However, Goo sets him straight by telling him it was his own fault for not being a team player and kept the ball to himself.|November 30, 1994\n",
      "[ROW] 6: 6|1|\\Where's the Snake?\\\"\"|Dee Dee gets a snake, but he doesn't want his parents to know about it. However, things get complicated when he loses the snake in the house. Meanwhile, Melanie and Deonne are assigned by their teacher to take care of her beloved pet rabbit, Duchess for the weekend. This causes both Alfie and Dee Dee to be concerned for Duchess when they learn from Goo that snakes eat rabbits.|December 6, 1994\n",
      "[ROW] 7: 7|1|\\Dee Dee's Girlfriend\\\"\"|A girl kisses Dee Dee in front of Harry and Donnell. They promise not to tell, but it slips and everyone laughs at Dee Dee. Dee Dee ends his friendship with Harry and Donnell and hangs out with Alfie and Goo. Soon, Alfie and Goo finally get the three to talk to each other.|December 15, 1994\n",
      "[ROW] 8: 8|1|\\Dee Dee's Haircut\\\"\"|Dee Dee wants to get a hair cut by Cool Doctor Money and have his name shaved in his head. His parents will not let him do this, but Goo offers to do it for five dollars. However, when Goo messes up Dee Dee's hair and spells his name wrong, his parents find out the truth and Dee Dee is forced to have his hair shaved off. In addition to that, his friends tease him about his bald head, causing a fight between the boys along with Goo and Alfie. In a b-story, Alfie and Goo try to play a practical joke on Dee Dee involving a jalapeño lollipop. It backfires when Roger is the unwitting victim and it leads to him chasing the boys around.|December 20, 1994\n",
      "[ROW] 9: 9|1|\\Dee Dee Runs Away\\\"\"|Dee Dee has been waiting to go to a monster truck show all week. But Alfie and Goo's baseball team makes it to the tournament and everyone forgets about the monster truck show. Dee Dee feels ignored and runs away from home with Harry and Donnell. It's up to Alfie and Goo to try and convince him to come home.|December 28, 1994\n",
      "[ROW] 10: 10|1|'\\Donnell's Birthday Party\\\"\"|Donnell is having a birthday party and brags about all the dancing and cool people who will be there. Harry says that he knows how to dance so Dee Dee feels left out because he doesn't know how to dance. Later on, Harry admits to Dee Dee alone that he can't dance either and only lied so he doesn't get teased by Donnell. So, they ask Alfie to help them learn how to dance. He refuses to help because Dee Dee previously told on him to Roger about his and Goo's plans to cheat on their math quiz. Alfie eventually agrees, after Melanie threatens to refuse to help him with his math homework. Soon Dee Dee and Harry learn Donnell's secret and were forced to teach him how to dance. After the party, Dee Dee tells Alfie about it and finds out that he knew Donnell was a liar.|January 5, 1995\n",
      "[ROW] 11: 11|1|\\Alfie's Birthday Party\\\"\"|Goo and Melanie pretend they are dating and they leave Alfie out of everything. He ends up bored and starts hanging out with Dee Dee and his friends. However, it just isn't the same without Goo. Later on, Alfie learns about the surprise birthday party that Goo and Melanie had been planning with everyone else (except for Dee Dee, who couldn't know since he would've told).|January 19, 1995\n",
      "[ROW] 12: 12|1|\\Candy Sale\\\"\"|Alfie and Goo are selling candy to make money for some expensive jackets, but they are not having any luck. However, when Dee Dee start helping them sell candy, they start to make money and asks him to help them out. Soon Goo and Alfie finds themselves confronted by Melanie, Deonne, Harry and Donnell for Dee Dee's share of the money. They soon learn the boys have used the money to buy three expensive jackets for themselves and Dee Dee as a token of their gratitude. They quickly apologize to Alfie and Goo for their quick judgment.|January 26, 1995\n",
      "[ROW] 13: 13|1|\\The Big Bully\\\"\"|Dee Dee gets beat up at school and his friends try to teach him how to fight back. Goo, however, tells him to bluff, but the plan backfires and Dee Dee gets hit because of it. When Alfie confronts the bully, he learns that Dee Dee was picked on by a girl. Alfie and Goo decide to confront her. However, when some of their classmates, who happen to be the girls' siblings, learn they are bullying their sister, they intervene.|February 2, 1995\n"
     ]
    }
   ],
   "source": [
    "i = 3\n",
    "print(\"utterance = \", dataset.iloc[i][\"utterance\"])\n",
    "print(\"gold answer = \", dataset.iloc[i][\"targetValue\"])\n",
    "df = pd.read_csv(f'./dataset/WikiTableQuestions/{dataset.iloc[i][\"context\"]}', sep=',')\n",
    "\n",
    "table_text = table_formater(df, key_val_pairs=False)\n",
    "print(table_text)"
   ]
  },
  {
   "cell_type": "code",
   "execution_count": null,
   "metadata": {},
   "outputs": [],
   "source": []
  },
  {
   "cell_type": "code",
   "execution_count": 53,
   "metadata": {},
   "outputs": [],
   "source": [
    "prompt = f\"\"\"\n",
    "Convert the following table into multiple text descriptions. \n",
    "Generate comprehensive, self-containing descriptions of the table.\n",
    "\n",
    "The table is:\n",
    "{table_text}\n",
    "\n",
    "The text descriptions are: ```\n",
    "\"\"\"\n",
    "\n",
    "# model = \"davinci-codex-002-msft\"\n",
    "model = \"text-davinci-002\"\n",
    "import dotenv\n",
    "config = dotenv.dotenv_values(\".env\")\n",
    "openai.api_key = config['OPENAI_API_KEY_ms']\n",
    "\n",
    "table_text = openai.Completion.create(engine=model,\n",
    "                        prompt=prompt,\n",
    "                        max_tokens=2048,\n",
    "                        temperature=0,\n",
    "                        top_p=1,\n",
    "                        frequency_penalty=0,\n",
    "                        n=1,\n",
    "                        stream=False,\n",
    "                        stop='```').choices[0].text"
   ]
  },
  {
   "cell_type": "code",
   "execution_count": 54,
   "metadata": {},
   "outputs": [
    {
     "name": "stdout",
     "output_type": "stream",
     "text": [
      "1st: Alejandro Valverde (ESP) - Caisse d'Epargne - 5h 29' 10\",40\"\n",
      "2nd: Alexandr Kolobnev (RUS) - Team CSC Saxo Bank - s.t.\n",
      "3rd: Davide Rebellin (ITA) - Gerolsteiner - s.t.\n",
      "4th: Paolo Bettini (ITA) - Quick Step - s.t.\n",
      "5th: Franco Pellizotti (ITA) - Liquigas - s.t.\n",
      "6th: Denis Menchov (RUS) - Rabobank - s.t.\n",
      "7th: Samuel Sánchez (ESP) - Euskaltel-Euskadi - s.t.\n",
      "8th: Stéphane Goubert (FRA) - Ag2r-La Mondiale - + 2\",5\"\n",
      "9th: Haimar Zubeldia (ESP) - Euskaltel-Euskadi - + 2\",3\"\n",
      "10th: David Moncoutié (FRA) - Cofidis - + 2\",1\"\n"
     ]
    }
   ],
   "source": [
    "print(table_text)"
   ]
  },
  {
   "cell_type": "code",
   "execution_count": 21,
   "metadata": {},
   "outputs": [],
   "source": [
    "prompt = f\"\"\"\n",
    "Answer the following question accoding to the descriptions below: {dataset.iloc[i][\"utterance\"]}.\n",
    "\n",
    "{table_text}\n",
    "\n",
    "The answer is: ```\n",
    "\"\"\"\n",
    "\n",
    "ans = openai.Completion.create(engine=model,\n",
    "                        prompt=prompt,\n",
    "                        max_tokens=2048,\n",
    "                        temperature=0,\n",
    "                        top_p=1,\n",
    "                        frequency_penalty=0,\n",
    "                        n=1,\n",
    "                        stream=False,\n",
    "                        stop='```').choices[0].text"
   ]
  },
  {
   "cell_type": "code",
   "execution_count": 22,
   "metadata": {},
   "outputs": [
    {
     "data": {
      "text/plain": [
       "'\\nThe attendance for the Toros Mexico vs. Monterrey Flash game was 118.'"
      ]
     },
     "execution_count": 22,
     "metadata": {},
     "output_type": "execute_result"
    }
   ],
   "source": [
    "ans"
   ]
  },
  {
   "cell_type": "code",
   "execution_count": null,
   "metadata": {},
   "outputs": [],
   "source": []
  },
  {
   "cell_type": "code",
   "execution_count": 17,
   "metadata": {},
   "outputs": [
    {
     "name": "stderr",
     "output_type": "stream",
     "text": [
      "Warning : `load_model` does not return WordVectorModel or SupervisedModel any more, but a `FastText` object which is very similar.\n"
     ]
    },
    {
     "name": "stdout",
     "output_type": "stream",
     "text": [
      "Loading embeddings\n"
     ]
    },
    {
     "name": "stderr",
     "output_type": "stream",
     "text": [
      "100%|█████████████████████████████████████████████████████████████████████████████████████████████████████████████████████████████████████████████████████████████████████████████████████████████████████████████████████████████████████████████████████████████████████████████████████████████████████████| 14149/14149 [00:13<00:00, 1028.16it/s]\n",
      "100%|█████████████████████████████████████████████████████████████████████████████████████████████████████████████████████████████████████████████████████████████████████████████████████████████████████████████████████████████████████████████████████████████████████████████████████████████████████████████| 4344/4344 [17:28<00:00,  4.14it/s]\n"
     ]
    }
   ],
   "source": [
    "import time\n",
    "\n",
    "# model = 'text-davinci-002'\n",
    "# model = 'text-davinci-003'\n",
    "model = 'davinci-codex-002-msft'\n",
    "\n",
    "ft = fasttext.load_model('/mnt/idm_automapping/cc.en.300.bin')\n",
    "\n",
    "def parallel_gpt_answer_dynamic_few_shot_func(i):\n",
    "    try:\n",
    "        prompter = CodexAnswerNLTable(test_df.iloc[i]['id'], \n",
    "                             test_df.iloc[i]['utterance'], \n",
    "                             test_df.iloc[i]['context'], \n",
    "                             test_df.iloc[i]['targetValue'], \n",
    "                             base_path='./dataset/WikiTableQuestions/')\n",
    "        prompter.model = model\n",
    "        prompter._set_table_nl_desc(table_nl_desc_train, table_nl_desc_test)\n",
    "        prompter._gen_NN_demo(training_data_autoreasoning, all_demo_embeddings, ft, demo_num=3)\n",
    "        prompter._gen_gpt_prompt()\n",
    "        prompter._get_gpt_prediction()\n",
    "        if prompter.gpt_error is None:\n",
    "            prompter._evaluate_result(verbose=False)\n",
    "        log = prompter._log_dict()\n",
    "    except Exception as e:\n",
    "        log = {\n",
    "            'id': test_df.iloc[i]['id'],\n",
    "            'uncaught_err': str(e)\n",
    "        }\n",
    "    if model == 'text-davinci-003':\n",
    "        time.sleep(5)\n",
    "    return log\n",
    "\n",
    "training_data_autoreasoning = json.load(open(f'./dataset/WikiTableQuestions/reasonings/GptReasoner_training.json', 'r'))\n",
    "all_demo_embeddings = None\n",
    "print(\"Loading embeddings\")\n",
    "for train_q in tqdm(training_data_autoreasoning):\n",
    "    if all_demo_embeddings is None:\n",
    "        all_demo_embeddings = get_utterance_embedding(train_q['utterance'], ft).reshape([-1, 1])\n",
    "    else:\n",
    "        all_demo_embeddings = np.append(all_demo_embeddings, get_utterance_embedding(train_q['utterance'], ft).reshape([-1, 1]), axis=1)\n",
    "\n",
    "test_df = pd.read_csv(f'./dataset/WikiTableQuestions/data/pristine-unseen-tables.tsv', sep='\\t', on_bad_lines='skip')\n",
    "table_nl_desc_train = json.load(open('Table2Text_training.json', 'r'))\n",
    "table_nl_desc_test = json.load(open('Table2Text_prestine-unseen-tables.json', 'r'))\n",
    "\n",
    "maxLimit = float('inf')\n",
    "n_threads = 20\n",
    "from joblib import Parallel, delayed\n",
    "res = Parallel(n_jobs=n_threads, require='sharedmem')(delayed(parallel_gpt_answer_dynamic_few_shot_func)(i) for i in tqdm(range(min(maxLimit, test_df.shape[0]))))\n",
    "json.dump(res, open(f'./dataset/WikiTableQuestions/results/GptAnswerNLTable_{model}_fewShot_top3cos_results_pristine-unseen-tables.json', 'w'))"
   ]
  },
  {
   "cell_type": "code",
   "execution_count": 65,
   "metadata": {},
   "outputs": [],
   "source": [
    "table_nl_desc_train = json.load(open('Table2Text_training.json', 'r'))\n",
    "table_nl_desc_test = json.load(open('Table2Text_prestine-unseen-tables.json', 'r'))"
   ]
  },
  {
   "cell_type": "code",
   "execution_count": 66,
   "metadata": {},
   "outputs": [],
   "source": [
    "table_nl_desc_test_tuned = table_nl_desc_test.copy()"
   ]
  },
  {
   "cell_type": "code",
   "execution_count": 28,
   "metadata": {},
   "outputs": [
    {
     "name": "stdout",
     "output_type": "stream",
     "text": [
      "[HEAD]: Match|Date|Venue|Opponents|Score\n",
      "----------------------------------------\n",
      "[ROW] 1: GL-B-1|2008..|[[]]|[[]]|-\n",
      "[ROW] 2: GL-B-2|2008..|[[]]|[[]]|-\n",
      "[ROW] 3: GL-B-3|2008..|[[]]|[[]]|-\n",
      "[ROW] 4: GL-B-4|2008..|[[]]|[[]]|-\n",
      "[ROW] 5: GL-B-5|2008..|[[]]|[[]]|-\n",
      "[ROW] 6: GL-B-6|2008..|[[]]|[[]]|-\n",
      "[ROW] 7: Quarterfinals-1|2008..|[[]]|[[]]|-\n",
      "[ROW] 8: Quarterfinals-2|2008..|[[]]|[[]]|-\n",
      "\n",
      "1. Match 1: 2008. [[]] [[]] -\n",
      "2. Match 2: 2008. [[]] [[]] -\n",
      "3. Match 3: 2008. [[]] [[]] -\n",
      "4. Match 4: 2008. [[]] [[]] -\n",
      "5. Match 5: 2008. [[]] [[]] -\n",
      "6. Match 6: 2008. [[]] [[]] -\n",
      "7. Quarterfinals 1: 2008. [[]] [[]] -\n",
      "8. Quarterfinals 2: 2008. [[]] [[]] -\n"
     ]
    }
   ],
   "source": [
    "i = 24\n",
    "print(table_nl_desc_test[i]['table_text'])\n",
    "print(table_nl_desc_test[i]['nl_text'])"
   ]
  },
  {
   "cell_type": "code",
   "execution_count": 22,
   "metadata": {},
   "outputs": [],
   "source": [
    "table_nl_desc_test_tuned[i]['nl_text']= \"\"\"1. Match GL-B-1: 2008. [[]] [[]] -\n",
    "2. Match GL-B-2: 2008. [[]] [[]] -\n",
    "3. Match GL-B-3: 2008. [[]] [[]] -\n",
    "4. Match GL-B-4: 2008. [[]] [[]] -\n",
    "5. Match GL-B-5: 2008. [[]] [[]] -\n",
    "6. Match GL-B-6: 2008. [[]] [[]] -\n",
    "7. Quarterfinals 1: 2008. [[]] [[]] -\n",
    "8. Quarterfinals 2: 2008. [[]] [[]] -\"\"\""
   ]
  },
  {
   "cell_type": "code",
   "execution_count": 32,
   "metadata": {},
   "outputs": [
    {
     "name": "stdout",
     "output_type": "stream",
     "text": [
      "{\n",
      "  \"choices\": [\n",
      "    {\n",
      "      \"finish_reason\": \"stop\",\n",
      "      \"index\": 0,\n",
      "      \"logprobs\": null,\n",
      "      \"text\": \"gl-b-6\"\n",
      "    }\n",
      "  ],\n",
      "  \"created\": 1673908553,\n",
      "  \"id\": \"cmpl-6ZSMzxo5cFkXbZSG0bpdLKN2i4H5E\",\n",
      "  \"model\": \"davinci-codex-002-msft\",\n",
      "  \"object\": \"text_completion\",\n",
      "  \"usage\": {\n",
      "    \"completion_tokens\": 5,\n",
      "    \"prompt_tokens\": 2258,\n",
      "    \"total_tokens\": 2263\n",
      "  }\n",
      "}\n"
     ]
    }
   ],
   "source": [
    "prompt = f\"\"\"\n",
    "A database table is shown as follows: Component|Model 01|Model 01+|Model 02|Model e2|Model 2+ (Pre-production)|model 03 (China Copy) ------------------------------------------------------------------------------------------------------ [ROW] 1: CPU|Transmeta Crusoe 1 GHz|Transmeta Crusoe 1 GHz|Via C7M ULV 1.6 GHz|Via C7M ULV 1.6 GHz|Intel Atom Z540 1.86 GHz|Intel atom Z550 1.2 GHz dual core [ROW] 2: RAM|256MB DDR|512MB DDR|1GB DDR2|1GB DDR2|2GB DDR2|2GB DDR2 [ROW] 3: Hard Drive|20GB HDD|30GB HDD|120GB HDD or 64GB SSD|120GB HDD or 64GB SSD|120GB HDD or 64GB SSD|120GB HDD or 64GB SSD [ROW] 4: Display|5\\ Transflective 800x480 LCD\"|5\\ Transflective 800x480 LCD\"|5\\ 800x480 LCD\"|5\\ 800x480 LCD\"|5\\ active matrix 800x480 OLED\"|4.8\\ active matrix 1024X600 OLED\" [ROW] 5: USB|1.1|2.0|2.0|2.0|2.0|2.0 [ROW] 6: Wi-Fi|802.11b|802.11b|802.11a/b/g|802.11a/b/g|802.11a/b/g|802.11a/b/g/n [ROW] 7: WWAN|nan|nan|EVDO from Sprint or Verizon|HSDPA|EV-DO and HSPA|HSDPA 3G [ROW] 8: Bluetooth|1.1|1.1|2.0|2.0|2.0|2.1 [ROW] 9: Wacom|Yes|Yes (Improved accuracy)|Yes|Yes|Yes|unknown [ROW] 10: GPU|Silicon motion Lynx 3DM+|Silicon motion Lynx 3DM+|VIA VX700|VIA VX700|Intel GMA500|Intel GMA500 [ROW] 11: Removable Battery|4,000 mAh or 8,000 mAh|4,000 mAh or 8,000 mAh|4,500 mAh or 9,000 mAh|4,500 mAh or 9,000 mAh|4,500 mAh or 9,000 mAh|4,500 mAh or 9,000 mAh [ROW] 12: Battery Type|lithium polymer|Lithium Polymer|lithium ion polymer|lithium ion polymer|lithium ion polymer|unknown [ROW] 13: Docking Cable|USB 1.1|USB 2.0|replaced by dongle or dock|replaced by dongle or dock|replaced by dongle or dock|replaced by dongle or dock [ROW] 14: Dock|Zinc stand|Zinc stand|Gloss Black w/ optical drive|Gloss Black w/ optical drive|Gloss Black w/ optical drive|Gloss Black w/ optical drive [ROW] 15: Ethernet|10BaseT|100BaseT|100BaseT|100BaseT|100BaseT|100BaseT [ROW] 16: Dongle|nan|nan|RJ45 & VGA|RJ45 & VGA|unknown|unknown [ROW] 17: Keyboard|57 key|57 key|58 key|58 key|58 key|58 key [ROW] 18: Weight|397g|397g|413g*|413g*|413g*|426g* Answer the following question based on the data above: \"what component comes after bluetooth?\". The answer is: ```Wacom```. A database table is shown as follows: 1. The Canada-United States border is the location of the Canada-United States border. ND 18 – Cavalier, Larimore is the interesting highway. PTH 30 begins at this point. 2. The R.M. of Rhineland is located in Gretna. PR 243 east – Emerson is the interesting highway. PR 243 west concurrence begins at this point. 3. The R.M. of Rhineland is located in nan. PR 243 west – Blumenfeld is the interesting highway. PR 243 west concurrence ends at this point. 4. The R.M. of Rhineland is located in nan. PR 421 east – Sommerfeld is the interesting highway. 5. The R.M. of Rhineland is located in Altona. PR 201 west – Brown, Windygates, Snowflake is the interesting highway. PR 201 east concurrence begins at this point. 6. The R.M. of Rhineland is located in nan. PR 201 east – Letellier, Dominion City, Stuartburn is the interesting highway. PR 201 east concurrence ends at this point. 7. The R.M. of Rhineland is located in Rosenfeld. PTH 14 – Morden, Winkler, Plum Coulee, Morris is the interesting highway. PR 332 north – Lowe Farm, Brunkild, Starbuck is the interesting highway. PTH 30 ends at this point and the highway continues as PR 332. Answer the following question based on the data above: \"what location comes after gretna?\". The answer is: ```Altona```. A database table is shown as follows: 1. The Complete Series 1: This two-disc set includes all eight episodes from the first series of The Two Ronnies, originally aired in 1971. The DVD was released in the UK on 30 April 2007 and in Australia on 4 July 2007. 2. The Complete Series 2: This two-disc set includes all eight episodes from the second series of The Two Ronnies, originally aired in 1972. The DVD was released in the UK on 2 July 2007 and in Australia on 8 May 2008. 3. The Complete Series 3: This two-disc set includes all eight episodes from the third series of The Two Ronnies, originally aired in 1973-1974. The DVD was released in the UK on 17 March 2008 and in Australia on 5 March 2009. 4. The Complete Series 4: This two-disc set includes all eight episodes from the fourth series of The Two Ronnies, originally aired in 1975. The DVD was released in the UK on 19 May 2008 and in Australia on 6 August 2009. 5. The Complete Series 5: This two-disc set includes all eight episodes from the fifth series of The Two Ronnies, originally aired in 1976. The DVD was released in the UK on 15 June 2009 and in Australia on 4 March 2010. 6. The Complete Series 6: This two-disc set includes all eight episodes from the sixth series of The Two Ronnies, originally aired in 1977-1978. The DVD was released in the UK on 22 February 2010 and in Australia on 5 August 2010. 7. The Complete Series 7: This two-disc set includes all eight episodes from the seventh series of The Two Ronnies, originally aired in 1978-1979. The DVD was released in the UK on 17 May 2010 and in Australia on 3 March 2011. 8. The Complete Series 8: This two-disc set includes all eight episodes from the eighth series of The Two Ronnies, originally aired in 1980. The DVD was released in the UK on 6 September 2010 and in Australia on 2 June 2011. 9. The Complete Series 9: This two-disc set includes all eight episodes from the ninth series of The Two Ronnies, originally aired in 1981-1982. The DVD was released in the UK on 28 February 2011 and in Australia on 1 March 2012. 10. The Complete Series 10: This six-disc set includes all six episodes from the tenth series of The Two Ronnies, originally aired in 1983-1984. The DVD was released in the UK on 9 May 2011 and in Australia on 5 September 2012. 11. The Complete Series 11: This five-disc set includes all five episodes from the eleventh series of The Two Ronnies, originally aired in 1985. The DVD was released in the UK on 25 July 2011 and in Australia on 3 April 2013. 12. The Complete Series 12: This six-disc set includes all six episodes from the twelfth series of The Two Ronnies, originally aired in 1985-1986. The DVD was released in the UK on 26 September 2011 and in Australia on 7 August 2013. 13. The Christmas Specials: This four-disc set includes four Christmas specials from The Two Ronnies, originally aired in 1973, 1982, 1984, and 1987. The DVD was released in the UK on 29 October 2007 and in Australia on 6 November 2008. 14. The Complete Collection: This 27-disc set includes all 96 episodes from The Two Ronnies, originally aired between 1971 and 1987, as well as the 2010 special. The DVD was released in the UK on 24 September 2012 and in Australia in 2013. 15. Two Ronnies In Australia: This two-disc set includes all six episodes from The Two Ronnies' Australian special, originally aired in 1986. The DVD was released in the UK on 28 June 2008. 16. The Best of...Volume 1: This one-disc compilation set includes episodes from the first 14 series of The Two Ronnies, originally aired between 1971 and 1984. The DVD was released in the UK on 1 October 2001 and in Australia on 4 March 2002. 17. The Best of...Volume 2: This one-disc compilation set includes episodes from the first 15 series of The Two Ronnies, originally aired between 1971 and 1985. The DVD was released in the UK on 29 September 2003 and in Australia on 17 March 2003. Answer the following question based on the data above: \"what comes immediately after complete series 11?\". The answer is: ```Complete Series 12```. A database table is shown as follows:{table_nl_desc_test_tuned[i]['nl_text']} Answer the following question based on the data above: \"what Match comes after gl-b-5?\". The answer is: ```\n",
    "\"\"\"\n",
    "\n",
    "ans = openai.Completion.create(engine=model,\n",
    "                        prompt=prompt,\n",
    "                        max_tokens=2048,\n",
    "                        temperature=0,\n",
    "                        top_p=1,\n",
    "                        frequency_penalty=0,\n",
    "                        n=1,\n",
    "                        stream=False,\n",
    "                        stop='```')\n",
    "print(ans)"
   ]
  },
  {
   "cell_type": "code",
   "execution_count": 68,
   "metadata": {},
   "outputs": [
    {
     "name": "stdout",
     "output_type": "stream",
     "text": [
      "[HEAD]: Game|Day|Date|Kickoff|Opponent|Results\n",
      "Score|Results\n",
      "Record|Location|Attendance\n",
      "---------------------------------------------------------------------------------------\n",
      "[ROW] 1: 1|Sunday|November 10|3:05pm|at Las Vegas Legends|L 3–7|0–1|Orleans Arena|1,836\n",
      "[ROW] 2: 2|Sunday|November 17|1:05pm|Monterrey Flash|L 6–10|0–2|UniSantos Park|363\n",
      "[ROW] 3: 3|Saturday|November 23|7:05pm|at Bay Area Rosal|W 10–7|1–2|Cabernet Indoor Sports|652\n",
      "[ROW] 4: 4|Sunday|December 1|1:05pm|Ontario Fury|W 18–4|2–2|UniSantos Park|207\n",
      "[ROW] 5: 5|Saturday|December 14|7:05pm|at Sacramento Surge|W 7–6 (OT)|3–2|Estadio Azteca Soccer Arena|215\n",
      "[ROW] 6: 6|Sunday|December 15|6:00pm|at Bay Area Rosal|L 8–9 (OT)|3–3|Cabernet Indoor Sports|480\n",
      "[ROW] 7: 7|Sunday|December 22|1:05pm|Turlock Express|W 16–8|4–3|UniSantos Park|218\n",
      "[ROW] 8: 8|Saturday|January 4|7:05pm|at Ontario Fury|L 5–12|4–4|Citizens Business Bank Arena|2,653\n",
      "[ROW] 9: 9|Sunday|January 5|1:05pm|San Diego Sockers|L 7–12|4–5|UniSantos Park|388\n",
      "[ROW] 10: 10|Sunday|January 12|1:05pm|Las Vegas Legends|W 10–7|5–5|UniSantos Park|343\n",
      "[ROW] 11: 11|Sunday|January 19|1:05pm|Bay Area Rosal|W 17–7|6–5|UniSantos Park|219\n",
      "[ROW] 12: 12|Sunday|January 26|1:05pm|Sacramento Surge|W 20–6|7–5|UniSantos Park|224\n",
      "[ROW] 13: 13|Saturday|February 1|7:05pm|at San Diego Sockers|L 5–6|7–6|Valley View Casino Center|4,954\n",
      "[ROW] 14: 14|Friday|February 7|7:05pm|at Turlock Express|L 6–9|7–7|Turlock Soccer Complex|673\n",
      "[ROW] 15: 15|Saturday|February 8|7:05pm|at Sacramento Surge|W 10–6|8–7|Estadio Azteca Soccer Arena|323\n",
      "[ROW] 16: 16|Saturday|February 15♥|5:05pm|Bay Area Rosal|W 27–2|9–7|UniSantos Park|118\n",
      "\n",
      "1. The table lists the game, day, date, kickoff, opponent, results, score, results, record, location, and attendance for the San Diego Sockers' 2013-2014 season.\n",
      "2. The Sockers began the season with a loss to the Las Vegas Legends, but followed it up with a win against the Monterrey Flash.\n",
      "3. The team's first home game was a win against the Bay Area Rosal, but they lost their next game against the Ontario Fury.\n",
      "4. The Sockers won their next two games, against the Sacramento Surge and the Bay Area Rosal, before losing to the Turlock Express.\n",
      "5. The team then went on a four-game losing streak, against the Ontario Fury, San Diego Sockers, Las Vegas Legends, and Bay Area Rosal.\n",
      "6. The Sockers ended the losing streak with a win against the Sacramento Surge, but then lost their next game to the San Diego Sockers.\n",
      "7. The team finished the season with a win against the Las Vegas Legends.\n"
     ]
    }
   ],
   "source": [
    "print(table_nl_desc_test[7]['table_text'])\n",
    "print(table_nl_desc_test[7]['nl_text'])"
   ]
  },
  {
   "cell_type": "code",
   "execution_count": null,
   "metadata": {},
   "outputs": [],
   "source": []
  }
 ],
 "metadata": {
  "kernelspec": {
   "display_name": "Python 3",
   "language": "python",
   "name": "python3"
  },
  "language_info": {
   "codemirror_mode": {
    "name": "ipython",
    "version": 3
   },
   "file_extension": ".py",
   "mimetype": "text/x-python",
   "name": "python",
   "nbconvert_exporter": "python",
   "pygments_lexer": "ipython3",
   "version": "3.8.5"
  }
 },
 "nbformat": 4,
 "nbformat_minor": 5
}
