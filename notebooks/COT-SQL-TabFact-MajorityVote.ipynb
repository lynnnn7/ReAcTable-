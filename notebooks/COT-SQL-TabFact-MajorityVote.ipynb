{
 "cells": [
  {
   "cell_type": "code",
   "execution_count": 6,
   "id": "c7fa0fb0-dbd8-4ec5-8b5d-b9c237455edd",
   "metadata": {},
   "outputs": [],
   "source": [
    "# %load_ext autoreload\n",
    "# %autoreload 2"
   ]
  },
  {
   "cell_type": "code",
   "execution_count": 1,
   "id": "c54b74f4-099c-4f47-89f2-305d54d6c866",
   "metadata": {},
   "outputs": [],
   "source": [
    "import re\n",
    "import pandas as pd\n",
    "import openai\n",
    "import os\n",
    "import json\n",
    "# from gpt3_sandbox.api.gpt import GPT\n",
    "# from gpt3_sandbox.api.gpt import Example\n",
    "from pandasql import sqldf\n",
    "from tqdm import tqdm\n",
    "import numpy as np\n",
    "from GptPrompter import *\n",
    "from GptCOTPrompter import *\n",
    "from GptCOTPrompter_BeamSeach import *\n",
    "from AutoReasoner import *\n",
    "import dotenv\n",
    "\n",
    "config = dotenv.dotenv_values(\".env\")\n",
    "openai.api_type = 'azure'\n",
    "openai.api_base = 'https://meta-prompter-az-openai.openai.azure.com'\n",
    "openai.api_version = '2022-12-01'\n",
    "openai.api_key = config['OPENAI_API_KEY_ms']\n",
    "\n",
    "dataset = pd.read_csv('./dataset/Table-Fact-Checking/small_test.csv', sep=',')\n",
    "# dataset = pd.read_csv('./dataset/Table-Fact-Checking/small_test_sample10.csv', sep=',')\n",
    "# dataset = pd.read_csv('./dataset/Table-Fact-Checking/train_sample.csv', sep=',')\n",
    "# dataset = pd.read_csv('./dataset/WikiTableQuestions/data/training.tsv', sep='\\t')\n",
    "\n",
    "ft = None"
   ]
  },
  {
   "cell_type": "code",
   "execution_count": 2,
   "id": "d06372ed-62f4-432d-b52a-2d5fe319bf41",
   "metadata": {},
   "outputs": [],
   "source": [
    "# import fasttext\n",
    "# ft = fasttext.load_model('/mnt/idm_automapping/cc.en.300.bin')"
   ]
  },
  {
   "cell_type": "code",
   "execution_count": 3,
   "id": "a7f7e375-ef7d-40ae-b0c8-0551d93e6c41",
   "metadata": {
    "tags": []
   },
   "outputs": [
    {
     "name": "stderr",
     "output_type": "stream",
     "text": [
      "  3%|██████▊                                                                                                                                                                                                                                    | 58/1998 [04:08<2:19:23,  4.31s/it]"
     ]
    },
    {
     "name": "stdout",
     "output_type": "stream",
     "text": [
      "Error: string indices must be integers\n",
      "Error: string indices must be integers\n",
      "Error: string indices must be integers\n"
     ]
    },
    {
     "name": "stderr",
     "output_type": "stream",
     "text": [
      "  8%|██████████████████                                                                                                                                                                                                                        | 154/1998 [11:53<2:38:03,  5.14s/it]"
     ]
    },
    {
     "name": "stdout",
     "output_type": "stream",
     "text": [
      "357\n"
     ]
    },
    {
     "name": "stderr",
     "output_type": "stream",
     "text": [
      " 16%|█████████████████████████████████████                                                                                                                                                                                                     | 316/1998 [25:33<2:09:19,  4.61s/it]"
     ]
    },
    {
     "name": "stdout",
     "output_type": "stream",
     "text": [
      "-74.63999999999999\n"
     ]
    },
    {
     "name": "stderr",
     "output_type": "stream",
     "text": [
      " 17%|███████████████████████████████████████                                                                                                                                                                                                   | 334/1998 [27:02<2:07:32,  4.60s/it]"
     ]
    },
    {
     "name": "stdout",
     "output_type": "stream",
     "text": [
      "4\n"
     ]
    },
    {
     "name": "stderr",
     "output_type": "stream",
     "text": [
      " 21%|█████████████████████████████████████████████████▋                                                                                                                                                                                        | 424/1998 [34:11<2:13:22,  5.08s/it]"
     ]
    },
    {
     "name": "stdout",
     "output_type": "stream",
     "text": [
      "Connecting to SQLite for execution code: SELECT call_sign FROM DF0 WHERE SUBSTR(call_sign, 1, 2)=\"w2\";.\n",
      "Connecting to SQLite for execution code: SELECT call_sign FROM DF0 WHERE SUBSTR(call_sign, 1, 2)=\"w2\";.\n",
      "Connecting to SQLite for execution code: SELECT call_sign FROM DF0 WHERE SUBSTR(call_sign, 1, 2)=\"w2\";.\n"
     ]
    },
    {
     "name": "stderr",
     "output_type": "stream",
     "text": [
      " 21%|██████████████████████████████████████████████████▏                                                                                                                                                                                       | 428/1998 [34:45<2:59:51,  6.87s/it]"
     ]
    },
    {
     "name": "stdout",
     "output_type": "stream",
     "text": [
      "2\n"
     ]
    },
    {
     "name": "stderr",
     "output_type": "stream",
     "text": [
      " 41%|██████████████████████████████████████████████████████████████████████████████████████████████▌                                                                                                                                         | 814/1998 [1:04:09<1:34:00,  4.76s/it]"
     ]
    },
    {
     "name": "stdout",
     "output_type": "stream",
     "text": [
      "0\n"
     ]
    },
    {
     "name": "stderr",
     "output_type": "stream",
     "text": [
      " 41%|███████████████████████████████████████████████████████████████████████████████████████████████▍                                                                                                                                        | 822/1998 [1:04:53<1:42:23,  5.22s/it]"
     ]
    },
    {
     "name": "stdout",
     "output_type": "stream",
     "text": [
      "Connecting to SQLite for execution code: SELECT * FROM DF0 WHERE LOWER(team_1)=\"saint-louis fc\" OR LOWER(team_2)=\"saint-louis fc\";.\n",
      "Connecting to SQLite for execution code: SELECT * FROM DF0 WHERE LOWER(team_1)=\"saint-louis fc\" OR LOWER(team_2)=\"saint-louis fc\";.\n"
     ]
    },
    {
     "name": "stderr",
     "output_type": "stream",
     "text": [
      " 47%|████████████████████████████████████████████████████████████████████████████████████████████████████████████▏                                                                                                                           | 932/1998 [1:13:50<1:09:31,  3.91s/it]"
     ]
    },
    {
     "name": "stdout",
     "output_type": "stream",
     "text": [
      "-551.0\n",
      "12.0\n"
     ]
    },
    {
     "name": "stderr",
     "output_type": "stream",
     "text": [
      " 48%|███████████████████████████████████████████████████████████████████████████████████████████████████████████████▏                                                                                                                        | 958/1998 [1:16:10<1:29:44,  5.18s/it]"
     ]
    },
    {
     "name": "stdout",
     "output_type": "stream",
     "text": [
      "yes\n"
     ]
    },
    {
     "name": "stderr",
     "output_type": "stream",
     "text": [
      " 50%|███████████████████████████████████████████████████████████████████████████████████████████████████████████████████▌                                                                                                                   | 1000/1998 [1:19:31<1:31:46,  5.52s/it]"
     ]
    },
    {
     "name": "stdout",
     "output_type": "stream",
     "text": [
      "Connecting to SQLite for execution code: SELECT ABS(0-6) FROM DF1;.\n",
      "Connecting to SQLite for execution code: SELECT ABS(0-6) FROM DF1;.\n",
      "Connecting to SQLite for execution code: SELECT ABS(0-6) FROM DF1;.\n"
     ]
    },
    {
     "name": "stderr",
     "output_type": "stream",
     "text": [
      " 53%|██████████████████████████████████████████████████████████████████████████████████████████████████████████████████████████▎                                                                                                            | 1058/1998 [1:24:19<1:29:32,  5.72s/it]"
     ]
    },
    {
     "name": "stdout",
     "output_type": "stream",
     "text": [
      "Connecting to SQLite for execution code: SELECT ABS(150.5-150.34) AS abs_diff;.\n"
     ]
    },
    {
     "name": "stderr",
     "output_type": "stream",
     "text": [
      " 53%|███████████████████████████████████████████████████████████████████████████████████████████████████████████████████████████                                                                                                            | 1064/1998 [1:24:42<1:11:27,  4.59s/it]"
     ]
    },
    {
     "name": "stdout",
     "output_type": "stream",
     "text": [
      "Connecting to SQLite for execution code: SELECT team, (CAST(won AS FLOAT) / CAST(total AS FLOAT)) AS percent_won FROM (SELECT team, (CAST(home_won AS FLOAT) + CAST(away_won AS FLOAT)) AS won, (CAST(home_won AS FLOAT) + CAST(home_lost AS FLOAT) + CAST(away_won AS FLOAT) + CAST(away_lost AS FLOAT)) AS total FROM (SELECT team, SPLIT_PART(home, ' - ', 1) AS home_won, SPLIT_PART(home, ' - ', 2) AS home_lost, SPLIT_PART(away, ' - ', 1) AS away_won, SPLIT_PART(away, ' - ', 2) AS away_lost FROM (SELECT team, SPLIT_PART(last_5, ' ' , 1) AS home, SPLIT_PART(last_5, ' ', 2) AS away FROM DF0) AS T1) AS T2) AS T3 ORDER BY percent_won DESC;.\n",
      "Connecting to SQLite for execution code: SELECT team, (CAST(won AS FLOAT) / CAST(total AS FLOAT)) AS percent_won FROM (SELECT team, (CAST(home_won AS FLOAT) + CAST(away_won AS FLOAT)) AS won, (CAST(home_won AS FLOAT) + CAST(home_lost AS FLOAT) + CAST(away_won AS FLOAT) + CAST(away_lost AS FLOAT)) AS total FROM (SELECT team, SPLIT_PART(home, ' - ', 1) AS home_won, SPLIT_PART(home, ' - ', 2) AS home_lost, SPLIT_PART(away, ' - ', 1) AS away_won, SPLIT_PART(away, ' - ', 2) AS away_lost FROM (SELECT team, SPLIT_PART(last_5, ' ' , 1) AS home, SPLIT_PART(last_5, ' ', 2) AS away FROM DF0) AS T1) AS T2) AS T3 ORDER BY percent_won DESC;.\n",
      "Connecting to SQLite for execution code: SELECT team, (CAST(won AS FLOAT) / CAST(total AS FLOAT)) AS percent_won FROM (SELECT team, (CAST(home_won AS FLOAT) + CAST(away_won AS FLOAT)) AS won, (CAST(home_won AS FLOAT) + CAST(home_lost AS FLOAT) + CAST(away_won AS FLOAT) + CAST(away_lost AS FLOAT)) AS total FROM (SELECT team, SPLIT_PART(home, ' - ', 1) AS home_won, SPLIT_PART(home, ' - ', 2) AS home_lost, SPLIT_PART(away, ' - ', 1) AS away_won, SPLIT_PART(away, ' - ', 2) AS away_lost FROM (SELECT team, SPLIT_PART(last_5, ' ' , 1) AS home, SPLIT_PART(last_5, ' ', 2) AS away FROM DF0) AS T1) AS T2) AS T3 ORDER BY percent_won DESC;.\n"
     ]
    },
    {
     "name": "stderr",
     "output_type": "stream",
     "text": [
      " 56%|████████████████████████████████████████████████████████████████████████████████████████████████████████████████████████████████▊                                                                                                      | 1114/1998 [1:28:52<1:07:31,  4.58s/it]<string>:10: FutureWarning: Inferring datetime64[ns] from data containing strings is deprecated and will be removed in a future version. To retain the old behavior explicitly pass Series(data, dtype=datetime64[ns])\n",
      " 60%|██████████████████████████████████████████████████████████████████████████████████████████████████████████████████████████████████████████▌                                                                                            | 1198/1998 [1:36:21<1:18:53,  5.92s/it]"
     ]
    },
    {
     "name": "stdout",
     "output_type": "stream",
     "text": [
      "Connecting to SQLite for execution code: SELECT venue, ABS(crowd) FROM DF1 WHERE venue=\"princes park\" or venue=\"junction oval\";.\n",
      "Connecting to SQLite for execution code: SELECT venue, ABS(crowd) FROM DF1 WHERE venue=\"princes park\" or venue=\"junction oval\";.\n",
      "Connecting to SQLite for execution code: SELECT venue, ABS(crowd) FROM DF1 WHERE venue=\"princes park\" or venue=\"junction oval\";.\n",
      "Connecting to SQLite for execution code: SELECT venue, ABS(crowd) FROM DF1 WHERE venue=\"princes park\" or venue=\"junction oval\";.\n",
      "Connecting to SQLite for execution code: SELECT venue, ABS(crowd) FROM DF1 WHERE venue=\"princes park\" or venue=\"junction oval\";.\n",
      "Connecting to SQLite for execution code: SELECT venue, ABS(crowd) FROM DF1 WHERE venue=\"princes park\" or venue=\"junction oval\";.\n"
     ]
    },
    {
     "name": "stderr",
     "output_type": "stream",
     "text": [
      " 63%|███████████████████████████████████████████████████████████████████████████████████████████████████████████████████████████████████████████████████▊                                                                                     | 1268/1998 [1:42:22<58:26,  4.80s/it]"
     ]
    },
    {
     "name": "stdout",
     "output_type": "stream",
     "text": [
      "Error: string indices must be integers\n",
      "Error: string indices must be integers\n",
      "Error: string indices must be integers\n"
     ]
    },
    {
     "name": "stderr",
     "output_type": "stream",
     "text": [
      " 64%|████████████████████████████████████████████████████████████████████████████████████████████████████████████████████████████████████████████████████                                                                                     | 1270/1998 [1:42:29<55:07,  4.54s/it]"
     ]
    },
    {
     "name": "stdout",
     "output_type": "stream",
     "text": [
      "Connecting to SQLite for execution code: SELECT SUM(SUBSTR(results, 1, 1)) FROM DF1;.\n",
      "Connecting to SQLite for execution code: SELECT SUM(SUBSTR(results, 1, 1)) FROM DF1;.\n",
      "Connecting to SQLite for execution code: SELECT SUM(SUBSTR(results, 1, 1)) FROM DF1;.\n",
      "Connecting to SQLite for execution code: SELECT SUM(SUBSTR(results, 1, 1)) FROM DF1;.\n",
      "Connecting to SQLite for execution code: SELECT SUM(SUBSTR(results, 1, 1)) FROM DF1;.\n",
      "Connecting to SQLite for execution code: SELECT SUM(SUBSTR(results, 1, 1)) FROM DF1;.\n",
      "Connecting to SQLite for execution code: SELECT SUM(SUBSTR(results, 1, 1)) FROM DF1;.\n",
      "Connecting to SQLite for execution code: SELECT SUM(SUBSTR(results, 1, 1)) FROM DF1;.\n",
      "Connecting to SQLite for execution code: SELECT SUM(SUBSTR(results, 1, 1)) FROM DF1;.\n",
      "Connecting to SQLite for execution code: SELECT SUM(SUBSTR(results, 1, 1)) FROM DF1;.\n"
     ]
    },
    {
     "name": "stderr",
     "output_type": "stream",
     "text": [
      " 68%|██████████████████████████████████████████████████████████████████████████████████████████████████████████████████████████████████████████████████████████████▊                                                                          | 1362/1998 [1:50:24<54:22,  5.13s/it]"
     ]
    },
    {
     "name": "stdout",
     "output_type": "stream",
     "text": [
      "58.03999999999999\n"
     ]
    },
    {
     "name": "stderr",
     "output_type": "stream",
     "text": [
      " 69%|████████████████████████████████████████████████████████████████████████████████████████████████████████████████████████████████████████████████████████████████▍                                                                        | 1376/1998 [1:51:28<50:30,  4.87s/it]"
     ]
    },
    {
     "name": "stdout",
     "output_type": "stream",
     "text": [
      "Connecting to SQLite for execution code: SELECT episode FROM DF0 WHERE UPPER(episode) LIKE \"% GARY %\" AND UPPER(episode) LIKE \"% ALLISON %\";.\n",
      "Connecting to SQLite for execution code: SELECT episode FROM DF0 WHERE UPPER(episode) LIKE \"% GARY %\" AND UPPER(episode) LIKE \"% ALLISON %\";.\n"
     ]
    },
    {
     "name": "stderr",
     "output_type": "stream",
     "text": [
      " 69%|████████████████████████████████████████████████████████████████████████████████████████████████████████████████████████████████████████████████████████████████▉                                                                        | 1380/1998 [1:51:42<42:17,  4.11s/it]"
     ]
    },
    {
     "name": "stdout",
     "output_type": "stream",
     "text": [
      "Error: Requests to the Completions_Create Operation under Azure OpenAI API version 2022-12-01 have exceeded call rate limit of your current OpenAI S0 pricing tier. Please retry after 1 second. Please go here: https://aka.ms/oai/quotaincrease if you would like to further increase the default rate limit.\n",
      "Rate limit detacted. Retrying after 20sec.\n"
     ]
    },
    {
     "name": "stderr",
     "output_type": "stream",
     "text": [
      " 71%|██████████████████████████████████████████████████████████████████████████████████████████████████████████████████████████████████████████████████████████████████████▌                                                                  | 1428/1998 [1:56:00<52:41,  5.55s/it]"
     ]
    },
    {
     "name": "stdout",
     "output_type": "stream",
     "text": [
      "Error: string indices must be integers\n",
      "Error: string indices must be integers\n",
      "Error: string indices must be integers\n"
     ]
    },
    {
     "name": "stderr",
     "output_type": "stream",
     "text": [
      " 72%|████████████████████████████████████████████████████████████████████████████████████████████████████████████████████████████████████████████████████████████████████████▍                                                                | 1444/1998 [1:57:11<36:47,  3.98s/it]"
     ]
    },
    {
     "name": "stdout",
     "output_type": "stream",
     "text": [
      "Error: string indices must be integers\n",
      "Error: string indices must be integers\n",
      "Error: string indices must be integers\n"
     ]
    },
    {
     "name": "stderr",
     "output_type": "stream",
     "text": [
      " 75%|██████████████████████████████████████████████████████████████████████████████████████████████████████████████████████████████████████████████████████████████████████████████▏                                                          | 1494/1998 [2:01:21<40:21,  4.80s/it]"
     ]
    },
    {
     "name": "stdout",
     "output_type": "stream",
     "text": [
      "Connecting to SQLite for execution code: SELECT ABS(m1-m2) as diff FROM (SELECT money as m1, money as m2 FROM DF2) as df;.\n",
      "Connecting to SQLite for execution code: SELECT ABS(m1-m2) as diff FROM (SELECT money as m1, money as m2 FROM DF2) as df;.\n",
      "Connecting to SQLite for execution code: SELECT ABS(m1-m2) as diff FROM (SELECT money as m1, money as m2 FROM DF2) as df;.\n",
      "Connecting to SQLite for execution code: SELECT ABS(m1-m2) as diff FROM (SELECT money as m1, money as m2 FROM DF2) as df;.\n"
     ]
    },
    {
     "name": "stderr",
     "output_type": "stream",
     "text": [
      " 75%|███████████████████████████████████████████████████████████████████████████████████████████████████████████████████████████████████████████████████████████████████████████████▍                                                         | 1504/1998 [2:02:12<36:41,  4.46s/it]"
     ]
    },
    {
     "name": "stdout",
     "output_type": "stream",
     "text": [
      "Connecting to SQLite for execution code: SELECT ROUND(avg(score)) FROM DF0 WHERE country=\"japan\";.\n",
      "Connecting to SQLite for execution code: SELECT ROUND(avg(score)) FROM DF0 WHERE country=\"japan\";.\n",
      "Connecting to SQLite for execution code: SELECT ROUND(avg(score)) FROM DF0 WHERE country=\"japan\";.\n",
      "Connecting to SQLite for execution code: SELECT ROUND(avg(score)) FROM DF0 WHERE country=\"japan\";.\n",
      "Connecting to SQLite for execution code: SELECT ROUND(avg(score)) FROM DF0 WHERE country=\"japan\";.\n",
      "Connecting to SQLite for execution code: SELECT ROUND(avg(score)) FROM DF0 WHERE country=\"japan\";.\n"
     ]
    },
    {
     "name": "stderr",
     "output_type": "stream",
     "text": [
      " 76%|█████████████████████████████████████████████████████████████████████████████████████████████████████████████████████████████████████████████████████████████████████████████████▎                                                       | 1520/1998 [2:03:28<34:27,  4.33s/it]"
     ]
    },
    {
     "name": "stdout",
     "output_type": "stream",
     "text": [
      "3.9499999999999993\n"
     ]
    },
    {
     "name": "stderr",
     "output_type": "stream",
     "text": [
      " 83%|████████████████████████████████████████████████████████████████████████████████████████████████████████████████████████████████████████████████████████████████████████████████████████████████▍                                        | 1650/1998 [2:13:54<26:41,  4.60s/it]"
     ]
    },
    {
     "name": "stdout",
     "output_type": "stream",
     "text": [
      "Error: Requests to the Completions_Create Operation under Azure OpenAI API version 2022-12-01 have exceeded call rate limit of your current OpenAI S0 pricing tier. Please retry after 1 second. Please go here: https://aka.ms/oai/quotaincrease if you would like to further increase the default rate limit.\n",
      "Rate limit detacted. Retrying after 20sec.\n"
     ]
    },
    {
     "name": "stderr",
     "output_type": "stream",
     "text": [
      " 84%|███████████████████████████████████████████████████████████████████████████████████████████████████████████████████████████████████████████████████████████████████████████████████████████████████▏                                     | 1674/1998 [2:15:44<20:43,  3.84s/it]"
     ]
    },
    {
     "name": "stdout",
     "output_type": "stream",
     "text": [
      "Error: Requests to the Completions_Create Operation under Azure OpenAI API version 2022-12-01 have exceeded call rate limit of your current OpenAI S0 pricing tier. Please retry after 1 second. Please go here: https://aka.ms/oai/quotaincrease if you would like to further increase the default rate limit.\n",
      "Rate limit detacted. Retrying after 20sec.\n"
     ]
    },
    {
     "name": "stderr",
     "output_type": "stream",
     "text": [
      " 86%|█████████████████████████████████████████████████████████████████████████████████████████████████████████████████████████████████████████████████████████████████████████████████████████████████████████▎                               | 1726/1998 [2:20:27<24:19,  5.37s/it]"
     ]
    },
    {
     "name": "stdout",
     "output_type": "stream",
     "text": [
      "yes\n"
     ]
    },
    {
     "name": "stderr",
     "output_type": "stream",
     "text": [
      " 93%|███████████████████████████████████████████████████████████████████████████████████████████████████████████████████████████████████████████████████████████████████████████████████████████████████████████████████████▉                 | 1852/1998 [2:30:32<11:29,  4.73s/it]"
     ]
    },
    {
     "name": "stdout",
     "output_type": "stream",
     "text": [
      "Connecting to SQLite for execution code: SELECT CAST(ratings AS DECIMAL) - CAST(\"13.4%\" AS DECIMAL) FROM DF2;.\n",
      "Connecting to SQLite for execution code: SELECT CAST(ratings AS DECIMAL) - CAST(\"13.4%\" AS DECIMAL) FROM DF2;.\n",
      "Connecting to SQLite for execution code: SELECT CAST(ratings AS DECIMAL) - CAST(\"13.4%\" AS DECIMAL) FROM DF2;.\n",
      "Connecting to SQLite for execution code: SELECT CAST(ratings AS DECIMAL) - CAST(\"13.4%\" AS DECIMAL) FROM DF2;.\n",
      "Connecting to SQLite for execution code: SELECT CAST(ratings AS DECIMAL) - CAST(\"13.4%\" AS DECIMAL) FROM DF2;.\n",
      "Connecting to SQLite for execution code: SELECT CAST(ratings AS DECIMAL) - CAST(\"13.4%\" AS DECIMAL) FROM DF2;.\n",
      "Connecting to SQLite for execution code: SELECT CAST(ratings AS DECIMAL) - CAST(\"13.4%\" AS DECIMAL) FROM DF2;.\n",
      "Connecting to SQLite for execution code: SELECT CAST(ratings AS DECIMAL) - CAST(\"13.4%\" AS DECIMAL) FROM DF2;.\n"
     ]
    },
    {
     "name": "stderr",
     "output_type": "stream",
     "text": [
      " 94%|██████████████████████████████████████████████████████████████████████████████████████████████████████████████████████████████████████████████████████████████████████████████████████████████████████████████████████████               | 1870/1998 [2:32:18<12:29,  5.85s/it]"
     ]
    },
    {
     "name": "stdout",
     "output_type": "stream",
     "text": [
      "Connecting to SQLite for execution code: \n",
      "CREATE TABLE DF0_tmp AS SELECT * FROM DF0;\n",
      "UPDATE DF0_tmp SET score=REPLACE(score, ' - ', ':');\n",
      "UPDATE DF0_tmp SET result=REPLACE(result, ' - ', ':');.\n",
      "Connecting to SQLite for execution code: \n",
      "CREATE TABLE DF0_tmp AS SELECT * FROM DF0;\n",
      "UPDATE DF0_tmp SET score=REPLACE(score, ' - ', ':');\n",
      "UPDATE DF0_tmp SET result=REPLACE(result, ' - ', ':');.\n",
      "Connecting to SQLite for execution code: \n",
      "CREATE TABLE DF0_tmp AS SELECT * FROM DF0;\n",
      "UPDATE DF0_tmp SET score=REPLACE(score, ' - ', ':');\n",
      "UPDATE DF0_tmp SET result=REPLACE(result, ' - ', ':');.\n"
     ]
    },
    {
     "name": "stderr",
     "output_type": "stream",
     "text": [
      "100%|████████████████████████████████████████████████████████████████████████████████████████████████████████████████████████████████████████████████████████████████████████████████████████████████████████████████████████████████████████▊| 1996/1998 [2:42:54<00:08,  4.45s/it]"
     ]
    },
    {
     "name": "stdout",
     "output_type": "stream",
     "text": [
      "Connecting to SQLite for execution code: SELECT ABS(SUBSTR(score, 1, 1) - SUBSTR(score, -1, 1)) FROM DF0 WHERE date=\"february 10\";.\n",
      "Connecting to SQLite for execution code: SELECT ABS(SUBSTR(score, 1, 1) - SUBSTR(score, -1, 1)) FROM DF0 WHERE date=\"february 10\";.\n",
      "Connecting to SQLite for execution code: SELECT ABS(SUBSTR(score, 1, 1) - SUBSTR(score, -1, 1)) FROM DF0 WHERE date=\"february 10\";.\n",
      "Connecting to SQLite for execution code: SELECT ABS(SUBSTR(score, 1, 1) - SUBSTR(score, -1, 1)) FROM DF0 WHERE date=\"february 10\";.\n",
      "Connecting to SQLite for execution code: SELECT ABS(SUBSTRING_INDEX(SUBSTRING_INDEX(score, \" - \", 1), \" - \", -1) - SUBSTRING_INDEX(SUBSTRING_INDEX(score, \" - \", 2), \" - \", -1)) FROM DF0 WHERE date=\"february 10\" OR date=\"february 24\";.\n",
      "Connecting to SQLite for execution code: SELECT ABS(SUBSTRING_INDEX(SUBSTRING_INDEX(score, \" - \", 1), \" - \", -1) - SUBSTRING_INDEX(SUBSTRING_INDEX(score, \" - \", 2), \" - \", -1)) FROM DF0 WHERE date=\"february 10\" OR date=\"february 24\";.\n",
      "Connecting to SQLite for execution code: SELECT ABS(SUBSTRING_INDEX(SUBSTRING_INDEX(score, \" - \", 1), \" - \", -1) - SUBSTRING_INDEX(SUBSTRING_INDEX(score, \" - \", 2), \" - \", -1)) FROM DF0 WHERE date=\"february 10\" OR date=\"february 24\";.\n",
      "Connecting to SQLite for execution code: SELECT ABS(SUBSTRING_INDEX(SUBSTRING_INDEX(score, \" - \", 1), \" - \", -1) - SUBSTRING_INDEX(SUBSTRING_INDEX(score, \" - \", 2), \" - \", -1)) FROM DF0 WHERE date=\"february 10\" OR date=\"february 24\";.\n",
      "Connecting to SQLite for execution code: SELECT ABS(SUBSTRING_INDEX(SUBSTRING_INDEX(score, \" - \", 1), \" - \", -1) - SUBSTRING_INDEX(SUBSTRING_INDEX(score, \" - \", 2), \" - \", -1)) FROM DF0 WHERE date=\"february 10\" OR date=\"february 24\";.\n"
     ]
    },
    {
     "name": "stderr",
     "output_type": "stream",
     "text": [
      "100%|█████████████████████████████████████████████████████████████████████████████████████████████████████████████████████████████████████████████████████████████████████████████████████████████████████████████████████████████████████████| 1998/1998 [2:43:02<00:00,  4.90s/it]\n"
     ]
    },
    {
     "name": "stdout",
     "output_type": "stream",
     "text": [
      "1\n",
      "4\n",
      "6\n",
      "10\n",
      "14\n",
      "21\n",
      "26\n",
      "28\n",
      "29\n",
      "43\n",
      "47\n",
      "50\n",
      "57\n",
      "59\n",
      "64\n",
      "72\n",
      "79\n",
      "80\n",
      "82\n",
      "91\n",
      "102\n",
      "109\n",
      "112\n",
      "115\n",
      "117\n",
      "119\n",
      "124\n",
      "128\n",
      "133\n",
      "135\n",
      "140\n",
      "146\n",
      "156\n",
      "160\n",
      "164\n",
      "172\n",
      "174\n",
      "181\n",
      "184\n",
      "185\n",
      "186\n",
      "187\n",
      "191\n",
      "194\n",
      "201\n",
      "204\n",
      "208\n",
      "213\n",
      "214\n",
      "218\n",
      "227\n",
      "229\n",
      "234\n",
      "240\n",
      "244\n",
      "246\n",
      "249\n",
      "250\n",
      "257\n",
      "259\n",
      "260\n",
      "263\n",
      "280\n",
      "281\n",
      "285\n",
      "289\n",
      "297\n",
      "310\n",
      "313\n",
      "317\n",
      "325\n",
      "328\n",
      "335\n",
      "338\n",
      "343\n",
      "363\n",
      "368\n",
      "398\n",
      "401\n",
      "415\n",
      "419\n",
      "425\n",
      "429\n",
      "437\n",
      "440\n",
      "442\n",
      "448\n",
      "449\n",
      "457\n",
      "460\n",
      "468\n",
      "470\n",
      "472\n",
      "474\n",
      "477\n",
      "482\n",
      "484\n",
      "501\n",
      "504\n",
      "505\n",
      "511\n",
      "513\n",
      "514\n",
      "519\n",
      "525\n",
      "533\n",
      "534\n",
      "535\n",
      "537\n",
      "543\n",
      "545\n",
      "546\n",
      "547\n",
      "561\n",
      "571\n",
      "572\n",
      "576\n",
      "582\n",
      "583\n",
      "584\n",
      "586\n",
      "589\n",
      "591\n",
      "594\n",
      "596\n",
      "599\n",
      "600\n",
      "607\n",
      "609\n",
      "612\n",
      "616\n",
      "618\n",
      "623\n",
      "635\n",
      "642\n",
      "644\n",
      "655\n",
      "656\n",
      "657\n",
      "664\n",
      "666\n",
      "671\n",
      "672\n",
      "682\n",
      "683\n",
      "688\n",
      "694\n",
      "702\n",
      "706\n",
      "709\n",
      "710\n",
      "712\n",
      "721\n",
      "724\n",
      "730\n",
      "731\n",
      "738\n",
      "740\n",
      "752\n",
      "760\n",
      "763\n",
      "764\n",
      "769\n",
      "787\n",
      "789\n",
      "802\n",
      "811\n",
      "812\n",
      "816\n",
      "818\n",
      "821\n",
      "826\n",
      "831\n",
      "833\n",
      "838\n",
      "840\n",
      "842\n",
      "848\n",
      "853\n",
      "855\n",
      "858\n",
      "868\n",
      "874\n",
      "875\n",
      "876\n",
      "895\n",
      "914\n",
      "915\n",
      "917\n",
      "920\n",
      "927\n",
      "930\n",
      "933\n",
      "934\n",
      "947\n",
      "951\n",
      "960\n",
      "963\n",
      "968\n",
      "983\n",
      "988\n",
      "1003\n",
      "1004\n",
      "1011\n",
      "1013\n",
      "1018\n",
      "1023\n",
      "1030\n",
      "1033\n",
      "1035\n",
      "1037\n",
      "1039\n",
      "1040\n",
      "1041\n",
      "1044\n",
      "1046\n",
      "1048\n",
      "1062\n",
      "1071\n",
      "1074\n",
      "1079\n",
      "1083\n",
      "1084\n",
      "1092\n",
      "1095\n",
      "1096\n",
      "1100\n",
      "1104\n",
      "1106\n",
      "1108\n",
      "1135\n",
      "1136\n",
      "1140\n",
      "1144\n",
      "1150\n",
      "1152\n",
      "1154\n",
      "1157\n",
      "1159\n",
      "1160\n",
      "1164\n",
      "1165\n",
      "1168\n",
      "1171\n",
      "1178\n",
      "1179\n",
      "1184\n",
      "1186\n",
      "1196\n",
      "1211\n",
      "1212\n",
      "1213\n",
      "1217\n",
      "1220\n",
      "1222\n",
      "1226\n",
      "1233\n",
      "1238\n",
      "1243\n",
      "1248\n",
      "1251\n",
      "1254\n",
      "1256\n",
      "1257\n",
      "1266\n",
      "1267\n",
      "1275\n",
      "1278\n",
      "1279\n",
      "1286\n",
      "1291\n",
      "1292\n",
      "1294\n",
      "1303\n",
      "1304\n",
      "1306\n",
      "1312\n",
      "1321\n",
      "1333\n",
      "1337\n",
      "1341\n",
      "1353\n",
      "1359\n",
      "1365\n",
      "1370\n",
      "1371\n",
      "1373\n",
      "1374\n",
      "1380\n",
      "1384\n",
      "1387\n",
      "1393\n",
      "1395\n",
      "1404\n",
      "1406\n",
      "1409\n",
      "1411\n",
      "1416\n",
      "1418\n",
      "1425\n",
      "1427\n",
      "1442\n",
      "1448\n",
      "1453\n",
      "1457\n",
      "1465\n",
      "1473\n",
      "1482\n",
      "1488\n",
      "1491\n",
      "1495\n",
      "1497\n",
      "1502\n",
      "1511\n",
      "1519\n",
      "1520\n",
      "1523\n",
      "1536\n",
      "1542\n",
      "1557\n",
      "1560\n",
      "1561\n",
      "1567\n",
      "1572\n",
      "1575\n",
      "1584\n",
      "1589\n",
      "1590\n",
      "1591\n",
      "1607\n",
      "1617\n",
      "1624\n",
      "1642\n",
      "1651\n",
      "1657\n",
      "1659\n",
      "1665\n",
      "1666\n",
      "1669\n",
      "1676\n",
      "1679\n",
      "1682\n",
      "1683\n",
      "1691\n",
      "1693\n",
      "1698\n",
      "1704\n",
      "1709\n",
      "1713\n",
      "1714\n",
      "1717\n",
      "1722\n",
      "1725\n",
      "1726\n",
      "1731\n",
      "1744\n",
      "1748\n",
      "1755\n",
      "1757\n",
      "1760\n",
      "1762\n",
      "1764\n",
      "1766\n",
      "1770\n",
      "1775\n",
      "1779\n",
      "1780\n",
      "1781\n",
      "1786\n",
      "1787\n",
      "1788\n",
      "1790\n",
      "1791\n",
      "1802\n",
      "1805\n",
      "1808\n",
      "1818\n",
      "1821\n",
      "1829\n",
      "1833\n",
      "1837\n",
      "1841\n",
      "1844\n",
      "1849\n",
      "1853\n",
      "1866\n",
      "1871\n",
      "1876\n",
      "1878\n",
      "1885\n",
      "1887\n",
      "1900\n",
      "1903\n",
      "1905\n",
      "1910\n",
      "1911\n",
      "1913\n",
      "1916\n",
      "1918\n",
      "1921\n",
      "1922\n",
      "1925\n",
      "1926\n",
      "1928\n",
      "1930\n",
      "1936\n",
      "1937\n",
      "1938\n",
      "1940\n",
      "1945\n",
      "1948\n",
      "1959\n",
      "1961\n",
      "1963\n",
      "1964\n",
      "1972\n",
      "1974\n",
      "1975\n",
      "1979\n",
      "1988\n",
      "Acc = 1578 / 1998 = 0.7897897897897898\n"
     ]
    }
   ],
   "source": [
    "NNDemo = False\n",
    "# max_demo = 5\n",
    "max_demo = 7\n",
    "# template = 'original-sql'\n",
    "template = 'original-sql-py-no-intermediate'\n",
    "# template = 'original-sql-py-no-intermediate-v1'\n",
    "# template = 'formatv1'\n",
    "\n",
    "# demo_file = f'few-shot-demo/TabFact-formatv1.json'\n",
    "# demo_file = f'few-shot-demo/TabFact-formatv2.json'\n",
    "demo_file = f'few-shot-demo/TabFact-formatv3.json'\n",
    "# demo_file = f'../WikiTableQuestions/few-shot-demo/WikiTQ-sql-py.json'\n",
    "\n",
    "gpt_model = 'mp-aoi-codex'\n",
    "\n",
    "def parallel_codex_func(i):\n",
    "    max_retry = 3\n",
    "    while max_retry>0:\n",
    "        try:\n",
    "            codex_prompter = CodexAnswerCOTExecutor_HighTemperaturMajorityVote(\n",
    "                                              f'./prompt_template/{template}.json',\n",
    "                                              # '/mnt/text2sql/dataset/Table-Fact-Checking/prompt_template/formatv1.json',\n",
    "                                              dataset.iloc[i]['id'], \n",
    "                                              dataset.iloc[i]['utterance'], \n",
    "                                              './data/all_csv/' + dataset.iloc[i]['context'], \n",
    "                                              dataset.iloc[i]['targetValue'], \n",
    "                                              base_path='./dataset/Table-Fact-Checking/',\n",
    "                                              demo_file=demo_file,\n",
    "                                             sep='#'\n",
    "                                             )\n",
    "            codex_prompter.model = gpt_model\n",
    "            codex_prompter.max_demo = max_demo\n",
    "            \n",
    "            # codex_prompter._get_gpt_prediction_majority_vote(repeat_times=5)\n",
    "            codex_prompter._get_gpt_prediction_majority_vote(repeat_times=5, maintain_df_ids=True)\n",
    "            \n",
    "            log = codex_prompter._log_dict()\n",
    "            break\n",
    "        except Exception as e:\n",
    "            log = {\n",
    "                'id': dataset.iloc[i]['id'],\n",
    "                'uncaught_err': str(e)\n",
    "            }\n",
    "            max_retry -= 1\n",
    "    return log\n",
    "\n",
    "for program in [ 'sql', ]:\n",
    "    n_threads = 2\n",
    "    maxLimit = float('inf')\n",
    "    # maxLimit = 1\n",
    "    from joblib import Parallel, delayed\n",
    "    logs = Parallel(n_jobs=n_threads, require='sharedmem')(delayed(parallel_codex_func)(i) for i in tqdm(range(min(maxLimit, dataset.shape[0]))))\n",
    "    json.dump(logs, open(f'./dataset/Table-Fact-Checking/results/CodexAnswerCOTExecutor_MajorityVote_{template}_{program}_NNDemo={NNDemo}_results_test_small_limit{maxLimit}_model{gpt_model}.json', 'w'), indent=4)\n",
    "    correct_cnt = 0\n",
    "    for idx, l in enumerate(logs):\n",
    "        if 'predicted_value' in l and l['target_value'] == l['predicted_value']:\n",
    "            correct_cnt += 1\n",
    "        else:\n",
    "            print(idx)\n",
    "    print(f\"Acc = {correct_cnt} / {len(logs)} = {correct_cnt / len(logs)}\")"
   ]
  },
  {
   "cell_type": "code",
   "execution_count": 4,
   "id": "f0f86fef-6a4d-4ef2-967f-9e3bd9d147ba",
   "metadata": {
    "tags": []
   },
   "outputs": [
    {
     "data": {
      "text/plain": [
       "{'id': 'nt-17418',\n",
       " 'utterance': 'neil labute be nominate for best play in 2009. yes or no?',\n",
       " 'source_csv': './dataset/Table-Fact-Checking/./data/all_csv/2-18963715-1.html.csv',\n",
       " 'target_value': 'yes',\n",
       " 'predicted_value': 'yes',\n",
       " 'prompt': 'The database table DF is shown as follows:\\n[HEAD]: year|venue|winner|country|score\\n---\\n[ROW] 1: 2005|arlandastad|david patrick|scotland|272\\n[ROW] 2: 2004|arlandastad|matthew king|england|270\\n[ROW] 3: 2003|falsterbo|titch moore|south africa|273\\n[ROW] 4: 2002|halmstad|thomas besancenez|france|279\\n[ROW] 5: 2001|bokskogens|cristophe pottier|france|272\\n\\nJudge whether the following statement is correct or not: \"in 2004 the score be less than 270. yes or no?\". Generate SQL or Python code step-by-step given the question and table to answer the question correctly. For each step, generate SQL code to process the query or Python code to reformat the data. Output the code braced by \"```\" and an external executor will process the code generated and feed an intermediate table back to you. Answer the question directly (yes or no) if confident.\\n\\nSQL: ```SELECT score FROM DF WHERE year=2004;```.\\n\\nIntermediate table: [HEAD]: score\\n---\\n[ROW] 1: 270\\n\\nAnswer: ```no```.\\n\\nThe database table DF is shown as follows:\\n[HEAD]: nat|name|moving_from|type|transfer_window|transfer_fee\\n---\\n[ROW] 1: esp|mikel arteta|barcelona|transfer|summer|5.8 m\\n[ROW] 2: aus|kevin muscat|wolverhampton wanderers|transfer|summer|free\\n[ROW] 3: sco|steven thompson|dundee united|transfer|winter|0.2 m\\n[ROW] 4: fra|jerome bonnissel|bordeaux|transfer|winter|free\\n[ROW] 5: nor|dan eggen|deportivo alavés|transfer|winter|free\\n\\nJudge whether the following statement is correct or not: \"there be 3 total transfer in the winter. yes or no?\". Generate SQL or Python code step-by-step given the question and table to answer the question correctly. For each step, generate SQL code to process the query or Python code to reformat the data. Output the code braced by \"```\" and an external executor will process the code generated and feed an intermediate table back to you. Answer the question directly (yes or no) if confident.\\n\\nSQL: ```SELECT * FROM DF WHERE transfer_window=\"winter\";```.\\n\\nIntermediate table: [HEAD]: nat|name|moving_from|type|transfer_window|transfer_fee\\n---\\n[ROW] 1: sco|steven thompson|dundee united|transfer|winter|0.2 m\\n[ROW] 2: fra|jerome bonnissel|bordeaux|transfer|winter|free\\n[ROW] 3: nor|dan eggen|deportivo alavés|transfer|winter|free\\n\\nSQL: ```SELECT COUNT(*) FROM DF;```.\\n\\nIntermediate table: [HEAD]: COUNT(*)\\n---\\n[ROW] 1: 3\\n\\nAnswer: ```yes```.\\n\\nThe database table DF is shown as follows:\\n[HEAD]: opposing_team|against|date|venue|round\\n---\\n[ROW] 1: gillingham|1|1991 - aug - 20|fratton park|1st round 1st leg\\n[ROW] 2: gillingham|3|1991 - aug - 27|priestfield stadium|1st round 2nd leg\\n[ROW] 3: oxford united|0|1991 - sep - 24|fratton park|2nd round 1st leg\\n[ROW] 4: oxford united|0|1991 - oct - 09|manor ground|2nd round 2nd leg\\n[ROW] 5: manchester united|3|1991 - oct - 30|old trafford|3rd round\\n\\nJudge whether the following statement is correct or not: \"there be 1 game play oppose to gillingham in august. yes or no?\". Generate SQL or Python code step-by-step given the question and table to answer the question correctly. For each step, generate SQL code to process the query or Python code to reformat the data. Output the code braced by \"```\" and an external executor will process the code generated and feed an intermediate table back to you. Answer the question directly (yes or no) if confident.\\n\\nSQL: ```SELECT * FROM DF where date LIKE \"%- aug -%\" AND opposing_team=\"gillingham\";```.\\n\\nIntermediate table: [HEAD]: opposing_team|against|date|venue|round\\n---\\n[ROW] 1: gillingham|1|1991 - aug - 20|fratton park|1st round 1st leg\\n[ROW] 2: gillingham|3|1991 - aug - 27|priestfield stadium|1st round 2nd leg\\n\\nSQL: ```SELECT COUNT(*) FROM DF;```.\\n\\nIntermediate table: [HEAD]: COUNT(*)\\n---\\n[ROW] 1: 2\\n\\nAnswer: ```no```.\\n\\nThe database table DF is shown as follows:\\n[HEAD]: date|opponent|home_away|field|result\\n---\\n[ROW] 1: may 31, 1998|rattlers|away|bishop kearney field|l 13 - 23\\n[ROW] 2: june 6, 2019|cannons|home|the ballpark at harbor yard|l 17 - 23\\n[ROW] 3: june 12, 2017|bayhawks|home|the ballpark at harbor yard|l 14 - 21\\n[ROW] 4: june 14, 2020|pride|away|commerce bank ballpark|l 9 - 16\\n[ROW] 5: june 27, 1988|lizards|away|mitchel athletic complex|l 19 - 23\\n[ROW] 6: july 12, 1977|lizards|home|the ballpark at harbor yard|l 16 - 17\\n[ROW] 7: july 19, 1992|bayhawks|away|homewood field|w 22 - 17\\n[ROW] 8: july 24, 1993|rattlers|home|the ballpark at harbor yard|l 19 - 21\\n...\\n[ROW] 11: august 7, 1994|cannons|away|cawley memorial stadium|l 15 - 21\\n[ROW] 12: august 14, 1994|rattlers|home|the ballpark at harbor yard|l 18 - 23\\n\\nJudge whether the following statement is correct or not: \"on jul 19 , the bayhawks play a game at homewood field. yes or no?\". Generate SQL or Python code step-by-step given the question and table to answer the question correctly. For each step, generate SQL code to process the query or Python code to reformat the data. Output the code braced by \"```\" and an external executor will process the code generated and feed an intermediate table back to you. Answer the question directly (yes or no) if confident.\\n\\nSQL: ```SELECT field FROM DF WHERE date LIKE \"july 19%\";```.\\n\\nIntermediate table: [HEAD]: field\\n---\\n[ROW] 1: homewood field\\n\\nAnswer: ```yes```.\\n\\nThe database table DF is shown as follows:\\n[HEAD]: date|course|distance|type|winner\\n---\\n[ROW] 1: 18 may|athens ( greece ) to athens ( greece )|-|plain stage|silvio martinello ( ita )\\n[ROW] 2: 19 may|eleusis ( greece ) to naupactus ( greece )|-|plain stage|glenn magnusson ( swe )\\n[ROW] 3: 20 may|missolonghi ( greece ) to ioannina ( greece )|-|plain stage|giovanni lombardi ( ita )\\n[ROW] 4: 21 may|rest day|rest day|rest day|rest day\\n[ROW] 5: 22 may|ostuni to ostuni|-|plain stage|mario cipollini ( ita )\\n[ROW] 6: 23 may|metaponto to crotone|-|plain stage|ángel edo ( esp )\\n[ROW] 7: 24 may|crotone to catanzaro|-|hilly stage|pascal hervé ( fra )\\n[ROW] 8: 25 may|amantea to massiccio del sirino|-|stage with mountain (s)|davide rebellin ( ita )\\n...\\n[ROW] 23: 9 june|sondrio to milan|-|plain stage|serguei outschakov ( ukr )\\n[ROW] 24: total|total|-|km (mi)|km (mi)\\n\\nJudge whether the following statement is correct or not: \"mario cipollini (ita) be the only winner from italy in 7 of the race from 18 may to 9 june. yes or no?\". Generate SQL or Python code step-by-step given the question and table to answer the question correctly. For each step, generate SQL code to process the query or Python code to reformat the data. Output the code braced by \"```\" and an external executor will process the code generated and feed an intermediate table back to you. Answer the question directly (yes or no) if confident.\\n\\nSQL: ```SELECT * FROM DF WHERE winner LIKE \"%( ita )\";```.\\n\\nIntermediate table: [HEAD]: date|course|distance|type|winner\\n---\\n[ROW] 1: 18 may|athens ( greece ) to athens ( greece )|-|plain stage|silvio martinello ( ita )\\n[ROW] 2: 20 may|missolonghi ( greece ) to ioannina ( greece )|-|plain stage|giovanni lombardi ( ita )\\n[ROW] 3: 22 may|ostuni to ostuni|-|plain stage|mario cipollini ( ita )\\n[ROW] 4: 25 may|amantea to massiccio del sirino|-|stage with mountain (s)|davide rebellin ( ita )\\n[ROW] 5: 26 may|polla to naples|-|plain stage|mario cipollini ( ita )\\n[ROW] 6: 27 may|naples to fiuggi|-|hilly stage|enrico zaina ( ita )\\n[ROW] 7: 28 may|arezzo to prato|-|hilly stage|rodolfo massi ( ita )\\n[ROW] 8: 29 may|prato to marina di massa|-|plain stage|mario cipollini ( ita )\\n...\\n[ROW] 12: 7 june|marostica to passo pordoi|-|stage with mountain (s)|enrico zaina ( ita )\\n[ROW] 13: 8 june|cavalese to aprica|-|stage with mountain (s)|ivan gotti ( ita )\\n\\nSQL: ```SELECT winner, COUNT(*) FROM DF GROUP BY winner;```.\\n\\nIntermediate table: [HEAD]: winner|count(*)\\n---\\n[ROW] 1: davide rebellin ( ita )|1\\n[ROW] 2: enrico zaina ( ita )|2\\n[ROW] 3: fabiano fontanelli ( ita )|1\\n[ROW] 4: gianni bugno ( ita )|1\\n[ROW] 5: giovanni lombardi ( ita )|1\\n[ROW] 6: ivan gotti ( ita )|1\\n[ROW] 7: mario cipollini ( ita )|4\\n[ROW] 8: rodolfo massi ( ita )|1\\n[ROW] 9: silvio martinello ( ita )|1\\n\\nAnswer: ```no```.\\n\\nThe database table DF is shown as follows:\\n[HEAD]: year|tournament|venue|result|event\\n---\\n[ROW] 1: 1997|world cross country championships|turin , italy|25th|long race\\n[ROW] 2: 1998|world cross country championships|marrakech , morocco|26th|long race\\n[ROW] 3: 1998|world cross country championships|marrakech , morocco|6th|team competition\\n[ROW] 4: 2001|world half marathon championships|bristol , england|22nd|half marathon\\n[ROW] 5: 2001|world half marathon championships|bristol , england|3rd|team competition\\n\\nJudge whether the following statement is correct or not: \"in 2001 , benedict ako participate in 2 race , the half marathon and the team competition. yes or no?\". Generate SQL or Python code step-by-step given the question and table to answer the question correctly. For each step, generate SQL code to process the query or Python code to reformat the data. Output the code braced by \"```\" and an external executor will process the code generated and feed an intermediate table back to you. Answer the question directly (yes or no) if confident.\\n\\nSQL: ```SELECT year, event FROM DF WHERE year=2001;```.\\n\\nIntermediate table: [HEAD]: year|event\\n---\\n[ROW] 1: 2001|half marathon\\n[ROW] 2: 2001|team competition\\n\\nSQL: ```SELECT event, COUNT(*) FROM DF WHERE event=\"half marathon\" or event=\"team competition\" GROUP BY event;```.\\n\\nIntermediate table: [HEAD]: event|count(*)\\n---\\n[ROW] 1: half marathon|1\\n[ROW] 2: team competition|1\\n\\nAnswer: ```yes```.\\n\\nThe database table DF is shown as follows:\\n[HEAD]: species|strain|type|base_pairs|genes\\n---\\n[ROW] 1: borrelia burgdorferi|b31|spirochaetes|910724|850\\n[ROW] 2: borrelia garinii|pbi|spirochaetes|904246|832\\n[ROW] 3: leptospira interrogans|56601|spirochaetes|4332241|4358\\n[ROW] 4: unspecified|unspecified|spirochaetes|358943|367\\n[ROW] 5: leptospira interrogans|fiocruzl1130|spirochaetes|4277185|3394\\n[ROW] 6: unspecified|unspecified|spirochaetes|350181|264\\n[ROW] 7: treponema denticola|atcc35405|spirochaetes|2843201|2767\\n[ROW] 8: treponema pallidum|nichols|spirochaetes|1138011|1031\\n\\nJudge whether the following statement is correct or not: \"the base pair be 358943 when strain be unspecified. yes or no?\". Generate SQL or Python code step-by-step given the question and table to answer the question correctly. For each step, generate SQL code to process the query or Python code to reformat the data. Output the code braced by \"```\" and an external executor will process the code generated and feed an intermediate table back to you. Answer the question directly (yes or no) if confident.\\n\\nSQL: ```SELECT strain FROM DF WHERE base_pairs=358943;```.\\n\\nIntermediate table: [HEAD]: strain\\n---\\n[ROW] 1: unspecified\\n\\nAnswer: ```yes```.\\n\\nThe database table DF is shown as follows:\\n[HEAD]: year|award_ceremony|category|nominee|result\\n---\\n[ROW] 1: 2009|tony award|best play|neil labute|nominated\\n[ROW] 2: 2009|tony award|best performance by a leading actor in a play|thomas sadoski|nominated\\n[ROW] 3: 2009|tony award|best performance by a featured actress in a play|marin ireland|nominated\\n[ROW] 4: 2009|drama desk award|outstanding play|outstanding play|nominated\\n[ROW] 5: 2009|drama desk award|outstanding actor in a play|thomas sadoski|nominated\\n[ROW] 6: 2009|drama desk award|outstanding director of a play|terry kinney|nominated\\n[ROW] 7: 2009|theatre world award|theatre world award|marin ireland|won\\n\\nJudge whether the following statement is correct or not: \"neil labute be nominate for best play in 2009. yes or no?\". Generate SQL or Python code step-by-step given the question and table to answer the question correctly. For each step, generate SQL code to process the query or Python code to reformat the data. Output the code braced by \"```\" and an external executor will process the code generated and feed an intermediate table back to you. Answer the question directly (yes or no) if confident.\\n\\nSQL: ```SELECT category FROM DF WHERE year=2009 AND nominee=\"neil labute\";```.\\n\\nIntermediate table: [HEAD]: category\\n---\\n[ROW] 1: best play',\n",
       " 'execution_match': None,\n",
       " 'gpt_error': 'Unsupported code type generated: The database table DF is shown as follows (The database table DF is shown as follows:\\n[HEAD]: year|award_ceremony|category|nominee|result\\n---\\n[ROW] 1: 2009|tony award|best play|neil labute|nominated\\n[ROW] 2: 2009|tony award|best performance by a leading actor in a play|thomas sadoski|nominated\\n[ROW] 3: 2009|tony award|best performance by a featured actress in a play|marin ireland|nominated\\n[ROW] 4: 2009|drama desk award|outstanding play|outstanding play|nominated\\n[ROW] 5: 2009|drama desk award|outstanding actor in a play|thomas sadoski|nominated\\n[ROW] 6: 2009|drama desk award|outstanding director of a play|terry kinney|nominated\\n[ROW] 7: 2009|theatre world award|theatre world award|marin ireland|won\\n\\nJudge whether the following statement is correct or not: \"neil labute be nominate for best play in 2009. yes or no?\". Generate SQL or Python)',\n",
       " 'execution_err': None,\n",
       " 'predicted_sql': None,\n",
       " 'df_reformat_sql': None,\n",
       " 'gpt_original_output': ['SQL: ```SELECT category FROM DF WHERE year=2009 AND nominee=\"neil labute\";',\n",
       "  'Answer: ```yes'],\n",
       " 'all_predictions': ['yes', 'yes', 'yes', 'yes', 'yes'],\n",
       " 'training_demo_ids': []}"
      ]
     },
     "execution_count": 4,
     "metadata": {},
     "output_type": "execute_result"
    }
   ],
   "source": [
    "logs[0]"
   ]
  },
  {
   "cell_type": "code",
   "execution_count": 7,
   "id": "98bdb938-542d-4c23-b91e-06762e870a37",
   "metadata": {},
   "outputs": [
    {
     "data": {
      "text/plain": [
       "{'id': 'nt-17418',\n",
       " 'utterance': 'neil labute be nominate for best play in 2009. yes or no?',\n",
       " 'source_csv': './dataset/Table-Fact-Checking/./data/all_csv/2-18963715-1.html.csv',\n",
       " 'target_value': 'yes',\n",
       " 'predicted_value': 'yes',\n",
       " 'prompt': 'The database table DF is shown as follows:\\n[HEAD]: year|venue|winner|country|score\\n---\\n[ROW] 1: 2005|arlandastad|david patrick|scotland|272\\n[ROW] 2: 2004|arlandastad|matthew king|england|270\\n[ROW] 3: 2003|falsterbo|titch moore|south africa|273\\n[ROW] 4: 2002|halmstad|thomas besancenez|france|279\\n[ROW] 5: 2001|bokskogens|cristophe pottier|france|272\\n\\nAnswer the following question based on the data above: \"in 2004 the score be less than 270. yes or no?\". Execute SQL  code step-by-step and finally answer the question. Choose from generating a SQL code or directly answering the question.\\n\\nSQL: ```SELECT score FROM DF WHERE year=2004;```.\\n\\nThe database table DF is shown as follows:\\n[HEAD]: score\\n---\\n[ROW] 1: 270\\n\\nAnswer the following question based on the data above: \"in 2004 the score be less than 270. yes or no?\". Execute SQL code step-by-step and finally answer the question. Choose from generating a SQL code or directly answering the question.\\n\\nAnswer: ```no```.\\n\\nThe database table DF is shown as follows:\\n[HEAD]: nat|name|moving_from|type|transfer_window|transfer_fee\\n---\\n[ROW] 1: esp|mikel arteta|barcelona|transfer|summer|5.8 m\\n[ROW] 2: aus|kevin muscat|wolverhampton wanderers|transfer|summer|free\\n[ROW] 3: sco|steven thompson|dundee united|transfer|winter|0.2 m\\n[ROW] 4: fra|jerome bonnissel|bordeaux|transfer|winter|free\\n[ROW] 5: nor|dan eggen|deportivo alavés|transfer|winter|free\\n\\nAnswer the following question based on the data above: \"there be 3 total transfer in the winter. yes or no?\". Execute SQL  code step-by-step and finally answer the question. Choose from generating a SQL code or directly answering the question.\\n\\nSQL: ```SELECT * FROM DF WHERE transfer_window=\"winter\";```.\\n\\nThe database table DF is shown as follows:\\n[HEAD]: nat|name|moving_from|type|transfer_window|transfer_fee\\n---\\n[ROW] 1: sco|steven thompson|dundee united|transfer|winter|0.2 m\\n[ROW] 2: fra|jerome bonnissel|bordeaux|transfer|winter|free\\n[ROW] 3: nor|dan eggen|deportivo alavés|transfer|winter|free\\n\\nAnswer the following question based on the data above: \"there be 3 total transfer in the winter. yes or no?\". Execute SQL code step-by-step and finally answer the question. Choose from generating a SQL code or directly answering the question.\\n\\nSQL: ```SELECT COUNT(*) FROM DF;```.\\n\\nThe database table DF is shown as follows:\\n[HEAD]: COUNT(*)\\n---\\n[ROW] 1: 3\\n\\nAnswer the following question based on the data above: \"there be 3 total transfer in the winter. yes or no?\". Execute SQL code step-by-step and finally answer the question. Choose from generating a SQL code or directly answering the question.\\n\\nAnswer: ```yes```.\\n\\nThe database table DF is shown as follows:\\n[HEAD]: opposing_team|against|date|venue|round\\n---\\n[ROW] 1: gillingham|1|1991 - aug - 20|fratton park|1st round 1st leg\\n[ROW] 2: gillingham|3|1991 - aug - 27|priestfield stadium|1st round 2nd leg\\n[ROW] 3: oxford united|0|1991 - sep - 24|fratton park|2nd round 1st leg\\n[ROW] 4: oxford united|0|1991 - oct - 09|manor ground|2nd round 2nd leg\\n[ROW] 5: manchester united|3|1991 - oct - 30|old trafford|3rd round\\n\\nAnswer the following question based on the data above: \"there be 1 game play oppose to gillingham in august. yes or no?\". Execute SQL  code step-by-step and finally answer the question. Choose from generating a SQL code or directly answering the question.\\n\\nSQL: ```SELECT * FROM DF where date LIKE \"%- aug -%\" AND opposing_team=\"gillingham\";```.\\n\\nThe database table DF is shown as follows:\\n[HEAD]: opposing_team|against|date|venue|round\\n---\\n[ROW] 1: gillingham|1|1991 - aug - 20|fratton park|1st round 1st leg\\n[ROW] 2: gillingham|3|1991 - aug - 27|priestfield stadium|1st round 2nd leg\\n\\nAnswer the following question based on the data above: \"there be 1 game play oppose to gillingham in august. yes or no?\". Execute SQL code step-by-step and finally answer the question. Choose from generating a SQL code or directly answering the question.\\n\\nSQL: ```SELECT COUNT(*) FROM DF;```.\\n\\nThe database table DF is shown as follows:\\n[HEAD]: COUNT(*)\\n---\\n[ROW] 1: 2\\n\\nAnswer the following question based on the data above: \"there be 1 game play oppose to gillingham in august. yes or no?\". Execute SQL code step-by-step and finally answer the question. Choose from generating a SQL code or directly answering the question.\\n\\nAnswer: ```no```.\\n\\nThe database table DF is shown as follows:\\n[HEAD]: date|opponent|home_away|field|result\\n---\\n[ROW] 1: may 31, 1998|rattlers|away|bishop kearney field|l 13 - 23\\n[ROW] 2: june 6, 2019|cannons|home|the ballpark at harbor yard|l 17 - 23\\n[ROW] 3: june 12, 2017|bayhawks|home|the ballpark at harbor yard|l 14 - 21\\n[ROW] 4: june 14, 2020|pride|away|commerce bank ballpark|l 9 - 16\\n[ROW] 5: june 27, 1988|lizards|away|mitchel athletic complex|l 19 - 23\\n[ROW] 6: july 12, 1977|lizards|home|the ballpark at harbor yard|l 16 - 17\\n[ROW] 7: july 19, 1992|bayhawks|away|homewood field|w 22 - 17\\n[ROW] 8: july 24, 1993|rattlers|home|the ballpark at harbor yard|l 19 - 21\\n...\\n[ROW] 11: august 7, 1994|cannons|away|cawley memorial stadium|l 15 - 21\\n[ROW] 12: august 14, 1994|rattlers|home|the ballpark at harbor yard|l 18 - 23\\n\\nAnswer the following question based on the data above: \"on jul 19 , the bayhawks play a game at homewood field. yes or no?\". Execute SQL  code step-by-step and finally answer the question. Choose from generating a SQL code or directly answering the question.\\n\\nSQL: ```SELECT field FROM DF WHERE date LIKE \"july 19%\";```.\\n\\nThe database table DF is shown as follows:\\n[HEAD]: field\\n---\\n[ROW] 1: homewood field\\n\\nAnswer the following question based on the data above: \"on jul 19 , the bayhawks play a game at homewood field. yes or no?\". Execute SQL code step-by-step and finally answer the question. Choose from generating a SQL code or directly answering the question.\\n\\nAnswer: ```yes```.\\n\\nThe database table DF is shown as follows:\\n[HEAD]: date|course|distance|type|winner\\n---\\n[ROW] 1: 18 may|athens ( greece ) to athens ( greece )|-|plain stage|silvio martinello ( ita )\\n[ROW] 2: 19 may|eleusis ( greece ) to naupactus ( greece )|-|plain stage|glenn magnusson ( swe )\\n[ROW] 3: 20 may|missolonghi ( greece ) to ioannina ( greece )|-|plain stage|giovanni lombardi ( ita )\\n[ROW] 4: 21 may|rest day|rest day|rest day|rest day\\n[ROW] 5: 22 may|ostuni to ostuni|-|plain stage|mario cipollini ( ita )\\n[ROW] 6: 23 may|metaponto to crotone|-|plain stage|ángel edo ( esp )\\n[ROW] 7: 24 may|crotone to catanzaro|-|hilly stage|pascal hervé ( fra )\\n[ROW] 8: 25 may|amantea to massiccio del sirino|-|stage with mountain (s)|davide rebellin ( ita )\\n...\\n[ROW] 23: 9 june|sondrio to milan|-|plain stage|serguei outschakov ( ukr )\\n[ROW] 24: total|total|-|km (mi)|km (mi)\\n\\nAnswer the following question based on the data above: \"mario cipollini (ita) be the only winner from italy in 7 of the race from 18 may to 9 june. yes or no?\". Execute SQL  code step-by-step and finally answer the question. Choose from generating a SQL code or directly answering the question.\\n\\nSQL: ```SELECT * FROM DF WHERE winner LIKE \"%( ita )\";```.\\n\\nThe database table DF is shown as follows:\\n[HEAD]: date|course|distance|type|winner\\n---\\n[ROW] 1: 18 may|athens ( greece ) to athens ( greece )|-|plain stage|silvio martinello ( ita )\\n[ROW] 2: 20 may|missolonghi ( greece ) to ioannina ( greece )|-|plain stage|giovanni lombardi ( ita )\\n[ROW] 3: 22 may|ostuni to ostuni|-|plain stage|mario cipollini ( ita )\\n[ROW] 4: 25 may|amantea to massiccio del sirino|-|stage with mountain (s)|davide rebellin ( ita )\\n[ROW] 5: 26 may|polla to naples|-|plain stage|mario cipollini ( ita )\\n[ROW] 6: 27 may|naples to fiuggi|-|hilly stage|enrico zaina ( ita )\\n[ROW] 7: 28 may|arezzo to prato|-|hilly stage|rodolfo massi ( ita )\\n[ROW] 8: 29 may|prato to marina di massa|-|plain stage|mario cipollini ( ita )\\n...\\n[ROW] 12: 7 june|marostica to passo pordoi|-|stage with mountain (s)|enrico zaina ( ita )\\n[ROW] 13: 8 june|cavalese to aprica|-|stage with mountain (s)|ivan gotti ( ita )\\n\\nAnswer the following question based on the data above: \"mario cipollini (ita) be the only winner from italy in 7 of the race from 18 may to 9 june. yes or no?\". Execute SQL code step-by-step and finally answer the question. Choose from generating a SQL code or directly answering the question.\\n\\nSQL: ```SELECT winner, COUNT(*) FROM DF GROUP BY winner;```.\\n\\nThe database table DF is shown as follows:\\n[HEAD]: winner|count(*)\\n---\\n[ROW] 1: davide rebellin ( ita )|1\\n[ROW] 2: enrico zaina ( ita )|2\\n[ROW] 3: fabiano fontanelli ( ita )|1\\n[ROW] 4: gianni bugno ( ita )|1\\n[ROW] 5: giovanni lombardi ( ita )|1\\n[ROW] 6: ivan gotti ( ita )|1\\n[ROW] 7: mario cipollini ( ita )|4\\n[ROW] 8: rodolfo massi ( ita )|1\\n[ROW] 9: silvio martinello ( ita )|1\\n\\nAnswer the following question based on the data above: \"mario cipollini (ita) be the only winner from italy in 7 of the race from 18 may to 9 june. yes or no?\". Execute SQL code step-by-step and finally answer the question. Choose from generating a SQL code or directly answering the question.\\n\\nAnswer: ```no```.\\n\\nThe database table DF is shown as follows:\\n[HEAD]: year|tournament|venue|result|event\\n---\\n[ROW] 1: 1997|world cross country championships|turin , italy|25th|long race\\n[ROW] 2: 1998|world cross country championships|marrakech , morocco|26th|long race\\n[ROW] 3: 1998|world cross country championships|marrakech , morocco|6th|team competition\\n[ROW] 4: 2001|world half marathon championships|bristol , england|22nd|half marathon\\n[ROW] 5: 2001|world half marathon championships|bristol , england|3rd|team competition\\n\\nAnswer the following question based on the data above: \"in 2001 , benedict ako participate in 2 race , the half marathon and the team competition. yes or no?\". Execute SQL  code step-by-step and finally answer the question. Choose from generating a SQL code or directly answering the question.\\n\\nSQL: ```SELECT year, event FROM DF WHERE year=2001;```.\\n\\nThe database table DF is shown as follows:\\n[HEAD]: year|event\\n---\\n[ROW] 1: 2001|half marathon\\n[ROW] 2: 2001|team competition\\n\\nAnswer the following question based on the data above: \"in 2001 , benedict ako participate in 2 race , the half marathon and the team competition. yes or no?\". Execute SQL code step-by-step and finally answer the question. Choose from generating a SQL code or directly answering the question.\\n\\nSQL: ```SELECT event, COUNT(*) FROM DF WHERE event=\"half marathon\" or event=\"team competition\" GROUP BY event;```.\\n\\nThe database table DF is shown as follows:\\n[HEAD]: event|count(*)\\n---\\n[ROW] 1: half marathon|1\\n[ROW] 2: team competition|1\\n\\nAnswer the following question based on the data above: \"in 2001 , benedict ako participate in 2 race , the half marathon and the team competition. yes or no?\". Execute SQL code step-by-step and finally answer the question. Choose from generating a SQL code or directly answering the question.\\n\\nAnswer: ```yes```.\\n\\nThe database table DF is shown as follows:\\n[HEAD]: species|strain|type|base_pairs|genes\\n---\\n[ROW] 1: borrelia burgdorferi|b31|spirochaetes|910724|850\\n[ROW] 2: borrelia garinii|pbi|spirochaetes|904246|832\\n[ROW] 3: leptospira interrogans|56601|spirochaetes|4332241|4358\\n[ROW] 4: unspecified|unspecified|spirochaetes|358943|367\\n[ROW] 5: leptospira interrogans|fiocruzl1130|spirochaetes|4277185|3394\\n[ROW] 6: unspecified|unspecified|spirochaetes|350181|264\\n[ROW] 7: treponema denticola|atcc35405|spirochaetes|2843201|2767\\n[ROW] 8: treponema pallidum|nichols|spirochaetes|1138011|1031\\n\\nAnswer the following question based on the data above: \"the base pair be 358943 when strain be unspecified. yes or no?\". Execute SQL  code step-by-step and finally answer the question. Choose from generating a SQL code or directly answering the question.\\n\\nSQL: ```SELECT strain FROM DF WHERE base_pairs=358943;```.\\n\\nThe database table DF is shown as follows:\\n[HEAD]: strain\\n---\\n[ROW] 1: unspecified\\n\\nAnswer the following question based on the data above: \"the base pair be 358943 when strain be unspecified. yes or no?\". Execute SQL code step-by-step and finally answer the question. Choose from generating a SQL code or directly answering the question.\\n\\nAnswer: ```yes```.\\n\\nThe database table DF is shown as follows:\\n[HEAD]: year|award_ceremony|category|nominee|result\\n---\\n[ROW] 1: 2009|tony award|best play|neil labute|nominated\\n[ROW] 2: 2009|tony award|best performance by a leading actor in a play|thomas sadoski|nominated\\n[ROW] 3: 2009|tony award|best performance by a featured actress in a play|marin ireland|nominated\\n[ROW] 4: 2009|drama desk award|outstanding play|outstanding play|nominated\\n[ROW] 5: 2009|drama desk award|outstanding actor in a play|thomas sadoski|nominated\\n[ROW] 6: 2009|drama desk award|outstanding director of a play|terry kinney|nominated\\n[ROW] 7: 2009|theatre world award|theatre world award|marin ireland|won\\n\\nAnswer the following question based on the data above: \"neil labute be nominate for best play in 2009. yes or no?\". Execute SQL  code step-by-step and finally answer the question. Choose from generating a SQL code or directly answering the question.\\n\\nSQL: ```SELECT * FROM DF WHERE year=2009 AND category=\"best play\";```.\\n\\nThe database table DF is shown as follows:\\n[HEAD]: year|award_ceremony|category|nominee|result\\n---\\n[ROW] 1: 2009|tony award|best play|neil labute|nominated\\n\\nAnswer the following question based on the data above: \"neil labute be nominate for best play in 2009. yes or no?\". Execute SQL code step-by-step and finally answer the question. Choose from generating a SQL code or directly answering the question.',\n",
       " 'execution_match': None,\n",
       " 'gpt_error': None,\n",
       " 'execution_err': None,\n",
       " 'predicted_sql': None,\n",
       " 'df_reformat_sql': None,\n",
       " 'gpt_original_output': ['SQL: ```SELECT * FROM DF WHERE year=2009 AND category=\"best play\";',\n",
       "  'Answer: ```yes'],\n",
       " 'training_demo_ids': []}"
      ]
     },
     "execution_count": 7,
     "metadata": {},
     "output_type": "execute_result"
    }
   ],
   "source": [
    "def parallel_codex_func(i):\n",
    "\n",
    "    codex_prompter = CodexAnswerCOTExecutor_template(\n",
    "                                      f'/mnt/text2sql/dataset/Table-Fact-Checking/prompt_template/{template}.json',\n",
    "                                      # '/mnt/text2sql/dataset/Table-Fact-Checking/prompt_template/formatv1.json',\n",
    "                                      dataset.iloc[i]['id'], \n",
    "                                      dataset.iloc[i]['utterance'], \n",
    "                                      './data/all_csv/' + dataset.iloc[i]['context'], \n",
    "                                      dataset.iloc[i]['targetValue'], \n",
    "                                      base_path='./dataset/Table-Fact-Checking/',\n",
    "                                      demo_file=f'few-shot-demo/TabFact-formatv1.json',\n",
    "                                     sep='#'\n",
    "                                     )\n",
    "    codex_prompter.model = gpt_model\n",
    "    codex_prompter.max_demo = max_demo\n",
    "    # codex_prompter._gen_gpt_prompt()\n",
    "    codex_prompter._gen_gpt_prompt()\n",
    "    codex_prompter._get_gpt_prediction()\n",
    "    log = codex_prompter._log_dict()\n",
    "    return log\n",
    "parallel_codex_func(0)"
   ]
  },
  {
   "cell_type": "code",
   "execution_count": null,
   "id": "8acf3f80-0eae-4afd-8876-ff68c4eb9d66",
   "metadata": {},
   "outputs": [],
   "source": []
  }
 ],
 "metadata": {
  "kernelspec": {
   "display_name": "Python 3 (ipykernel)",
   "language": "python",
   "name": "python3"
  },
  "language_info": {
   "codemirror_mode": {
    "name": "ipython",
    "version": 3
   },
   "file_extension": ".py",
   "mimetype": "text/x-python",
   "name": "python",
   "nbconvert_exporter": "python",
   "pygments_lexer": "ipython3",
   "version": "3.8.10"
  }
 },
 "nbformat": 4,
 "nbformat_minor": 5
}
